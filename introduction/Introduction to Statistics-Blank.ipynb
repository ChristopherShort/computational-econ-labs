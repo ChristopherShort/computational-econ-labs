{
 "metadata": {
  "name": ""
 },
 "nbformat": 3,
 "nbformat_minor": 0,
 "worksheets": [
  {
   "cells": [
    {
     "cell_type": "markdown",
     "metadata": {},
     "source": [
      "<div align='center' ><img src='https://raw.github.com/davidrpugh/computational-econ-labs/master/graduate/images/sgpe-logo.jpg' width=\"1200\" height=\"100\"></div>"
     ]
    },
    {
     "cell_type": "markdown",
     "metadata": {},
     "source": [
      "# *Numerical Methods for Economists:* Introduction to Statistics"
     ]
    },
    {
     "cell_type": "code",
     "collapsed": false,
     "input": [],
     "language": "python",
     "metadata": {},
     "outputs": [],
     "prompt_number": 37
    },
    {
     "cell_type": "markdown",
     "metadata": {},
     "source": [
      "Task 1: Plotting probability distributions using SciPy and Matplotlib\n",
      "=====================================================================\n",
      "\n",
      "In this task you will learn how to create Python objects representing random variables using the SciPy sub-module [scipy.stats](http://docs.scipy.org/doc/scipy/reference/stats.html).  Once we have learned how to create randoms variable objects representing specific probability distributions, we can use methods defined for such objects to make plots of the [probability density function (pdf)](http://en.wikipedia.org/wiki/Probability_density_function), [cumulative distribution function (cdf)](http://en.wikipedia.org/wiki/Cumulative_distribution_function), and the [survival function (sf)](http://en.wikipedia.org/wiki/Survival_function).  Furthermore, we will also be able to generate random samples of data from our distributions which can be used in simulations.\n",
      "\n",
      "Let's get started by looking at the contents of the scipy.stats module:"
     ]
    },
    {
     "cell_type": "code",
     "collapsed": false,
     "input": [],
     "language": "python",
     "metadata": {},
     "outputs": []
    },
    {
     "cell_type": "markdown",
     "metadata": {},
     "source": [
      "Although all of the probability distributions are defined individually in the scipy.stats module, they can also be accessed collectively in the sub-sub-module called scipy.stats.distributions."
     ]
    },
    {
     "cell_type": "code",
     "collapsed": false,
     "input": [],
     "language": "python",
     "metadata": {},
     "outputs": []
    },
    {
     "cell_type": "markdown",
     "metadata": {},
     "source": [
      "Let's look at the [Normal (or Gaussian)](http://en.wikipedia.org/wiki/Normal_distribution) distribution more closely."
     ]
    },
    {
     "cell_type": "code",
     "collapsed": false,
     "input": [],
     "language": "python",
     "metadata": {},
     "outputs": [],
     "prompt_number": 2
    },
    {
     "cell_type": "markdown",
     "metadata": {},
     "source": [
      "Using the information about syntax provided in the help menus we can create a random variable object representing a Normal distribution for specified values of $\\mu$ and $\\sigma$ as follows."
     ]
    },
    {
     "cell_type": "code",
     "collapsed": false,
     "input": [],
     "language": "python",
     "metadata": {},
     "outputs": [],
     "prompt_number": 3
    },
    {
     "cell_type": "code",
     "collapsed": false,
     "input": [],
     "language": "python",
     "metadata": {},
     "outputs": []
    },
    {
     "cell_type": "markdown",
     "metadata": {},
     "source": [
      "Now that we have created a Normal distribution as random variable object, we can access various methods associated with all rv_frozen objects."
     ]
    },
    {
     "cell_type": "code",
     "collapsed": false,
     "input": [],
     "language": "python",
     "metadata": {},
     "outputs": []
    },
    {
     "cell_type": "markdown",
     "metadata": {},
     "source": [
      "We can use some of these methods to create plots of the [probability density function (pdf)](http://en.wikipedia.org/wiki/Probability_density_function), the [cumulative distribution function (cdf)](http://en.wikipedia.org/wiki/Cumulative_distribution_function), and the [survival function (sf)](http://en.wikipedia.org/wiki/Survival_function)  of our Normal distribution."
     ]
    },
    {
     "cell_type": "code",
     "collapsed": false,
     "input": [],
     "language": "python",
     "metadata": {},
     "outputs": []
    },
    {
     "cell_type": "code",
     "collapsed": false,
     "input": [],
     "language": "python",
     "metadata": {},
     "outputs": []
    },
    {
     "cell_type": "markdown",
     "metadata": {},
     "source": [
      "### Exercise 1:\n",
      "\n",
      "Create a rv_frozen object representing a [Chi-Square](http://en.wikipedia.org/wiki/Chi-squared_distribution) distribution with 3 degrees of freedom and re-generate the above plots.  You should be able to reuse almost all of the code I wrote above to complete this exercise, although you will need to create a new random variable object to represent you chosen distribution."
     ]
    },
    {
     "cell_type": "code",
     "collapsed": false,
     "input": [
      "# insert your code here!"
     ],
     "language": "python",
     "metadata": {},
     "outputs": []
    },
    {
     "cell_type": "code",
     "collapsed": false,
     "input": [],
     "language": "python",
     "metadata": {},
     "outputs": []
    },
    {
     "cell_type": "markdown",
     "metadata": {},
     "source": [
      "Task 2: Generating random numbers using Python, NumPy and SciPy\n",
      "===============================================================\n",
      "\n",
      "An important part of any simulation is the ability to [draw random numbers](http://en.wikipedia.org/wiki/Random_number_generation). We have at least three methods available for generating random numbers using Python:\n",
      "\n",
      "1. We can use the rvs() method of our random variable objects defined using any probability distributions from stats.distributions.\n",
      "2. We can use built-in Python routines from the module random that we imported above.\n",
      "3. We can use NumPy's module numpy.random. \n",
      "\n",
      "The numbers generated are pseudo random in the sense that they are generated deterministically from a seed number, but are distributed in what has statistical similarities to random fashion. Python, NumPy, and SciPy all use a particular algorithm called the [Mersenne Twister](http://en.wikipedia.org/wiki/Mersenne_twister) to generate pseudorandom numbers.\n",
      "\n",
      "A minimum requirement for any research (including your MSc theses!) is that it be [reproducible](http://reproducibleresearch.net/index.php/Main_Page). For research that uses random number generators, this means that seed values should almost aways* be set and these values should be reported. The seed is always an integer value. Any procedure to generate random numbers that starts with the same seed will generate exactly the same sequence of numbers each time it is run.\n",
      "\n",
      "In addition to making your work more reproducible, manually setting seed values can be useful for debugging purposes. The random number seed can be set using the np.random.seed() command. If this command is not run, NumPy automatically selects a random seed (based on the time) that is different every time a random number generator is run. \n",
      "\n",
      "<p style=\"font-size:10px\">*One does not always need to specify the seed.  For example, when we perform multiple runs of some simulation and average the runs together we will want each run to have be generated from a different sequence of random numbers.</p>"
     ]
    },
    {
     "cell_type": "code",
     "collapsed": false,
     "input": [],
     "language": "python",
     "metadata": {},
     "outputs": [],
     "prompt_number": 16
    },
    {
     "cell_type": "markdown",
     "metadata": {},
     "source": [
      "First, I want to cover how to generate random samples from our rv_frozen objects defined in the previous task.  To generate random samples from rv_frozen objects we use the rvs() method."
     ]
    },
    {
     "cell_type": "code",
     "collapsed": false,
     "input": [],
     "language": "python",
     "metadata": {},
     "outputs": []
    },
    {
     "cell_type": "code",
     "collapsed": false,
     "input": [],
     "language": "python",
     "metadata": {},
     "outputs": []
    },
    {
     "cell_type": "code",
     "collapsed": false,
     "input": [],
     "language": "python",
     "metadata": {},
     "outputs": []
    },
    {
     "cell_type": "markdown",
     "metadata": {},
     "source": [
      "In the cell below I draw a large number of observations from normal using the rvs() method, plot a histogram of the sample, and then overlay the probability density function using the pdf() method."
     ]
    },
    {
     "cell_type": "code",
     "collapsed": false,
     "input": [],
     "language": "python",
     "metadata": {},
     "outputs": []
    },
    {
     "cell_type": "markdown",
     "metadata": {},
     "source": [
      "### Exercise 2:\n",
      "\n",
      "Regenerate the above graph using the rv_frozen object that you created in Exercise 1.4 from the previous task."
     ]
    },
    {
     "cell_type": "code",
     "collapsed": false,
     "input": [
      "# insert your code here!"
     ],
     "language": "python",
     "metadata": {},
     "outputs": []
    },
    {
     "cell_type": "code",
     "collapsed": false,
     "input": [],
     "language": "python",
     "metadata": {},
     "outputs": []
    },
    {
     "cell_type": "markdown",
     "metadata": {},
     "source": [
      "In the cell below I have provided code for drawing one sample of length T from a normal (Gaussian) distribution with \u03bc=1.5 and \u03c3=4.0 and plotting the sample path.  Note that I have set the seed value so that you can reproduce my plot <i>exactly</i>."
     ]
    },
    {
     "cell_type": "code",
     "collapsed": false,
     "input": [],
     "language": "python",
     "metadata": {},
     "outputs": []
    },
    {
     "cell_type": "code",
     "collapsed": false,
     "input": [],
     "language": "python",
     "metadata": {},
     "outputs": []
    },
    {
     "cell_type": "markdown",
     "metadata": {},
     "source": [
      "### Exercise 3:\n",
      "\n",
      "Create a new rv_frozen object representing a [Student's t distribution](http://en.wikipedia.org/wiki/Student's_t-distribution) with 1 degree of freedom and recreate the above plot. Be sure to remember to set the seed!"
     ]
    },
    {
     "cell_type": "code",
     "collapsed": false,
     "input": [
      "# insert your code here!"
     ],
     "language": "python",
     "metadata": {},
     "outputs": [],
     "prompt_number": 24
    },
    {
     "cell_type": "code",
     "collapsed": false,
     "input": [],
     "language": "python",
     "metadata": {},
     "outputs": []
    },
    {
     "cell_type": "markdown",
     "metadata": {},
     "source": [
      "Task 3: Where we learn to simulate flipping a coin...\n",
      "=====================================================\n",
      "\n",
      "In this task you will simulate flipping a coin.  First we need to create a random variable representing the [Bernoulli distribution](http://en.wikipedia.org/wiki/Bernoulli_distribution) from which coin flips are drawn."
     ]
    },
    {
     "cell_type": "code",
     "collapsed": false,
     "input": [],
     "language": "python",
     "metadata": {},
     "outputs": []
    },
    {
     "cell_type": "code",
     "collapsed": false,
     "input": [],
     "language": "python",
     "metadata": {},
     "outputs": []
    },
    {
     "cell_type": "code",
     "collapsed": false,
     "input": [],
     "language": "python",
     "metadata": {},
     "outputs": []
    },
    {
     "cell_type": "markdown",
     "metadata": {},
     "source": [
      "### Exercise 4:\n",
      "\n",
      "Modify the above code to simulate 10 flips of a \"loaded\" coin where the probability of \"success\" or heads is 0.75.  Increase the number of flips to 100, 1000, and 10000  Describe what happens to fraction_heads as the number of flips increases."
     ]
    },
    {
     "cell_type": "code",
     "collapsed": false,
     "input": [
      "# insert your code here!"
     ],
     "language": "python",
     "metadata": {},
     "outputs": [],
     "prompt_number": 32
    },
    {
     "cell_type": "code",
     "collapsed": false,
     "input": [],
     "language": "python",
     "metadata": {},
     "outputs": []
    },
    {
     "cell_type": "markdown",
     "metadata": {},
     "source": [
      "Now we know that flipping a fair coin will result in heads exactly 50% of the time.&nbsp; Thus after many independent flips, the [Law of of Large Numbers (LLN)](http://en.wikipedia.org/wiki/Law_of_large_numbers) suggests that the number of heads should more or less equal the expected number of heads...or does it!\n",
      "\n",
      "A South African mathematician named John Kerrich was visiting Copenhagen in 1940 when Germany invaded Denmark. Kerrich spent the next \f",
      "five years in an interment camp where, to pass the time, he carried out a series of experiments in probability theory...including an experiment where he flipped a coin by hand 10,000 times. After the war Kerrich was released and published the results of many of his experiments. I have copied the table of the coin flipping results reported by Kerrich below. The first two collumns are self explanatory, the third column, <b>Difference</b>, is the difference between the observed number of heads and the expected number of heads.\n",
      "\n",
      "<div align='center'>\n",
      "<table border=\"0\" align=\"center\">\n",
      "<thead>\n",
      "<tr align=\"center\">\n",
      "<td><span style=\"text-decoration: underline;\"><strong>Tosses</strong></span></td>\n",
      "<td><span style=\"text-decoration: underline;\"><strong>Heads</strong></span></td>\n",
      "<td><span style=\"text-decoration: underline;\"><strong>Difference</strong></span></td>\n",
      "</tr>\n",
      "</thead>\n",
      "<tbody>\n",
      "<tr align=\"center\">\n",
      "<td>10</td>\n",
      "<td>4</td>\n",
      "<td>-1</td>\n",
      "</tr>\n",
      "<tr align=\"center\">\n",
      "<td>20</td>\n",
      "<td>10</td>\n",
      "<td>0</td>\n",
      "</tr>\n",
      "<tr align=\"center\">\n",
      "<td>30</td>\n",
      "<td>17</td>\n",
      "<td>2</td>\n",
      "</tr>\n",
      "<tr align=\"center\">\n",
      "<td>40</td>\n",
      "<td>21</td>\n",
      "<td>1</td>\n",
      "</tr>\n",
      "<tr align=\"center\">\n",
      "<td>50</td>\n",
      "<td>25</td>\n",
      "<td>0</td>\n",
      "</tr>\n",
      "<tr align=\"center\">\n",
      "<td>60</td>\n",
      "<td>29</td>\n",
      "<td>-1</td>\n",
      "</tr>\n",
      "<tr align=\"center\">\n",
      "<td>70</td>\n",
      "<td>32</td>\n",
      "<td>-3</td>\n",
      "</tr>\n",
      "<tr align=\"center\">\n",
      "<td>80</td>\n",
      "<td>35</td>\n",
      "<td>-5</td>\n",
      "</tr>\n",
      "<tr align=\"center\">\n",
      "<td>90</td>\n",
      "<td>40</td>\n",
      "<td>-5</td>\n",
      "</tr>\n",
      "<tr align=\"center\">\n",
      "<td>100</td>\n",
      "<td>44</td>\n",
      "<td>-6</td>\n",
      "</tr>\n",
      "<tr align=\"center\">\n",
      "<td>200</td>\n",
      "<td>98</td>\n",
      "<td>-2</td>\n",
      "</tr>\n",
      "<tr align=\"center\">\n",
      "<td>300</td>\n",
      "<td>146</td>\n",
      "<td>-4</td>\n",
      "</tr>\n",
      "<tr align=\"center\">\n",
      "<td>400</td>\n",
      "<td>199</td>\n",
      "<td>-1</td>\n",
      "</tr>\n",
      "<tr align=\"center\">\n",
      "<td>500</td>\n",
      "<td>255</td>\n",
      "<td>5</td>\n",
      "</tr>\n",
      "<tr align=\"center\">\n",
      "<td>600</td>\n",
      "<td>312</td>\n",
      "<td>12</td>\n",
      "</tr>\n",
      "<tr align=\"center\">\n",
      "<td>700</td>\n",
      "<td>368</td>\n",
      "<td>18</td>\n",
      "</tr>\n",
      "<tr align=\"center\">\n",
      "<td>800</td>\n",
      "<td>413</td>\n",
      "<td>13</td>\n",
      "</tr>\n",
      "<tr align=\"center\">\n",
      "<td>900</td>\n",
      "<td>458</td>\n",
      "<td>8</td>\n",
      "</tr>\n",
      "<tr align=\"center\">\n",
      "<td>1000</td>\n",
      "<td>502</td>\n",
      "<td>2</td>\n",
      "</tr>\n",
      "<tr align=\"center\">\n",
      "<td>2000</td>\n",
      "<td>1013</td>\n",
      "<td>13</td>\n",
      "</tr>\n",
      "<tr align=\"center\">\n",
      "<td>3000</td>\n",
      "<td>1510</td>\n",
      "<td>10</td>\n",
      "</tr>\n",
      "<tr align=\"center\">\n",
      "<td>4000</td>\n",
      "<td>2029</td>\n",
      "<td>29</td>\n",
      "</tr>\n",
      "<tr align=\"center\">\n",
      "<td>5000</td>\n",
      "<td>2533</td>\n",
      "<td>33</td>\n",
      "</tr>\n",
      "<tr align=\"center\">\n",
      "<td>6000</td>\n",
      "<td>3009</td>\n",
      "<td>9</td>\n",
      "</tr>\n",
      "<tr align=\"center\">\n",
      "<td>7000</td>\n",
      "<td>3516</td>\n",
      "<td>16</td>\n",
      "</tr>\n",
      "<tr align=\"center\">\n",
      "<td>8000</td>\n",
      "<td>4034</td>\n",
      "<td>34</td>\n",
      "</tr>\n",
      "<tr align=\"center\">\n",
      "<td>9000</td>\n",
      "<td>4538</td>\n",
      "<td>38</td>\n",
      "</tr>\n",
      "<tr align=\"center\">\n",
      "<td>10000</td>\n",
      "<td>5067</td>\n",
      "<td>67</td>\n",
      "</tr>\n",
      "</tbody>\n",
      "</table>\n",
      "</div>"
     ]
    },
    {
     "cell_type": "code",
     "collapsed": false,
     "input": [],
     "language": "python",
     "metadata": {},
     "outputs": [],
     "prompt_number": 39
    },
    {
     "cell_type": "code",
     "collapsed": false,
     "input": [],
     "language": "python",
     "metadata": {},
     "outputs": []
    },
    {
     "cell_type": "markdown",
     "metadata": {},
     "source": [
      "WTF!  This above plot seems to imply that the number of observed heads is diverging from the expected number of heads as we increase the number of flips (which is the exact opposite of our intuition)!  Perhaps Kerrich made a mistake.  Fortunately, we can check his results via simulation! "
     ]
    },
    {
     "cell_type": "code",
     "collapsed": false,
     "input": [],
     "language": "python",
     "metadata": {},
     "outputs": [],
     "prompt_number": 43
    },
    {
     "cell_type": "code",
     "collapsed": false,
     "input": [],
     "language": "python",
     "metadata": {},
     "outputs": []
    },
    {
     "cell_type": "code",
     "collapsed": false,
     "input": [],
     "language": "python",
     "metadata": {},
     "outputs": [],
     "prompt_number": 45
    },
    {
     "cell_type": "code",
     "collapsed": false,
     "input": [],
     "language": "python",
     "metadata": {},
     "outputs": []
    },
    {
     "cell_type": "markdown",
     "metadata": {},
     "source": [
      "So where's the LLN? The LLN does <i>not</i> say that as T increases the number of heads will be close to the number of tails! What the LLN says instead is that, as T increases, the average number of heads will get closer and closer to the long-run average (in this case, 0.5).  The technical term for this is that the sample average, which we estimate from data, converges to the expected value, which is a parameter.\n",
      "\n",
      "Let's run another simulation to verify the LLN..."
     ]
    },
    {
     "cell_type": "code",
     "collapsed": false,
     "input": [],
     "language": "python",
     "metadata": {},
     "outputs": [],
     "prompt_number": 47
    },
    {
     "cell_type": "code",
     "collapsed": false,
     "input": [],
     "language": "python",
     "metadata": {},
     "outputs": []
    },
    {
     "cell_type": "code",
     "collapsed": false,
     "input": [],
     "language": "python",
     "metadata": {},
     "outputs": []
    },
    {
     "cell_type": "markdown",
     "metadata": {},
     "source": [
      "Exercise 3.2\n",
      "------------\n",
      "\n",
      "Re-run the above simulation and regenerate the plots (leaving out Kerrich's data!) using the loaded coin you created in the previous exercise. "
     ]
    },
    {
     "cell_type": "code",
     "collapsed": false,
     "input": [
      "# Insert your code here!"
     ],
     "language": "python",
     "metadata": {},
     "outputs": []
    },
    {
     "cell_type": "code",
     "collapsed": false,
     "input": [],
     "language": "python",
     "metadata": {},
     "outputs": []
    },
    {
     "cell_type": "markdown",
     "metadata": {},
     "source": [
      "Task 4: Where we learn to simulate dice rolling...\n",
      "==================================================\n",
      "\n",
      "Suppose that we wish to simulate rolling a standard six-sided die.  Such a simulation would requires to generate random integers between 1 and 6.  To generate random integers in the range [min, max] use stats.distributions.randint(min, max+1) command."
     ]
    },
    {
     "cell_type": "code",
     "collapsed": false,
     "input": [],
     "language": "python",
     "metadata": {},
     "outputs": [],
     "prompt_number": 56
    },
    {
     "cell_type": "code",
     "collapsed": false,
     "input": [],
     "language": "python",
     "metadata": {},
     "outputs": []
    },
    {
     "cell_type": "code",
     "collapsed": false,
     "input": [],
     "language": "python",
     "metadata": {},
     "outputs": []
    },
    {
     "cell_type": "markdown",
     "metadata": {},
     "source": [
      "We will frequently what to perform statistical analysis of runs from our simulation.  For example, perhaps we wish to estimate the sample average and standard deviation..."
     ]
    },
    {
     "cell_type": "code",
     "collapsed": false,
     "input": [],
     "language": "python",
     "metadata": {},
     "outputs": []
    },
    {
     "cell_type": "code",
     "collapsed": false,
     "input": [],
     "language": "python",
     "metadata": {},
     "outputs": []
    },
    {
     "cell_type": "code",
     "collapsed": false,
     "input": [],
     "language": "python",
     "metadata": {},
     "outputs": []
    },
    {
     "cell_type": "markdown",
     "metadata": {},
     "source": [
      "### Exercise 6\n",
      "\n",
      "Increase the length of the simulation run T, to 1000, 10000, and finally 100000.  What do you expect should happen?  Regenerate the plot to see if you inuition is confirmed. You may wish to un-comment the line of code that sets the x-axis scale of the plot to be logarithmic for T=1000 and 100000."
     ]
    },
    {
     "cell_type": "code",
     "collapsed": false,
     "input": [
      "# insert code here!"
     ],
     "language": "python",
     "metadata": {},
     "outputs": []
    },
    {
     "cell_type": "markdown",
     "metadata": {},
     "source": [
      "You will probably have notice that each time you regenerate the above plot (assumming you are not setting the seed!) you get a slightly different result (this is true even when T is fixed!).  It would seem that our estimate of the population mean, $\\hat{\u03bc}$, itself has some distribution.  How might we characterize the shape of this distribution? Often characterizing the shape of the distribution of our estimator is more important that the value of the estimator itself.  Why? Because the distribution of our estimator tells us something about how uncertain we are about the specific value of our estimator! Quantifying uncertainty in point estimates is hugely important in econometrics!\n",
      "\n",
      "How does our distribution change as we get more data?  Now that we can generate 2D arrays of random integers we can generate a simulation to help us answer this question!  The basic strategy is simply to repeat the above experiment (i.e., rolling a dice T times and re-calculating the sample average after each additional role) some large number, say n, times.\n",
      "\n",
      "The most straightforward way to do this simulation (that I could think of at least!) uses a double for loop..."
     ]
    },
    {
     "cell_type": "code",
     "collapsed": false,
     "input": [],
     "language": "python",
     "metadata": {},
     "outputs": [],
     "prompt_number": 63
    },
    {
     "cell_type": "code",
     "collapsed": false,
     "input": [],
     "language": "python",
     "metadata": {},
     "outputs": []
    },
    {
     "cell_type": "markdown",
     "metadata": {},
     "source": [
      "Imagine gathering data by taking a vertical slice through the above plot.  This would be a marginal distribution and would look something like..."
     ]
    },
    {
     "cell_type": "code",
     "collapsed": false,
     "input": [],
     "language": "python",
     "metadata": {},
     "outputs": []
    },
    {
     "cell_type": "markdown",
     "metadata": {},
     "source": [
      "Now let's plot a histogram of the marginal distribution for $T=2$."
     ]
    },
    {
     "cell_type": "code",
     "collapsed": false,
     "input": [],
     "language": "python",
     "metadata": {},
     "outputs": []
    },
    {
     "cell_type": "code",
     "collapsed": false,
     "input": [],
     "language": "python",
     "metadata": {},
     "outputs": []
    },
    {
     "cell_type": "markdown",
     "metadata": {},
     "source": [
      "Task 5: Relationships between probability distributions \n",
      "========================================================\n",
      "\n",
      "In this task you will learn about some interesting relationship between probability distributions via simulation, and look at an example in which the LLN fails in a spectacular fashion.\n"
     ]
    },
    {
     "cell_type": "markdown",
     "metadata": {},
     "source": [
      "### Relationship between a Normal and a $\\chi^2$ random variable\n",
      "The sum of squares of $k$ standard Normal random variables is a Chi-square random variable with $k$ degrees of freedom. Technically, $||N_{i=1,\\dots,k}(0,1)||^2 = \\chi^2(k)$"
     ]
    },
    {
     "cell_type": "code",
     "collapsed": false,
     "input": [],
     "language": "python",
     "metadata": {},
     "outputs": [],
     "prompt_number": 77
    },
    {
     "cell_type": "code",
     "collapsed": false,
     "input": [],
     "language": "python",
     "metadata": {},
     "outputs": [],
     "prompt_number": 78
    },
    {
     "cell_type": "code",
     "collapsed": false,
     "input": [],
     "language": "python",
     "metadata": {},
     "outputs": [],
     "prompt_number": 79
    },
    {
     "cell_type": "code",
     "collapsed": false,
     "input": [],
     "language": "python",
     "metadata": {},
     "outputs": []
    },
    {
     "cell_type": "markdown",
     "metadata": {},
     "source": [
      "### Relationship between a $\\chi^2$ and an $F$ random variable\n",
      "[F-distribution](http://en.wikipedia.org/wiki/F-distribution) with degrees of freedom $(df_1, df_2)$ is the ratio of two $\\chi^2(k)$ random variables with degrees of freedom $df_1$ and $df_2$ repsectively."
     ]
    },
    {
     "cell_type": "code",
     "collapsed": false,
     "input": [],
     "language": "python",
     "metadata": {},
     "outputs": []
    },
    {
     "cell_type": "code",
     "collapsed": false,
     "input": [],
     "language": "python",
     "metadata": {},
     "outputs": []
    },
    {
     "cell_type": "markdown",
     "metadata": {},
     "source": [
      "### Relationship between a Normal and a Cauchy random variable\n",
      "The ratio of two standard Normal random variables, has a [Cauchy](http://en.wikipedia.org/wiki/Cauchy_distribution) distribution.  The Cauchy distribution has the curious property that all of its moments (i.e., mean, variance, skewness, etc) are infinite! Which means, among other things, that the LLN does not hold... "
     ]
    },
    {
     "cell_type": "code",
     "collapsed": false,
     "input": [],
     "language": "python",
     "metadata": {},
     "outputs": [],
     "prompt_number": 85
    },
    {
     "cell_type": "code",
     "collapsed": false,
     "input": [],
     "language": "python",
     "metadata": {},
     "outputs": [],
     "prompt_number": 86
    },
    {
     "cell_type": "code",
     "collapsed": false,
     "input": [],
     "language": "python",
     "metadata": {},
     "outputs": []
    },
    {
     "cell_type": "code",
     "collapsed": false,
     "input": [],
     "language": "python",
     "metadata": {},
     "outputs": [],
     "prompt_number": 98
    },
    {
     "cell_type": "code",
     "collapsed": false,
     "input": [],
     "language": "python",
     "metadata": {},
     "outputs": []
    },
    {
     "cell_type": "code",
     "collapsed": false,
     "input": [],
     "language": "python",
     "metadata": {},
     "outputs": []
    }
   ],
   "metadata": {}
  }
 ]
}