{
 "metadata": {
  "name": ""
 },
 "nbformat": 3,
 "nbformat_minor": 0,
 "worksheets": [
  {
   "cells": [
    {
     "cell_type": "code",
     "collapsed": false,
     "input": [
      "%load_ext autoreload"
     ],
     "language": "python",
     "metadata": {},
     "outputs": [],
     "prompt_number": 1
    },
    {
     "cell_type": "code",
     "collapsed": false,
     "input": [
      "autoreload 2"
     ],
     "language": "python",
     "metadata": {},
     "outputs": [],
     "prompt_number": 2
    },
    {
     "cell_type": "markdown",
     "metadata": {},
     "source": [
      "<div align='center' ><img src='https://raw.github.com/davidrpugh/computational-econ-labs/master/graduate/images/sgpe-logo.jpg' width=\"1200\" height=\"100\"></div>\n",
      "<div align='center' ><img src='https://raw.github.com/davidrpugh/computational-econ-labs/master/graduate/images/sirelogo.jpg' width=\"1200\" height=\"100\"></div>\n",
      "\n",
      "# *Numerical Methods for Economists: Lab Assignment The Solow (1956) Model*\n",
      "\n",
      "In this lab assignment you will analyze a more general version of the Solow model using a [constant elasticity of substituion (CES)](http://en.wikipedia.org/wiki/Constant_elasticity_of_substitution) production function\n",
      "\n",
      "\\begin{equation}\n",
      "  Y(t) = \\bigg[\\alpha K(t)^{\\rho} + (1-\\alpha) (A(t)L(t))^{\\rho}\\bigg]^{\\frac{1}{\\rho}} \\tag{1.2}\n",
      "\\end{equation}\n",
      "\n",
      "where $0 < \\alpha < 1$ and $-\\infty < \\rho < 1$. The parameter $\\rho = \\frac{\\sigma - 1}{\\sigma}$ where $\\sigma$ is the elasticity of substitution between factors of production. The CES production technology is popular because it nests several interesing special cases.  In particular, if factors of production are perfect substitutes (i.e., $\\sigma = +\\infty \\implies \\rho = 1$), then output is just a linear combination of the inputs.\n",
      "\n",
      "\\begin{equation}\n",
      "  \\lim_{\\rho \\rightarrow 1} Y(t) = \\alpha K(t) + (1-\\alpha)A(t)L(t) \\tag{1.3}\n",
      "\\end{equation}\n",
      "                                    \n",
      "On the other hand, if factors of production are perfect complements (i.e., $\\sigma = 0 \\implies \\rho = -\\infty$), then we recover the [Leontief production function](http://en.wikipedia.org/wiki/Leontief_production_function).\n",
      "                             \n",
      "\\begin{equation}\n",
      "  \\lim_{\\rho \\rightarrow -\\infty} Y(t) = \\min\\left\\{\\alpha K(t), (1-\\alpha) A(t)L(t)\\right\\} \\tag{1.4}\n",
      "\\end{equation}\n",
      "\n",
      "Finally, if the elasticity of substitution is unitary (i.e., $\\sigma=1 \\implies \\rho=0$), then output is [Cobb-Douglas](http://en.wikipedia.org/wiki/Cobb%E2%80%93Douglas_production_function).\n",
      "\n",
      "\\begin{equation}\n",
      "  \\lim_{\\rho \\rightarrow 0} Y(t) = K(t)^{\\alpha}(A(t)L(t))^{1-\\alpha} \\tag{1.5}\n",
      "\\end{equation}"
     ]
    },
    {
     "cell_type": "code",
     "collapsed": false,
     "input": [
      "import numpy as np\n",
      "import pandas as pd\n",
      "from scipy import integrate, linalg, optimize\n",
      "import matplotlib as mpl\n",
      "import matplotlib.pyplot as plt\n",
      "\n",
      "# for the first few labs we will be working with models of growth\n",
      "from pyeconomics.models import growth"
     ],
     "language": "python",
     "metadata": {},
     "outputs": [],
     "prompt_number": 3
    },
    {
     "cell_type": "markdown",
     "metadata": {},
     "source": [
      "### Part a)\n",
      "\n",
      "Show that the CES production function as defined by equation 1.2 exhibits constant returns to scale."
     ]
    },
    {
     "cell_type": "markdown",
     "metadata": {},
     "source": [
      "#### Answer:\n",
      "Constant returns to scale requires that multiplying both factors of production by some fixed constant $c > 0$, causes output to change by the same factor.\n",
      "\n",
      "\\begin{align}\n",
      "  F(cK, cAL) =& \\bigg[\\alpha (cK(t))^{\\rho} + (1-\\alpha) (cA(t)L(t))^{\\rho}\\bigg]^{\\frac{1}{\\rho}} \\\\\n",
      "  =& \\bigg[\\alpha c^{\\rho}K(t)^{\\rho} + (1-\\alpha) c^{\\rho}(A(t)L(t))^{\\rho}\\bigg]^{\\frac{1}{\\rho}} \\\\\n",
      "  =& \\bigg[c^{\\rho}\\bigg(\\alpha K(t)^{\\rho} + (1-\\alpha) (A(t)L(t))^{\\rho}\\bigg)\\bigg]^{\\frac{1}{\\rho}} \\\\\n",
      "  =& c\\bigg[\\alpha K(t)^{\\rho} + (1-\\alpha) (A(t)L(t))^{\\rho}\\bigg]^{\\frac{1}{\\rho}} \\\\\n",
      "  =& cF(K, AL)\n",
      "\\end{align}"
     ]
    },
    {
     "cell_type": "markdown",
     "metadata": {},
     "source": [
      "### Part b)\n",
      "Derive the intensive forms for both the general CES production function as defined by equation 1.2 and for its Cobb-Douglas special case defined by equation 1.5. Show that both of these intensive production functions are concave."
     ]
    },
    {
     "cell_type": "markdown",
     "metadata": {},
     "source": [
      "#### Answer:\n",
      "\n",
      "The intensive form of the general CES production function is...\n",
      "\n",
      "\\begin{align}\n",
      "y(t) = \\frac{Y(t)}{A(t)L(t)} =& \\frac{1}{A(t)L(t)}\\bigg[\\alpha K(t)^{\\rho} + (1-\\alpha) (A(t)L(t))^{\\rho}\\bigg]^{\\frac{1}{\\rho}} \\\\\n",
      "=& \\bigg[\\frac{\\alpha K(t)^{\\rho} + (1-\\alpha) (A(t)L(t))^{\\rho}}{(A(t)L(t))^{\\rho}}\\bigg]^{\\frac{1}{\\rho}} \\\\\n",
      "=& \\bigg[\\alpha \\frac{K(t)^{\\rho}}{(A(t)L(t))^{\\rho}} + (1-\\alpha) \\frac{(A(t)L(t))^{\\rho}}{(A(t)L(t))^{\\rho}}\\bigg]^{\\frac{1}{\\rho}} \\\\\n",
      "=& \\bigg[\\alpha \\bigg(\\frac{K(t)}{A(t)L(t)}\\bigg)^{\\rho} + (1-\\alpha)\\bigg]^{\\frac{1}{\\rho}} \\\\\n",
      "=& \\bigg[\\alpha k(t)^{\\rho} + (1-\\alpha)\\bigg]^{\\frac{1}{\\rho}}\n",
      "\\end{align}\n",
      "\n",
      "The intensive form of the Codd-Douglas special case is...\n",
      "\n",
      "\\begin{align}\n",
      "y(t) = \\frac{Y(t)}{A(t)L(t)} =& \\frac{1}{A(t)L(t)}K(t)^{\\alpha}(A(t)L(t))^{1-\\alpha} \\\\\n",
      "=& K(t)^{\\alpha}(A(t)L(t))^{-\\alpha} \\\\\n",
      "=& \\bigg(\\frac{K(t)}{A(t)L(t)}\\bigg)^{\\alpha} \\\\\n",
      "= & k(t)^{\\alpha}\n",
      "\\end{align}\n",
      "\n",
      "Concavity requires that $f'(k) > 0$ and $f''(k) < 0$. For the intensive form of the general CES production function these derivatives are messy!\n",
      "\n",
      "\\begin{align}\n",
      "    f'(k) = \\frac{\\partial y(t)}{\\partial k(t)} =& \\alpha k(t)^{\\rho-1}\\bigg[\\alpha k(t)^{\\rho} + (1-\\alpha)\\bigg]^{\\frac{1}{\\rho} - 1} > 0 \\\\\n",
      "    f''(k) = \\frac{\\partial^2 y(t)}{\\partial k(t)^2} =& \\alpha k(t)^{\\rho-1} \\frac{\\partial}{\\partial k}\\bigg(\\bigg[\\alpha k(t)^{\\rho} + (1-\\alpha)\\bigg]^{\\frac{1}{\\rho} - 1}\\bigg) + \\frac{\\partial}{\\partial k}\\bigg(\\alpha k(t)^{\\rho-1}\\bigg)\\bigg[\\alpha k(t)^{\\rho} + (1-\\alpha)\\bigg]^{\\frac{1}{\\rho} - 1} \\\\\n",
      "    =& \\alpha k(t)^{\\rho-1} \\frac{\\partial}{\\partial k}\\bigg(\\bigg[\\alpha k(t)^{\\rho} + (1-\\alpha)\\bigg]^{\\frac{1}{\\rho} - 1}\\bigg) + \\bigg(\\alpha(\\rho - 1)k(t)^{\\rho-2}\\bigg)\\bigg[\\alpha k(t)^{\\rho} + (1-\\alpha)\\bigg]^{\\frac{1}{\\rho} - 1} \\\\\n",
      "    =& \\alpha k(t)^{\\rho-1}\\bigg(\\bigg(\\alpha \\rho k(t)^{\\rho-1}\\bigg)\\bigg(\\frac{1}{\\rho} - 1\\bigg)\\bigg[\\alpha k(t)^{\\rho} + (1-\\alpha)\\bigg]^{\\frac{1}{\\rho} - 2}\\bigg) + \\bigg(\\alpha(\\rho - 1)k(t)^{\\rho-2}\\bigg)\\bigg[\\alpha k(t)^{\\rho} + (1-\\alpha)\\bigg]^{\\frac{1}{\\rho} - 1} \\\\\n",
      "    =& \\alpha k(t)^{\\rho-1}\\bigg(\\bigg(\\alpha k(t)^{\\rho-1}\\bigg)\\bigg(1 - \\rho\\bigg)\\bigg[\\alpha k(t)^{\\rho} + (1-\\alpha)\\bigg]^{\\frac{1}{\\rho} - 2}\\bigg) + \\bigg(\\alpha(\\rho - 1)k(t)^{\\rho-2}\\bigg)\\bigg[\\alpha k(t)^{\\rho} + (1-\\alpha)\\bigg]^{\\frac{1}{\\rho} - 1} \\\\\n",
      "    =& \\bigg(\\bigg(\\alpha k(t)^{\\rho-1}\\bigg)^2\\bigg(1 - \\rho\\bigg)\\bigg[\\alpha k(t)^{\\rho} + (1-\\alpha)\\bigg]^{\\frac{1}{\\rho} - 2}\\bigg) - \\bigg(\\alpha(1 -\\rho)k(t)^{\\rho-2}\\bigg)\\bigg[\\alpha k(t)^{\\rho} + (1-\\alpha)\\bigg]^{\\frac{1}{\\rho} - 1} \\\\\n",
      "    =& (1 -\\rho)\\bigg[\\alpha k(t)^{\\rho} + (1-\\alpha)\\bigg]^{\\frac{1}{\\rho} - 2}\\bigg(\\bigg(\\alpha k(t)^{\\rho-1}\\bigg)^2 - \\bigg(\\alpha k(t)^{\\rho-2}\\bigg)\\bigg[\\alpha k(t)^{\\rho} + (1-\\alpha)\\bigg]\\bigg) \\\\\n",
      "    =& (1 -\\rho)\\bigg[\\alpha k(t)^{\\rho} + (1-\\alpha)\\bigg]^{\\frac{1}{\\rho} - 2}\\bigg(\\alpha^2 k(t)^{2\\rho-2} - \\alpha^2 k(t)^{2\\rho-2} - (1-\\alpha)\\bigg(\\alpha k(t)^{\\rho-2}\\bigg)\\bigg) \\\\\n",
      "    =& -(1 -\\rho)(1-\\alpha)\\bigg(\\alpha k(t)^{\\rho-2}\\bigg)\\bigg[\\alpha k(t)^{\\rho} + (1-\\alpha)\\bigg]^{\\frac{1}{\\rho} - 2} < 0\\\\\n",
      "\\end{align}\n",
      "\n",
      "For the Cobb-Douglas special case, the derivatives are much nicer.\n",
      "\n",
      "\\begin{align}\n",
      "f'(k) =& \\alpha k(t)^{\\alpha-1} > 0 \\\\\n",
      "f''(k) =& -\\alpha (1 - \\alpha) k(t)^{\\alpha-2} < 0 \\\\\n",
      "\\end{align}"
     ]
    },
    {
     "cell_type": "markdown",
     "metadata": {},
     "source": [
      "### Part c)\n",
      "\n",
      "Using your results from part b, complete the Python function below which defines output (per person/effective person) in terms of capital (per person/effective person) and model parameters."
     ]
    },
    {
     "cell_type": "code",
     "collapsed": false,
     "input": [
      "# you were given the following incomplete code...\n",
      "def ces_output(t, k, params):\n",
      "    \"\"\"\n",
      "    Intensive form for a CES production \n",
      "    function.\n",
      "\n",
      "    Arguments:\n",
      "\n",
      "        t:      (array-like) Time.\n",
      "        k:      (array-like) Capital (per person/effective person).\n",
      "        params: (dict) Dictionary of parameter values.\n",
      "       \n",
      "    Returns:\n",
      "\n",
      "        y: (array-like) Output (per person/ effective person)\n",
      "\n",
      "    \"\"\"\n",
      "    # extract params\n",
      "    alpha = params['alpha']\n",
      "    sigma = params['sigma']\n",
      "    rho   = # INSERT CODE HERE DEFINING RHO IN TERMS OF SIGMA!\n",
      "    \n",
      "    # nest Cobb-Douglas technology as special case\n",
      "    if rho == 0:\n",
      "        y = # INSERT CODE HERE!\n",
      "    else:\n",
      "        y = # INSERT CODE HERE!\n",
      "    \n",
      "    return y"
     ],
     "language": "python",
     "metadata": {},
     "outputs": [],
     "prompt_number": 4
    },
    {
     "cell_type": "code",
     "collapsed": false,
     "input": [
      "# which should be completed as follows...\n",
      "def ces_output(t, k, params):\n",
      "    \"\"\"\n",
      "    Intensive form for a CES production function.\n",
      "\n",
      "    Arguments:\n",
      "\n",
      "        t:      (array-like) Time.\n",
      "        k:      (array-like) Capital (per person/effective person).\n",
      "        params: (dict) Dictionary of parameter values.\n",
      "       \n",
      "    Returns:\n",
      "\n",
      "        y: (array-like) Output (per person/ effective person)\n",
      "\n",
      "    \"\"\"\n",
      "    # extract params\n",
      "    alpha = params['alpha']\n",
      "    sigma = params['sigma']\n",
      "    rho   = (sigma - 1) / sigma\n",
      "    \n",
      "    # nest Cobb-Douglas technology as special case\n",
      "    if rho == 0:\n",
      "        y = k**alpha\n",
      "    else:\n",
      "        y = (alpha * k**rho + (1-alpha))**(1 / rho)\n",
      "    \n",
      "    return y"
     ],
     "language": "python",
     "metadata": {},
     "outputs": [],
     "prompt_number": 5
    },
    {
     "cell_type": "markdown",
     "metadata": {},
     "source": [
      "### Part d)\n",
      "\n",
      "Using your results from part b, complete the Python function below which defines the marginal product of capital (per person/effective person) in terms of capital (per person/effective person) and model parameters."
     ]
    },
    {
     "cell_type": "code",
     "collapsed": false,
     "input": [
      "# you were given the following incomplete code...\n",
      "def marginal_product_capital(t, k, params):\n",
      "    \"\"\"\n",
      "    Marginal product of capital with CES production function.\n",
      "\n",
      "    Arguments:\n",
      "\n",
      "        t:      (array-like) Time.\n",
      "        k:      (array-like) Capital (per person/effective person).\n",
      "        params: (dict) Dictionary of parameter values.\n",
      "       \n",
      "    Returns:\n",
      "\n",
      "        mpk: (array-like) Derivative of output with respect to capital, k.\n",
      "\n",
      "    \"\"\"\n",
      "    # extract params\n",
      "    alpha = params['alpha']\n",
      "    sigma = params['sigma']\n",
      "    rho   = # INSERT CODE HERE DEFINING RHO IN TERMS OF SIGMA!\n",
      "    \n",
      "    # nest Cobb-Douglas technology as special case\n",
      "    if rho == 0:\n",
      "        mpk = # INSERT CODE HERE!\n",
      "    else:\n",
      "        mpk = # INSERT CODE HERE!\n",
      "    \n",
      "    return mpk"
     ],
     "language": "python",
     "metadata": {},
     "outputs": [],
     "prompt_number": 3
    },
    {
     "cell_type": "code",
     "collapsed": false,
     "input": [
      "# which should be completed as follows...\n",
      "def marginal_product_capital(t, k, params):\n",
      "    \"\"\"\n",
      "    Marginal product of capital with CES production function.\n",
      "\n",
      "    Arguments:\n",
      "\n",
      "        t:      (array-like) Time.\n",
      "        k:      (array-like) Capital (per person/effective person).\n",
      "        params: (dict) Dictionary of parameter values.\n",
      "       \n",
      "    Returns:\n",
      "\n",
      "        mpk: (array-like) Derivative of output with respect to capital, k.\n",
      "\n",
      "    \"\"\"\n",
      "    # extract params\n",
      "    alpha = params['alpha']\n",
      "    sigma = params['sigma']\n",
      "    rho   = (sigma - 1) / sigma\n",
      "    \n",
      "    # nest Cobb-Douglas technology as special case\n",
      "    if rho == 0:\n",
      "        mpk = alpha * k**(alpha - 1)\n",
      "    else:\n",
      "        mpk = alpha * k**(rho - 1) * (alpha * k**rho + (1 - alpha))**((1 / rho) - 1)\n",
      "    \n",
      "    return mpk"
     ],
     "language": "python",
     "metadata": {},
     "outputs": [],
     "prompt_number": 6
    },
    {
     "cell_type": "markdown",
     "metadata": {},
     "source": [
      "### Part e)\n",
      "\n",
      "Derive the equation of motion for capital per effective worker when the general CES production function defined by equation 1.2 and for the Cobb-Douglas special case defined by equation 1.5."
     ]
    },
    {
     "cell_type": "markdown",
     "metadata": {},
     "source": [
      "#### Answer:\n",
      "\n",
      "The key equation of the Solow model is the equation of motion for capital per effective worker, $k(t)=\\frac{K(t)}{A(t)L(t)}$. Application of the chain rule to $k(t)$ yields\n",
      "\n",
      "\\begin{align}\n",
      "\t\\dot{k}(t) =& \\frac{\\dot{K}A(t)L(t) - K(t)\\left[A(t)\\dot{L}(t) + \\dot{A}(t)L(t)\\right]}{[A(t)L(t)]^2} \\notag \\\\\n",
      "\t =& \\frac{\\dot{K}}{A(t)L(t)} - \\frac{K(t)}{A(t)L(t)}\\left(\\frac{\\dot{L}(t)}{L(t)} + \\frac{\\dot{A}(t)}{A(t)}\\right).\n",
      "\\end{align}\n",
      "\n",
      "From here I need only substitute the equation of motion for capital and the expressions for the exogenous growth rates of labor and technology to obtain a first-order non-linear differential equation describing the evolution of capital per effective worker, $k(t)$.\n",
      "\n",
      "\\begin{align}\n",
      "\t\\dot{k}(t) =& \\frac{sY(t) - \\delta K(t)}{A(t)L(t)} - \\frac{K(t)}{A(t)L(t)}\\left(\\frac{\\dot{L}(t)}{L(t)} + \\frac{\\dot{A}(t)}{A(t)}\\right) \\notag \\\\\n",
      "\t=& s\\frac{Y(t)}{A(t)L(t)} - (n + g + \\delta)\\frac{K(t)}{A(t)L(t)} \\notag \\\\\n",
      "    =& sy(t) - (n + g + \\delta)k(t) \\notag \\\\\n",
      "\\end{align} \n",
      "\n",
      "When the production function is CES, the equation becomes\n",
      "\n",
      "\\begin{align}\n",
      "\t\\dot{k}(t) =& s\\bigg[\\alpha k(t)^{\\rho} + (1-\\alpha)\\bigg]^{\\frac{1}{\\rho}} - (n + g + \\delta)k(t).\n",
      "\\end{align} \n",
      "\n",
      "When the production function is Cobb-Douglas, the equation becomes\n",
      "\n",
      "\\begin{align}\n",
      "\t\\dot{k}(t) =& sk(t)^{\\alpha} - (n + g + \\delta)k(t).\n",
      "\\end{align} "
     ]
    },
    {
     "cell_type": "markdown",
     "metadata": {},
     "source": [
      "### Part f)\n",
      "\n",
      "Using your results from parts d) and e) and the Python function defining the equation of motion for capital (per person/effective person) complete the Python function which defines the Jacobian for the Solow model."
     ]
    },
    {
     "cell_type": "code",
     "collapsed": false,
     "input": [
      "def equation_of_motion_capital(t, k, params):\n",
      "    \"\"\"\n",
      "    Equation of motion for capital (per person/effective person).\n",
      "\n",
      "    Arguments:\n",
      "\n",
      "        t:      (array-like) Time.\n",
      "        k:      (array-like) Capital (per person/effective person).\n",
      "        params: (dict) Dictionary of parameter values.\n",
      "       \n",
      "    Returns:\n",
      "\n",
      "        k_dot: (array-like) Time-derivative of capital (per person/effective \n",
      "               person).\n",
      "\n",
      "    \"\"\"\n",
      "    # extract params\n",
      "    s     = params['s']\n",
      "    n     = params['n']\n",
      "    g     = params['g']\n",
      "    delta = params['delta']\n",
      "    \n",
      "    y = ces_output(t, k, params)\n",
      "    \n",
      "    k_dot = s * y - (n + g + delta) * k\n",
      "    \n",
      "    return k_dot"
     ],
     "language": "python",
     "metadata": {},
     "outputs": [],
     "prompt_number": 7
    },
    {
     "cell_type": "code",
     "collapsed": false,
     "input": [
      "# you where given the following incomplete code...\n",
      "def solow_jacobian(t, k, params):\n",
      "    \"\"\"\n",
      "    The Jacobian of the Solow model.\n",
      "    \n",
      "    Arguments:\n",
      "\n",
      "        t:      (array-like) Time.\n",
      "        k:      (array-like) Capital (per person/effective person).\n",
      "        params: (dict) Dictionary of parameter values.\n",
      "       \n",
      "    Returns:\n",
      "\n",
      "        jac: (array-like) Value of the derivative of the equation of \n",
      "             motion for capital (per worker/effective worker) with \n",
      "             respect to k.\n",
      "\n",
      "    \"\"\"\n",
      "    # extract params\n",
      "    s     = params['s']\n",
      "    n     = params['n']\n",
      "    g     = params['g']\n",
      "    delta = params['delta']\n",
      "\n",
      "    mpk = #INSERT YOUR CODE HERE\n",
      "    \n",
      "    k_dot = s * mpk - (n + g + delta)\n",
      "    \n",
      "    return k_dot"
     ],
     "language": "python",
     "metadata": {},
     "outputs": [],
     "prompt_number": 8
    },
    {
     "cell_type": "code",
     "collapsed": false,
     "input": [
      "# which should have been completed as follows...\n",
      "def solow_jacobian(t, k, params):\n",
      "    \"\"\"\n",
      "    The Jacobian of the Solow model.\n",
      "    \n",
      "    Arguments:\n",
      "\n",
      "        t:      (array-like) Time.\n",
      "        k:      (array-like) Capital (per person/effective person).\n",
      "        params: (dict) Dictionary of parameter values.\n",
      "       \n",
      "    Returns:\n",
      "\n",
      "        jac: (array-like) Value of the derivative of the equation of \n",
      "             motion for capital (per worker/effective worker) with \n",
      "             respect to k.\n",
      "\n",
      "    \"\"\"\n",
      "    # extract params\n",
      "    s     = params['s']\n",
      "    n     = params['n']\n",
      "    g     = params['g']\n",
      "    delta = params['delta']\n",
      "\n",
      "    mpk = marginal_product_capital(t, k, params) \n",
      "    \n",
      "    k_dot = s * mpk - (n + g + delta)\n",
      "    \n",
      "    return k_dot"
     ],
     "language": "python",
     "metadata": {},
     "outputs": [],
     "prompt_number": 9
    },
    {
     "cell_type": "markdown",
     "metadata": {},
     "source": [
      "### Part g)\n",
      "\n",
      "In the cell below, create a Python dictionary called `default_params` using the following values: $\\alpha$ = 0.33, $\\delta$ = 0.04, $\\sigma$ = 1.0, $g$ = 0.02, $n$ = 0.01, $s$ = 0.15."
     ]
    },
    {
     "cell_type": "code",
     "collapsed": false,
     "input": [
      "# INSERT CODE HERE!"
     ],
     "language": "python",
     "metadata": {},
     "outputs": []
    },
    {
     "cell_type": "code",
     "collapsed": false,
     "input": [
      "# my solution...\n",
      "default_params = {'alpha':0.33, 'delta':0.04, 'sigma':1.0, 'g':0.02, 'n':0.01, 's':0.15} "
     ],
     "language": "python",
     "metadata": {},
     "outputs": [],
     "prompt_number": 10
    },
    {
     "cell_type": "markdown",
     "metadata": {},
     "source": [
      "### Part h)\n",
      "In the cell below, create instance of the `SolowModel` class called `model` using the results from parts c), d), f) and g)."
     ]
    },
    {
     "cell_type": "code",
     "collapsed": false,
     "input": [
      "# INSERT CODE HERE!"
     ],
     "language": "python",
     "metadata": {},
     "outputs": []
    },
    {
     "cell_type": "code",
     "collapsed": false,
     "input": [
      "# my solution...\n",
      "model = growth.SolowModel(output=ces_output, \n",
      "                          mpk=marginal_product_capital,\n",
      "                          k_dot=equation_of_motion_capital, \n",
      "                          jacobian=solow_jacobian, \n",
      "                          params=default_params)"
     ],
     "language": "python",
     "metadata": {},
     "outputs": [],
     "prompt_number": 32
    },
    {
     "cell_type": "markdown",
     "metadata": {},
     "source": [
      "### Part i)\n",
      "\n",
      "Derive an analytic expression for the steady state value of capital (per person/effective person) using your result from part e)."
     ]
    },
    {
     "cell_type": "markdown",
     "metadata": {},
     "source": [
      "#### Answer:\n",
      "When the production function is CES, the steady state value for capital (per person/effective person) is\n",
      "\n",
      "\\begin{align}\n",
      "0 =& s\\bigg[\\alpha k^{*\\rho} + (1-\\alpha)\\bigg]^{\\frac{1}{\\rho}} - (n + g + \\delta)k^* \\\\\n",
      "s\\bigg[\\alpha k^{*\\rho} + (1-\\alpha)\\bigg]^{\\frac{1}{\\rho}} =& (n + g + \\delta)k^* \\\\\n",
      "s^{\\rho}\\bigg[\\alpha k^{*\\rho} + (1-\\alpha)\\bigg] =& (n + g + \\delta)^{\\rho}k^{*\\rho} \\\\\n",
      "\\alpha s^{\\rho} k^{*\\rho} + (1-\\alpha)s^{\\rho} =& (n + g + \\delta)^{\\rho}k^{*\\rho} \\\\\n",
      "(1-\\alpha)s^{\\rho} =& (n + g + \\delta)^{\\rho}k^{*\\rho} - \\alpha s^{\\rho} k^{*\\rho} \\\\\n",
      "(1-\\alpha)s^{\\rho} =& \\bigg((n + g + \\delta)^{\\rho} - \\alpha s^{\\rho}\\bigg) k^{*\\rho} \\\\\n",
      "k^{*\\rho} =& \\frac{(1-\\alpha)s^{\\rho}}{(n + g + \\delta)^{\\rho} - \\alpha s^{\\rho}} \\\\\n",
      "k^* =& \\left(\\frac{(1-\\alpha)s^{\\rho}}{(n + g + \\delta)^{\\rho} - \\alpha s^{\\rho}}\\right)^{\\frac{1}{\\rho}} \\\\\n",
      "\\end{align}\n",
      "\n",
      "Note that in order for $k^* > 0$ we require that the parameter $\\alpha$ satisfies\n",
      "\n",
      "\\begin{align}\n",
      "\\alpha < \\bigg(\\frac{n+g+\\delta}{s}\\bigg)^{\\rho}.\n",
      "\\end{align}\n",
      "\n",
      "When the production function is Cobb-Douglas, the steady state value for capital (per person/effective person) is\n",
      "\n",
      "\\begin{align}\n",
      "0 =& sk^{*\\alpha} - (n + g + \\delta)k^* \\\\\n",
      "sk^{*\\alpha} =& (n + g + \\delta)k^* \\\\\n",
      "sk^{*\\alpha-1} =& (n + g + \\delta) \\\\\n",
      "k^{*\\alpha-1} =& \\frac{n + g + \\delta}{s} \\\\\n",
      "k^* =& \\left(\\frac{s}{n + g + \\delta}\\right)^{\\frac{1}{1-\\alpha}}\n",
      "\\end{align} "
     ]
    },
    {
     "cell_type": "code",
     "collapsed": false,
     "input": [
      "### you were given the following incomplete code...\n",
      "def analytic_k_star(params): \n",
      "    \"\"\"Steady-state level of capital (per person/effective person).\"\"\"\n",
      "    # extract params\n",
      "    s     = params['s']\n",
      "    n     = params['n']\n",
      "    g     = params['g']\n",
      "    alpha = params['alpha']\n",
      "    delta = params['delta']\n",
      "    sigma = params['sigma']\n",
      "    rho   = # INSERT CODE HERE DEFINING RHO IN TERMS OF SIGMA!\n",
      "    \n",
      "    # nest Cobb-Douglas technology as special case\n",
      "    if rho == 0:\n",
      "        k_star = # INSERT CODE HERE!\n",
      "    else:\n",
      "        k_star = # INSERT CODE HERE!\n",
      "    \n",
      "    return k_star"
     ],
     "language": "python",
     "metadata": {},
     "outputs": []
    },
    {
     "cell_type": "code",
     "collapsed": false,
     "input": [
      "### which should be completed as follows...\n",
      "def analytic_k_star(params): \n",
      "    \"\"\"Steady-state level of capital (per person/effective person).\"\"\"\n",
      "    # extract params\n",
      "    s     = params['s']\n",
      "    n     = params['n']\n",
      "    g     = params['g']\n",
      "    alpha = params['alpha']\n",
      "    delta = params['delta']\n",
      "    sigma = params['sigma']\n",
      "    rho   = (sigma - 1) / sigma\n",
      "    \n",
      "    # nest Cobb-Douglas as special case\n",
      "    if rho == 0:\n",
      "        k_star = (s / (n + g + delta))**(1 / (1 - alpha))\n",
      "    else:\n",
      "        k_star = (((1 - alpha) * s**rho) / ((n + g + delta)**rho - alpha * s**rho))**(1 / rho)\n",
      "        \n",
      "    return k_star"
     ],
     "language": "python",
     "metadata": {},
     "outputs": [],
     "prompt_number": 19
    },
    {
     "cell_type": "code",
     "collapsed": false,
     "input": [
      "# test the function to make sure that it works!\n",
      "analytic_k_star(default_params)"
     ],
     "language": "python",
     "metadata": {},
     "outputs": [
      {
       "metadata": {},
       "output_type": "pyout",
       "prompt_number": 20,
       "text": [
        "3.1190312778505414"
       ]
      }
     ],
     "prompt_number": 20
    },
    {
     "cell_type": "markdown",
     "metadata": {},
     "source": [
      "Using the code from the lab session as a guide, create a Python dictionary called `solow_steady_state_funcs` containing your result from part i) and add it to the model."
     ]
    },
    {
     "cell_type": "code",
     "collapsed": false,
     "input": [
      "# INSERT YOUR CODE HERE!!"
     ],
     "language": "python",
     "metadata": {},
     "outputs": []
    },
    {
     "cell_type": "code",
     "collapsed": false,
     "input": [
      "# create a dictionary of steady state expressions...\n",
      "solow_steady_state_funcs = {'k_star':analytic_k_star}\n",
      "\n",
      "# add the dictionary of functions to the model\n",
      "model.steady_state.set_functions(solow_steady_state_funcs)"
     ],
     "language": "python",
     "metadata": {},
     "outputs": [],
     "prompt_number": 33
    },
    {
     "cell_type": "code",
     "collapsed": false,
     "input": [
      "# compute the steady state values\n",
      "model.steady_state.set_values()"
     ],
     "language": "python",
     "metadata": {},
     "outputs": [],
     "prompt_number": 34
    },
    {
     "cell_type": "code",
     "collapsed": false,
     "input": [
      "# compare this result to the one you obtained from part i\n",
      "model.steady_state.values"
     ],
     "language": "python",
     "metadata": {},
     "outputs": [
      {
       "metadata": {},
       "output_type": "pyout",
       "prompt_number": 35,
       "text": [
        "{'k_star': 3.1516925416813324}"
       ]
      }
     ],
     "prompt_number": 35
    },
    {
     "cell_type": "code",
     "collapsed": false,
     "input": [
      "def sanity_check(params):\n",
      "    \"\"\"Checks that params are ok for CES.\"\"\"\n",
      "    # extract params\n",
      "    s     = params['s']\n",
      "    n     = params['n']\n",
      "    g     = params['g']\n",
      "    alpha = params['alpha']\n",
      "    delta = params['delta']\n",
      "    sigma = params['sigma']\n",
      "    rho   = (sigma - 1) / sigma\n",
      "    \n",
      "    # nest Cobb-Douglas as special case\n",
      "    if rho == 0:\n",
      "        return True\n",
      "    else:\n",
      "        return alpha < ((n + g + delta) / s)**rho"
     ],
     "language": "python",
     "metadata": {},
     "outputs": [],
     "prompt_number": 84
    },
    {
     "cell_type": "code",
     "collapsed": false,
     "input": [
      "plt.figure(figsize=(8,6))\n",
      "model.plot_solow_diagram(gridmax=10, N=1000, param='sigma', shock=1.5, reset=True) \n",
      "plt.show()"
     ],
     "language": "python",
     "metadata": {},
     "outputs": [
      {
       "metadata": {},
       "output_type": "display_data",
       "png": "[encoded data removed]",
       "text": [
        "<matplotlib.figure.Figure at 0xbe750f0>"
       ]
      }
     ],
     "prompt_number": 36
    },
    {
     "cell_type": "code",
     "collapsed": false,
     "input": [],
     "language": "python",
     "metadata": {},
     "outputs": [
      {
       "metadata": {},
       "output_type": "pyout",
       "prompt_number": 155,
       "text": [
        "{'alpha': 0.33, 'delta': 0.04, 'g': 0.02, 'n': 0.01, 's': 0.15, 'sigma': 5.0}"
       ]
      }
     ],
     "prompt_number": 155
    },
    {
     "cell_type": "markdown",
     "metadata": {},
     "source": [
      "### Part j:\n",
      "\n",
      "Using your results from part b), derive an expression for the elasticity of output per effective person with respect to capital per effective person, $\\alpha_k$, as a function of capital per effective person, $k$, and model parameters."
     ]
    },
    {
     "cell_type": "markdown",
     "metadata": {},
     "source": [
      "#### Answer:\n",
      "\\begin{align}\n",
      "    \\alpha_{k}(k) =& \\frac{k f'(k)}{f(k)} \\\\\n",
      "    =&\\frac{k\\bigg[\\alpha k^{\\rho-1}\\bigg(\\alpha k^{\\rho} + (1-\\alpha)\\bigg)^{\\frac{1}{\\rho}-1}\\bigg]}{\\bigg(\\alpha k^{\\rho} + (1-\\alpha)\\bigg)^{\\frac{1}{\\rho}}}\\\\\n",
      "    =&\\frac{\\alpha k^{\\rho}}{\\alpha k^{\\rho} + (1-\\alpha)}\\\\\n",
      "\\end{align}"
     ]
    },
    {
     "cell_type": "markdown",
     "metadata": {},
     "source": [
      "### Part k)\n",
      "\n",
      "Differentiate your result from part j) with respect to capital per effective person, $k$, and discuss under what conditions the derivative will be positive, negative, or zero."
     ]
    },
    {
     "cell_type": "markdown",
     "metadata": {},
     "source": [
      "#### Answer:\n",
      "\n",
      "\\begin{align}\n",
      "    \\frac{\\partial \\alpha_{k}(k)}{\\partial k} =&\\frac{\\alpha \\rho k^{\\rho - 1}\\bigg(\\alpha k^{\\rho} + (1-\\alpha)\\bigg) - \\alpha k^{\\rho}\\bigg(\\alpha\\rho k^{\\rho-1}\\bigg)}{\\bigg(\\alpha k^{\\rho} + (1-\\alpha)\\bigg)^2}\\\\\n",
      "    =&\\frac{\\alpha^2 \\rho k^{2\\rho - 1} + \\alpha(1-\\alpha)\\rho k^{\\rho-1} - \\alpha^2\\rho k^{2\\rho-1}}{\\bigg(\\alpha k^{\\rho} + (1-\\alpha)\\bigg)^2}\\\\\n",
      "    =&\\frac{\\alpha(1-\\alpha)\\rho k^{\\rho-1}}{\\bigg(\\alpha k^{\\rho} + (1-\\alpha)\\bigg)^2}\\\\\n",
      "\\end{align}\n",
      "\n",
      "Result is more easily interpretable after subsituting $\\rho=\\frac{\\sigma-1}{\\sigma}$.\n",
      "\n",
      "\\begin{align}\n",
      "    \\frac{\\partial \\alpha_{k}(k)}{\\partial k} =&\\frac{\\alpha(1-\\alpha)\\rho k^{\\rho-1}}{\\bigg(\\alpha k^{\\rho} + (1-\\alpha)\\bigg)^2}\\\\\n",
      "    =&\\frac{\\alpha(1-\\alpha)\\bigg(\\frac{\\sigma-1}{\\sigma}\\bigg) k^{\\frac{1}{\\sigma}}}{\\bigg(\\alpha k^{\\frac{\\sigma-1}{\\sigma}} + (1-\\alpha)\\bigg)^2}\\\\\n",
      "\\end{align}\n",
      "\n",
      "Thus we find that $\\frac{\\partial \\alpha_{k}(k)}{\\partial k} > 0 \\iff \\sigma > 1$ which means that capital and effective labor are substitutes; $\\frac{\\partial \\alpha_{k}(k)}{\\partial k} < 0 \\iff \\sigma < 1$ which means that capital and effective labor are complements; and $\\frac{\\partial \\alpha_{k}(k)}{\\partial k} = 0 \\iff \\sigma = 1$ which means that production function is Cobb-Douglas. "
     ]
    },
    {
     "cell_type": "code",
     "collapsed": false,
     "input": [
      "plt.figure(figsize=(12,8))\n",
      "model.plot_impulse_response(param='sigma', shock=2.0, T=100, reset=True)\n",
      "plt.show()"
     ],
     "language": "python",
     "metadata": {},
     "outputs": [
      {
       "metadata": {},
       "output_type": "display_data",
       "png": "[encoded data removed]",
       "text": [
        "<matplotlib.figure.Figure at 0xb6b9e30>"
       ]
      }
     ],
     "prompt_number": 52
    },
    {
     "cell_type": "code",
     "collapsed": false,
     "input": [
      "plt.figure(figsize=(8, 6))\n",
      "irf = model.get_impulse_response(param='sigma', shock=5.0, T=10, reset=True)\n",
      "\n",
      "new_params = default_params.copy()\n",
      "new_params['sigma'] = 1.5\n",
      "\n",
      "data = np.hstack((1 - model.get_capitals_share(irf[:40,1], model.params), \n",
      "                  1 - model.get_capitals_share(irf[40:,1], new_params)))\n",
      "plt.plot(irf[:,0], data)\n",
      "plt.ylim(0, 1)\n",
      "plt.show()"
     ],
     "language": "python",
     "metadata": {},
     "outputs": [
      {
       "metadata": {},
       "output_type": "display_data",
       "png": "[encoded data removed]",
       "text": [
        "<matplotlib.figure.Figure at 0xb6cb030>"
       ]
      }
     ],
     "prompt_number": 48
    },
    {
     "cell_type": "code",
     "collapsed": false,
     "input": [
      "data"
     ],
     "language": "python",
     "metadata": {},
     "outputs": [
      {
       "metadata": {},
       "output_type": "pyout",
       "prompt_number": 46,
       "text": [
        "array([ 0.65780353,  0.65780353,  0.65780353,  0.65780353,  0.65780353,\n",
        "        0.65780353,  0.65780353,  0.65780353,  0.65780353,  0.65780353,\n",
        "        0.65780353,  0.65780353,  0.65780353,  0.65780353,  0.65780353,\n",
        "        0.65780353,  0.65780353,  0.65780353,  0.65780353,  0.65780353,\n",
        "        0.65780353,  0.65780353,  0.65780353,  0.65780353,  0.65780353,\n",
        "        0.65780353,  0.65780353,  0.65780353,  0.65780353,  0.65780353,\n",
        "        0.65780353,  0.65780353,  0.65780353,  0.65780353,  0.65780353,\n",
        "        0.65780353,  0.65780353,  0.65780353,  0.65780353,  0.65780353,\n",
        "        0.58067343,  0.58063596,  0.58060016,  0.58056595,  0.58053325,\n",
        "        0.58050201,  0.58047216,  0.58044363,  0.58041637,  0.58039033,\n",
        "        0.58036543,  0.58034164,  0.58031891,  0.58029718,  0.58027642,\n",
        "        0.58025658,  0.58023762,  0.5802195 ,  0.58020219,  0.58018564,\n",
        "        0.58016982,  0.5801547 ,  0.58014026,  0.58012645,  0.58011326,\n",
        "        0.58010065,  0.5800886 ,  0.58007708,  0.58006607,  0.58005555,\n",
        "        0.5800455 ,  0.58003589,  0.58002671,  0.58001793,  0.58000954,\n",
        "        0.58000152,  0.57999386,  0.57998654,  0.57997954,  0.57997285,\n",
        "        0.57996645,  0.57996034,  0.5799545 ,  0.57994892,  0.57994358,\n",
        "        0.57993848,  0.57993361,  0.57992895,  0.5799245 ,  0.57992024,\n",
        "        0.57991618,  0.57991229,  0.57990857,  0.57990502,  0.57990163,\n",
        "        0.57989839,  0.57989529,  0.57989232,  0.57988949,  0.57988678,\n",
        "        0.5798842 ,  0.57988172,  0.57987936,  0.5798771 ,  0.57987494,\n",
        "        0.57987288,  0.5798709 ,  0.57986902,  0.57986722,  0.5798655 ,\n",
        "        0.57986385,  0.57986228,  0.57986077,  0.57985933,  0.57985796,\n",
        "        0.57985665,  0.57985539,  0.57985419,  0.57985305,  0.57985195,\n",
        "        0.5798509 ,  0.5798499 ,  0.57984895,  0.57984803,  0.57984716,\n",
        "        0.57984632,  0.57984552,  0.57984476,  0.57984403,  0.57984333,\n",
        "        0.57984267,  0.57984203,  0.57984142,  0.57984084,  0.57984028,\n",
        "        0.57983975,  0.57983924,  0.57983876,  0.57983829,  0.57983785,\n",
        "        0.57983743])"
       ]
      }
     ],
     "prompt_number": 46
    },
    {
     "cell_type": "code",
     "collapsed": false,
     "input": [
      "1 - capitals_share(irf[:40,0], irf[:40,1], model.args)"
     ],
     "language": "python",
     "metadata": {},
     "outputs": [
      {
       "metadata": {},
       "output_type": "pyout",
       "prompt_number": 191,
       "text": [
        "array([ 0.67,  0.67,  0.67,  0.67,  0.67,  0.67,  0.67,  0.67,  0.67,\n",
        "        0.67,  0.67,  0.67,  0.67,  0.67,  0.67,  0.67,  0.67,  0.67,\n",
        "        0.67,  0.67,  0.67,  0.67,  0.67,  0.67,  0.67,  0.67,  0.67,\n",
        "        0.67,  0.67,  0.67,  0.67,  0.67,  0.67,  0.67,  0.67,  0.67,\n",
        "        0.67,  0.67,  0.67,  0.67])"
       ]
      }
     ],
     "prompt_number": 191
    },
    {
     "cell_type": "code",
     "collapsed": false,
     "input": [
      "1 - capitals_share(irf[40:,0], irf[40:,1], params).size"
     ],
     "language": "python",
     "metadata": {},
     "outputs": [
      {
       "metadata": {},
       "output_type": "pyout",
       "prompt_number": 194,
       "text": [
        "-4061"
       ]
      }
     ],
     "prompt_number": 194
    },
    {
     "cell_type": "code",
     "collapsed": false,
     "input": [
      "irf.shape"
     ],
     "language": "python",
     "metadata": {},
     "outputs": [
      {
       "metadata": {},
       "output_type": "pyout",
       "prompt_number": 199,
       "text": [
        "(4102, 4)"
       ]
      }
     ],
     "prompt_number": 199
    },
    {
     "cell_type": "code",
     "collapsed": false,
     "input": [
      "grid = np.linspace(0, 10, 1000)\n",
      "params = default_params.copy()\n",
      "\n",
      "for sigma in [0.5, 1.0, 5.0]: \n",
      "    params['sigma'] = sigma\n",
      "    plt.plot(grid, marginal_product_capital(0, grid, params))\n",
      "\n",
      "plt.axhline(model.args['n'] + model.args['g'] + model.args['delta'])\n",
      "plt.show()"
     ],
     "language": "python",
     "metadata": {},
     "outputs": [
      {
       "metadata": {},
       "output_type": "display_data",
       "png": "[encoded data removed]",
       "text": [
        "<matplotlib.figure.Figure at 0xb09b650>"
       ]
      }
     ],
     "prompt_number": 150
    },
    {
     "cell_type": "code",
     "collapsed": false,
     "input": [],
     "language": "python",
     "metadata": {},
     "outputs": []
    }
   ],
   "metadata": {}
  }
 ]
}