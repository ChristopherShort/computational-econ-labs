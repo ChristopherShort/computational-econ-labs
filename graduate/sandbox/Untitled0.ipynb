{
 "metadata": {
  "name": "Untitled0"
 },
 "nbformat": 3,
 "nbformat_minor": 0,
 "worksheets": [
  {
   "cells": [
    {
     "cell_type": "markdown",
     "metadata": {},
     "source": [
      "Task 4: Numerically solving for the steady-state value of $k$ \n",
      "-------------------------------------------------------------\n",
      "\n",
      "Since the Solow model is completely described by a single non-linear differential equation, we can use a root-finding routine for univariate functions from **`scipy.optimize`** to find the steady state value for capital. SciPy has several different root=finding routines for univariate functions: **`optimize.brentq`** and **`optimize.brenth`**, both of which are variants of [Brent's Method](http://en.wikipedia.org/wiki/Brent's_method); **``optimize.ridder``** which uses [Ridder's Method](http://en.wikipedia.org/wiki/Ridders'_method); **`optimize.bisect`** which is a basic implementation of [bisection search](http://en.wikipedia.org/wiki/Bisection_method); and **`optimize.newton`** which implements [Newton's Method](https://en.wikipedia.org/wiki/Newton's_method).\n",
      "\n",
      "Although all of the above methods achieve the same objective (i.e., find a value $x$ such that $f(x)=0$), each of the methods searches for this value of $x$ differently (if you are interested in the differences, have a read through the Wikipedia pages!). We are going to use bisection search to find the steady state of the Solow model.  Bisection search is robust (it will always work!), but relatively slow compared with some of the other routines.  \n",
      "\n",
      "Since this is our first time using this function, lets examine its help menu..."
     ]
    },
    {
     "cell_type": "code",
     "collapsed": false,
     "input": [
      "optimize.bisect?"
     ],
     "language": "python",
     "metadata": {},
     "outputs": [
      {
       "output_type": "stream",
       "stream": "stdout",
       "text": [
        "Object `optimize.bisect` not found.\n"
       ]
      }
     ],
     "prompt_number": 1
    },
    {
     "cell_type": "markdown",
     "metadata": {},
     "source": [
      "From the help menu we see that `optimize.bisect` takes the following arguments:\n",
      "    \n",
      "    optimize.bisect(f, a, b, args=(), xtol=1e-12, rtol=4.4408920985006262e-16, maxiter=100, full_output=False, disp=True)"
     ]
    },
    {
     "cell_type": "code",
     "collapsed": false,
     "input": [
      "# here is an example if its usage...\n",
      "func = lambda k, params: capital(k, keynesian_consumption(k, params), params)\n",
      "optimize.brentq(func, 1e-2, 1e2, args=(solow_params,))"
     ],
     "language": "python",
     "metadata": {},
     "outputs": [
      {
       "ename": "NameError",
       "evalue": "name 'optimize' is not defined",
       "output_type": "pyerr",
       "traceback": [
        "\u001b[0;31m---------------------------------------------------------------------------\u001b[0m\n\u001b[0;31mNameError\u001b[0m                                 Traceback (most recent call last)",
        "\u001b[0;32m<ipython-input-2-9bccbb04987f>\u001b[0m in \u001b[0;36m<module>\u001b[0;34m()\u001b[0m\n\u001b[1;32m      1\u001b[0m \u001b[0;31m# here is an example if its usage...\u001b[0m\u001b[0;34m\u001b[0m\u001b[0;34m\u001b[0m\u001b[0m\n\u001b[1;32m      2\u001b[0m \u001b[0mfunc\u001b[0m \u001b[0;34m=\u001b[0m \u001b[0;32mlambda\u001b[0m \u001b[0mk\u001b[0m\u001b[0;34m,\u001b[0m \u001b[0mparams\u001b[0m\u001b[0;34m:\u001b[0m \u001b[0mcapital\u001b[0m\u001b[0;34m(\u001b[0m\u001b[0mk\u001b[0m\u001b[0;34m,\u001b[0m \u001b[0mkeynesian_consumption\u001b[0m\u001b[0;34m(\u001b[0m\u001b[0mk\u001b[0m\u001b[0;34m,\u001b[0m \u001b[0mparams\u001b[0m\u001b[0;34m)\u001b[0m\u001b[0;34m,\u001b[0m \u001b[0mparams\u001b[0m\u001b[0;34m)\u001b[0m\u001b[0;34m\u001b[0m\u001b[0m\n\u001b[0;32m----> 3\u001b[0;31m \u001b[0moptimize\u001b[0m\u001b[0;34m.\u001b[0m\u001b[0mbrentq\u001b[0m\u001b[0;34m(\u001b[0m\u001b[0mfunc\u001b[0m\u001b[0;34m,\u001b[0m \u001b[0;36m1e-2\u001b[0m\u001b[0;34m,\u001b[0m \u001b[0;36m1e2\u001b[0m\u001b[0;34m,\u001b[0m \u001b[0margs\u001b[0m\u001b[0;34m=\u001b[0m\u001b[0;34m(\u001b[0m\u001b[0msolow_params\u001b[0m\u001b[0;34m,\u001b[0m\u001b[0;34m)\u001b[0m\u001b[0;34m)\u001b[0m\u001b[0;34m\u001b[0m\u001b[0m\n\u001b[0m",
        "\u001b[0;31mNameError\u001b[0m: name 'optimize' is not defined"
       ]
      }
     ],
     "prompt_number": 2
    },
    {
     "cell_type": "code",
     "collapsed": false,
     "input": [
      "# bisection search is slow...\n",
      "%timeit -n 1 -r 1000 optimize.bisect(func, 1e-2, 1e2, args=(solow_params,))"
     ],
     "language": "python",
     "metadata": {},
     "outputs": []
    },
    {
     "cell_type": "markdown",
     "metadata": {},
     "source": [
      "### Exercise 2: \n",
      "\n",
      "Bisection search is relatively slow (not withstanding the above result!).  The **`SolowModel`** class has a method called **`find_steady_state_values`** that provides a simple interface to the various univariate root finders provided in **`scipy.optimize`**. Use this method to compare the various root-finding techniques to find out which is the fastest. You may need to look at the documentation in order to get the dictionary of keyword arguments correctly formated (particularly for **`optimize.newton`!**).\n",
      "\n",
      "The example below demonstrates the correct usage... "
     ]
    },
    {
     "cell_type": "code",
     "collapsed": false,
     "input": [
      "# dictionary of keyword arguments for optimize.bisect\n",
      "kwargs = {'a':1e-2, 'b':1e2}\n",
      "\n",
      "# how long does it take to find the steady state?\n",
      "%timeit -n 1 -r 1000 model.steady_state.find_values(model.capital, method='bisect', **kwargs)"
     ],
     "language": "python",
     "metadata": {},
     "outputs": []
    },
    {
     "cell_type": "markdown",
     "metadata": {},
     "source": [
      "\n",
      "Given how simple it is to derive the steady state of the Solow model, you might be suprised to learn that finding the steady state of a model is, in general, NOT trivial.  Finding the steady state of a model described by $N$ equations requires finding a root of an $N$-dimensional system of equations which can be very tricky! "
     ]
    },
    {
     "cell_type": "code",
     "collapsed": false,
     "input": [],
     "language": "python",
     "metadata": {},
     "outputs": []
    }
   ],
   "metadata": {}
  }
 ]
}