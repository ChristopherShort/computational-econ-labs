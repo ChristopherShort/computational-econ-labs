{
 "metadata": {
  "name": "Numerical Dynamic Programming"
 },
 "nbformat": 3,
 "nbformat_minor": 0,
 "worksheets": [
  {
   "cells": [
    {
     "cell_type": "markdown",
     "metadata": {},
     "source": [
      "Dynamic programming is fundamental tool of economic analysis. Key references are [Stokey and Lucas (1989)](http://www.u.arizona.edu/~mwalker/econ519/Stokey&Lucas_1-65.pdf), Judd (1997), [Stachurski (2009)](Stachurski (2009)), and Lvunquist and Sargent...\n",
      "\n",
      "While many numerical methods have been developed for solving dynamic programming problems, this notebook focuses on only two: value iteration and policy iteration. Following chapter 12 of Judd (1998), I first discuss finite-state problems (which are pretty straightforward) and then move on to continuous (i.e., infinite-state) problems.\n",
      "\n",
      "## Discrete-Time Dynamic Programming Problems\n",
      "\n",
      "Objective is to control some dynamic process that can take on several possible states, can be influenced by the application of controls, and yields a stream of state- and control-dependent payoffs.  Let $X$ be the set of states, and $\\mathcal{D}$ be the set of controls. The flow of payoffs to the controller in period $t$ is $\\pi(x, u, t)\\ $ if $x \\in X$. is the state at the *beginning* of period $t$, and the control $u \\in \\mathcal{D}$ is applied in period $t$. Since there might be state- and time-dependent controls, let $D(x, t)\\subseteq\\mathcal{D}\\ $ be the non-empty set of feasible controls in state $x$ at time $t$.  Remember, $x_t$ and $u_t$ denote the values of the state and control in period $t$.\n",
      "\n",
      "If $x$ is the state at the *beginning* of period $t$ and $u$ is the control, the let $F(A; x, u, t)\\ $ be the probability that $x_{t+1} \\in A \\subset X$. Here $F(\\cdot; x, u, t)$ defines a probability measure over the states $X$ for each state $x$, control $u$, and time $t$.\n",
      "\n",
      "### Finite-Horizon Problems\n",
      "In the finite-horizon case, the objective of the controller is to maximize expected total returns over a $T+1$ period time horizon:\n",
      "\n",
      "$$E\\Bigg\\\\{\\sum_{t=1}^{T} \\pi(x_t, u_t, t) + W(x_{T+1})\\Bigg\\\\} \\tag{12.1.1}$$\n",
      "\n",
      "where $W(x)$ is the terminal valuation and $x_1$, the initial state, is given. The analysis of any dynamic programming problem revolves around the *value function*, $V(x, t)$, which is defining to be the greatest feasible total expected payoff from time $t$ forward if the time $t$ state is $x$. More formally, let $\\mathcal{U}(x, t)$ be the set of feasible rules for choosing the control, $u$ at time $s \\ge t$, beginning from the state $x$ in period $t$. Then $V$ is defined as \n",
      "\n",
      "$$ V(x, t) = \\sup_{u \\in D(x,t)} E\\Bigg\\\\{\\sum_{s=t}^{T} \\pi(x_s, u_s, s) + W(x_{T+1})| x_t = x\\Bigg\\\\} \\tag{12.1.2}$$\n",
      "\n",
      "Fundamental result if that the optimal policy and value function are **memoryless**: the value and optimal policy at time $s$ depend only on $x_s$, and the value function satisfies the Bellman equation:\n",
      "\n",
      "$$ V(x, t) = \\sup_{u \\in D(x,t)} \\pi(x, u, t) + E\\bigg\\\\{V(x_{T+1})| x_t = x, u_t=u\\bigg\\\\} \\tag{12.1.3}$$\n",
      "\n",
      "with the terminal condition \n",
      "\n",
      "$$V(x, T+1) = W(x) \\tag{12.1.4}$$\n",
      "\n",
      "Given the finite time horizon, it should be obvious that the value function always exists: we know the terminal valuation from 12.1.4, and for any $V(x,t)$, $V(x, t-1)$ exists because the supremum in 12.1.3 always exists so long as $D(x, t)$ is non-empty.\n",
      "\n",
      "The value function is the least upper bound on the possible payoff. How do we achieve this value? We attempt to compute the *optimal policy function*, $U(x,t)$, which is the optimal choice of the control in state $x$ at time $t$. If this optimum exists it must solve:\n",
      "\n",
      "$$ U(x,t) \\in  \\arg \\max_{u \\in D(x,t)} \\pi(x, u, t) + E\\bigg\\\\{V(x_{T+1})| x_t = x, u_t=u\\bigg\\\\} $$\n",
      "\n",
      "Existence of the optimal policy function in state $x$ at time $t$ depends on the existence of a control that achieves the supremum in 12.1.3. If there is no such control, we can construct *nearly* optimal policies (for any $\\epsilon$ there is a policy function that comes within $\\epsilon$ of achieving the value function).\n",
      "\n",
      "Note that the value function as defined in 12.1.2 is the total utility from following the optimal policy.  Sometimes we might want to examine non-optimal policies and their values. If we are in state $x$ at time $t$ an and we are using policy $U$, then the resulting expected total utility equals $V^{U}(x, t)$, which is defined recursively by\n",
      "\n",
      "$$ V^{U}(x, t) = \\pi(x, U(x,t), t) + E\\bigg\\\\{V^{U}(x_{T+1})| x_t = x, u_t=U(x,t)\\bigg\\\\} \\tag{12.1.5}$$\n",
      "\n",
      "Equation 12.1.5 is the general equation defining the value of the policy $U$.\n",
      "\n",
      "The notion of state variable is flexible since there are often many variables in a problem which can serve as the state variable(s). Only requirement is that the state variable(s) must be a sufficient description of the problem at some moment during a period. In particular, it may be useful to focus on an end-of-period state variable instead of a beginning of period state variable.  From a theoretical perspective there is no difference between a beginning-of-period and end-of-period formulation. However, there may be a substantial computational differences that argue for one formulation over the other.\n",
      "\n",
      "### Infinite-Horizon Problems\n",
      "\n",
      "Many economic problems can be written as infinite-horizon, discounted, time-separable, autonomous(i.e., time invariant) dynamic programmin problems. Since calendar time does not enter into the formulation of the problem directly, the payoff function is $\\pi(x, u)$, and $D(x)$ is the non-empty set of feasible controls for the current state, $x$. Let $x^{+}$ denote \"next period's\" state which depends on the current state and action in a possibly stochastic way. Formally, let $F(A: x, u)$ be the *time-independent* probability that $x^{+} \\in A$ if the current state is $x$ and the current control is $u$.\n",
      "\n",
      "For time-separable, autonomous problems that objective of the controller is to maximize the discounted value of expected returns \n",
      "\n",
      "$$E\\bigg\\\\{\\sum_{t=0}^{\\infty} \\beta^{t}\\pi(x_t, u_t)\\Bigg\\\\}$$\n",
      "\n",
      "for some fixed initial value, $x_0$, and discount factor $0 \\lt \\beta \\lt 1$. The value function for this problem is\n",
      "\n",
      "$$V(x) \\equiv \\sup_{\\mathcal{U}(x)} E\\bigg\\\\{\\sum_{t=0}^{\\infty} \\beta^{t}\\pi(x_t, u_t)|x_{0}=x\\Bigg\\\\} \\tag{12.1.8}$$\n",
      "\n",
      "where $\\mathcal{U}(x)$ is the set of feasible policies starting at $x$.  This value function satisfies the Bellman equation\n",
      "\n",
      "$$V(x) = \\sup_{u \\in D(x)} \\pi(x, u) + \\beta E\\big\\\\{V(x^{+})|x, u\\big\\\\} \\equiv (TV)(x)\\tag{12.1.9}$$\n",
      "\n",
      "and the policy function solves:\n",
      "\n",
      "$$U(x) \\in \\arg \\max_{u \\in D(x)} \\pi(x, u) + \\beta E\\big\\\\{V(x^{+})|x, u\\big\\\\} $$\n",
      "\n",
      "The key theorem in infinite horizon dynamic programming is the contraction mapping theorem applied to the Bellman equation.  A couple of definitions:\n",
      "\n",
      "* A **map** $T:Y \\rightarrow Z\\ $ on ordered spaces $Y$ and $Z$ is *monotone* if and only if $y_1 \\ge y_2 \\implies Ty_1 \\ge Ty_2$.\n",
      "* A **map** $T:Y \\rightarrow Y\\ $ on a metric space $Y$ is a *contraction mapping with modulus* $\\beta \\lt 1$ if and only if $||Ty_1 - Ty_2|| \\le \\beta||y_1 - y_2||\\ \\ \\ $.\n",
      "\n",
      "**Theorem 12.1.1:** If $X$ is compact, $\\beta \\lt 1$, and $\\pi$ is bounded, then the map\n",
      "\n",
      "$$ TV = \\sup_{u \\in D(x)} \\pi(x, u) + \\beta E\\big\\\\{V(x^{+})|x, u\\big\\\\} \\tag{12.1.10}$$\n",
      "\n",
      "is monotone in $V$, and is a contraction mapping with modulus $\\beta$ in the space of bounded functions, and has a *unique* fixed point.\n",
      "\n",
      "Although the assumption of boundedness and compactness of the state space required for theorem 12.1.1 to hold seem restrictive, they are not! We care only about numerically feasible dynamic programming problems which in general can examine only compact (i.e., closed and bounded) state spaces."
     ]
    },
    {
     "cell_type": "markdown",
     "metadata": {},
     "source": [
      "### Example: Infinite horizon deterministic growth\n",
      "\n",
      "The simplest wealth accumulation model is a deterministic growth model.  The rate of consumption is denoted by $c$, and $f(k)$ is the output when capital stock is $k$. Thus capital evolves according to $k_{t+1} = (1 - \\delta)k_t + f(k_t) - c_t\\ \\ \\ $. Assuming standard time-separable utility function with discount factor $0 \\lt \\beta \\lt 1\\ $, the discrete-time optimal growth model becomes\n",
      "\n",
      "$$ \\max_{c_t}\\ \\sum_{t=0}^{\\infty} \\beta^t u(c_t) \\tag{12.1.12}$$\n",
      "\n",
      "subject to the constraint:\n",
      "\n",
      "$$ k_{t+1} = (1 - \\delta)k_t + f(k_t) - c_t$$\n",
      "\n",
      "where $k_0$ is given.  The first-order conditions for the optimal path are $u'(c_t) = \\beta u'(c_{t+1})(1 + f'(k_{t+1}) - \\delta)\\ \\ \\ $ for all $t$. The dynamic programming version of 12.1.12 is\n",
      "\n",
      "$$ V(k) = \\max_{c}\\ u(c) + \\beta V((1 - \\delta)k_t + f(k_t) - c_t) \\tag{12.1.13}$$\n",
      "\n",
      "The opimtal policy function, also called the optimal policy law, $C(k)$ obeys the first-order conditions\n",
      "\n",
      "$$0 = u'(C(k)) - \\beta V'((1 - \\delta)k + f(k) - C(k)) \\tag{12.1.14}$$\n",
      "\n",
      "The envelope theorem applied to 12.1.13 implies that $V'(k)=\\beta V'((1-\\delta)k + f(k) - c)[(1 -\\delta) + f'(k)]\\ \\ \\ \\ \\ \\ $ which together with 12.1.14 implies that \n",
      "\n",
      "$$0 = u'(C(k))[(1 -\\delta) + f'(k)] - V'(k) \\tag{12.1.15}$$\n",
      "\n",
      "Thus the solution to 12.1.13 is a policy function $C(k)$ and a value function $V(k)$ that satisfy 12.1.15 and \n",
      "\n",
      "$$V(k) = u(C(k)) + \\beta V((1 -\\delta)k + f(k) - C(k)) \\tag{12.1.16} $$\n",
      "\n",
      "Note that 12.1.16 defines the value of an arbitrary policy function $C(k)\\ $, not just for the optimal policy. The pair 12.1.15 and 12.1.16 combine the definition of the value function with the first-order optimality condition. "
     ]
    },
    {
     "cell_type": "code",
     "collapsed": false,
     "input": [],
     "language": "python",
     "metadata": {},
     "outputs": []
    },
    {
     "cell_type": "markdown",
     "metadata": {},
     "source": [
      "# 12.3 Finite-state methods\n",
      "\n",
      "The simplest dynamic programming problems have a finite number of states. These simple problems are worth discussing for several reasons:\n",
      "\n",
      "1. Some problems are naturally discrete.\n",
      "2. Discrete approximations are often used in the economics literature.\n",
      "3. For teaching purposes, discrete problems are useful because they clearly illustrate important aspects of the common numerical dynamic programming methods.\n",
      "\n",
      "## Finite-horizon problems\n",
      "\n",
      "Let $X$ be the set $x_i, i=1,\\dots,n\\ \\ $ of $n$ states, and $\\mathcal{D} = \\\\{u_i| i = 1, \\dots, m\\\\}\\ \\ $ be the set of $m$ controls for the finite-state problem. Each control induces a Markov transition rule for the states, which can be summarized by the probabilistic law $q^t_{ij}(u)$; that is, for each control $u$, $q^t_{ij}(u)$ is the probability of transition to state $x_j$ if the state is $x_i$ and the control is $u$ in period $t$.  \n",
      "\n",
      "The collection of probabilities specifies a Markov transitition matrix at time $t$ for each $u$, which is denoted $Q^t(u)$. For control $u$ and state $x_i$, row $i$ in $Q^t(u)$ is the probability distribution of the state at time $t+1$ if the time $t$ state is $x_i$ and the controller applies control $u$. \n",
      "\n",
      "This formulation is quite general and includes a wide variety of problems.  Deterministic transition laws can be modele by permitting only zero and unit entries in the transition matrix, $Q^t(u)$ for each control $u$. State-dependent constraints on controls can be modeled by creating an extra absorbing state with constant payoff of $-\\infty$ and making the process move to that state whenever an inappropriate control is chosen. Hence, when we deal with finite-state, finite-control problems, we drop the control constraints and assume that any such constraints are already embedded in the payoff function.\n",
      "\n",
      "The analysis of a dynamic programming problem generally concentrates on the value function. In the finite-horizon case we can inductively use 12.1.3 to compute the value function at each time $t$, beginning with the terminal value function $V(x, T+1)=W(x)\\ \\ \\ $.  **Since we have only a finite number of states, the value function $V(x, t)\\ $ at time $t\\ $ is really just a finite list of values!**  If we define $V^t_i\\equiv V(x_i, t)\\ $, the Bellman equation of 12.1.3 becomes\n",
      "\n",
      "$$V^t_i = \\max_{u}\\ \\left[\\pi(x_i, u, t) + \\beta \\sum^n_{j=1} q^t_{ij}(u)V^{t+1}_j\\right] \\tag{12.3.1}$$\n",
      "\n",
      "with terminal condition\n",
      "\n",
      "$$V^{T+1} = W(x_i),\\ i=1,\\dots,n \\tag{12.3.2}$$\n",
      "\n",
      "Thus finite-horizon dynamic programming reduces to 12.3.2 combined with the induction step 12.3.1, where each induction step 12.3.1 involves solving several optimization problems.  It should be clear that the most demanding computational task will be solving the maximization problems in 12.3.1.  If there is no useful structure to exploit, and there are only a finitie number of controls possible in each state, then the only way to solve each of the maximization problems in 12.3.1 is to check out each possible control at each state.\n",
      "\n",
      "If the control $u$ is a continuous variable, then the maximization problems in 12.3.1 must be solved using an appropriate optimization method. Define\n",
      "\n",
      "$$h(u; x_i, t) \\equiv \\pi(x_i, u, t) + \\beta \\sum^n_{j=1} q^t_{ij}(u)V^{t+1}_j \\tag{12.3.3}$$\n",
      "\n",
      "to be the specific optimization problem at state $x_i$ in period $t$ with period $t+1$ value function $V^{t+1}$.  The proper choice of optimization algorithm depends on how $h$ depends on $u$.  If $h(u; x_i, t)$ is some smooth function of $u$ for each $x_i$ and $t$, then we may use [Newton's method](http://en.wikipedia.org/wiki/Newton's_method) (or some variant); however is $h$ is not smooth in $u$, then we may need to use a comparison method such as the [polytope method](http://en.wikipedia.org/wiki/Polytope_model).  If $h(u; x_i, t)\\ $ is multi-modal, then global optimization methods must be used.\n",
      "\n",
      "## Infinite-horizon problems:\n",
      "\n",
      "In infinite horizon problems with only a finite number of states, the infinite horizon Bellman equation 12.1.9 still imposes definitive conditions on the value function. **Since we have just a finite number of states, the value function is really just a finite list of values, a value vector.** If we define $V_i \\equiv V(x_i)$ to be the vector of values then the Bellman equation 12.1.9 becomes a system of non-linear equations:\n",
      "\n",
      "$$V_i = \\max_u \\left[ \\pi(x_i, u) + \\beta \\sum^n_{j=1} q_{ij}(u)V_j\\right] \\tag{12.3.4}$$\n",
      "\n",
      "Let $V^*$ denote the solution to 12.3.4. By the contraction theorem, 12.3.4 has a unique solution.  Unfortunately, the maximization step means that the unique solution is a non-linear function."
     ]
    },
    {
     "cell_type": "code",
     "collapsed": false,
     "input": [
      "import numpy as np\n",
      "from scipy.optimize import fminbound, fsolve\n",
      "from scipy.interpolate import interp1d"
     ],
     "language": "python",
     "metadata": {},
     "outputs": [],
     "prompt_number": 347
    },
    {
     "cell_type": "code",
     "collapsed": false,
     "input": [
      "def u(state, c):\n",
      "    \"\"\"Agent has CRRA preferences where c is consumption per\n",
      "    effective worker.\n",
      "\n",
      "    In general, the flow of utility can depend on the state, but\n",
      "    in this simple problem, the state variable does not enter \n",
      "    into the utility!\n",
      "    \n",
      "    \"\"\"\n",
      "    if theta != 1:\n",
      "        return (c**(1 - theta)) / (1 - theta)\n",
      "    else:\n",
      "        return np.log(c)\n",
      "    \n",
      "def capital(k, c):\n",
      "    \"\"\"Equation of motion for capital per effective worker.\"\"\"\n",
      "    kplus = (1 / ((1 + g) * (1 + n))) * ((1 - delta) * k + k**alpha - c)\n",
      "    return kplus\n",
      "\n",
      "def k_star():\n",
      "    \"\"\"Steady state value of capital per effective worker.\"\"\"\n",
      "    kstar = (alpha * beta / ((1 + g)**theta - beta * (1 - delta)))**(1 / (1 - alpha))\n",
      "    return kstar\n",
      "\n",
      "def c_star():\n",
      "    \"\"\"Steady state value of consumption per effective worker.\"\"\"\n",
      "    cstar = k_star()**alpha - ((1 + g) * (1 + n) - (1 - delta)) * k_star()\n",
      "    return cstar\n",
      "\n",
      "def gamma(k):\n",
      "    \"\"\"Bounds on the feasible set of choices of\n",
      "    consumption per effective worker.\n",
      "\n",
      "    \"\"\"\n",
      "    lower = 0.0\n",
      "    upper = (1 - delta) * k + k**alpha\n",
      "    return (lower, upper)"
     ],
     "language": "python",
     "metadata": {},
     "outputs": [],
     "prompt_number": 556
    },
    {
     "cell_type": "code",
     "collapsed": false,
     "input": [
      "def maximum(h, a, b):\n",
      "    \"\"\"Finds the maximum value of the function h on the interval [a,b]\n",
      "    \n",
      "    Returns a tuple containing the maximum value of h and its maximizer.\n",
      "    \n",
      "    \"\"\"\n",
      "    control, value = fminbound(lambda x: -h(x), a, b, full_output=True, disp=1)[0:2]\n",
      "    return (-value, control)\n",
      "\n",
      "def deterministicBellman(w, method='linear'):\n",
      "    \"\"\"The Bellman operator\n",
      "    \n",
      "    Arguments: \n",
      "\n",
      "        w:      A callable function\n",
      "    \n",
      "        method: Specifies the kind of interpolation as a string. Can be \n",
      "                one of:\n",
      "\n",
      "                'linear'    - (Default) 1st order spline (i.e., linear \n",
      "                              interpolation).\n",
      "                'quadratic' - 2nd order spline interpolation\n",
      "                'cubic'     - 3rd order spline interpolation.\n",
      "                'nearest'   - The nearest neighbor algorithm selects the \n",
      "                              value of the nearest point and does not \n",
      "                              consider the values of neighboring points \n",
      "                              at all, yielding a piecewise-constant \n",
      "                              interpolant. \n",
      "\n",
      "                Alternatively, can specify an integer indicating the \n",
      "                order of the spline interpolator to use. The default \n",
      "                method is 'linear'.\n",
      "\n",
      "    \"\"\"\n",
      "    vals = []\n",
      "    pols = []\n",
      "    for state in grid:\n",
      "        # current value function\n",
      "        h = lambda control: u(state, control) + discount * w(capital(state, control))\n",
      "        # find the value of the control that maximizes the current value function\n",
      "        a, b = gamma(state)\n",
      "        updatevector = maximum(h, a, b)\n",
      "        # update the value function with maximum value of h\n",
      "        vals.append(updatevector[0])\n",
      "        # update the policy function with the maximizer of h\n",
      "        pols.append(updatevector[1])\n",
      "        \n",
      "    return (interp1d(grid, vals, kind=method, bounds_error=False), \\\n",
      "            interp1d(grid, pols, kind=method, bounds_error=False))"
     ],
     "language": "python",
     "metadata": {},
     "outputs": [],
     "prompt_number": 571
    },
    {
     "cell_type": "code",
     "collapsed": false,
     "input": [
      "# define model parameters\n",
      "theta = 2.5\n",
      "beta  = 0.99\n",
      "g     = 0.005 \n",
      "n     = 0.0025 \n",
      "delta = 0.025 \n",
      "alpha = 0.33\n",
      "\n",
      "# define the discount factor\n",
      "discount = beta * (1 + g)**(1 - theta) * (1 + n)"
     ],
     "language": "python",
     "metadata": {},
     "outputs": [],
     "prompt_number": 592
    },
    {
     "cell_type": "code",
     "collapsed": false,
     "input": [
      "# grid of capital per effective worker (i.e., state variable!)\n",
      "N = 250\n",
      "kBar = 2 * k_star()\n",
      "grid = np.linspace(kBar / N, kBar, N)"
     ],
     "language": "python",
     "metadata": {},
     "outputs": [],
     "prompt_number": 593
    },
    {
     "cell_type": "code",
     "collapsed": false,
     "input": [
      "# Value function iteration algorithm\n",
      "def initial_valueFunction(state):\n",
      "    \"\"\"Being smart about our initial guess can save\n",
      "    substantial amount of computational time!\n",
      "\n",
      "    \"\"\"\n",
      "    #return u(0, state)\n",
      "    return u(0, c_star()) / (1 - discount)\n",
      "\n",
      "current_valueFunction  = initial_valueFunction\n",
      "current_policyFunction = lambda c: c_star()\n",
      "error = 1\n",
      "num_iter = 0\n",
      "\n",
      "# actual tolerance is a function of discount factor!\n",
      "tol = 0.01 * (1 - discount)\n",
      "\n",
      "# create a new figure instance (we are going to plot value and policy iterates as we go!)\n",
      "fig = plt.figure(figsize=(12,6))\n",
      "\n",
      "# grid for plotting (different from state variable grid)\n",
      "plot_grid = np.linspace(0, kBar, 1000)\n",
      "\n",
      "# create two subplots, one for value function and one for policy function\n",
      "ax1 = fig.add_subplot(121)\n",
      "ax1.axhline(u(0, c_star()) / (1 - discount), 0, kBar, color='b', \n",
      "            linestyle='dashed', alpha=0.25)\n",
      "ax1.set_xlim(0, kBar)\n",
      "ax1.set_xlabel('$k_t$', fontsize=15)\n",
      "ax1.set_ylabel('$V^*(k_t)$', fontsize=15, rotation='horizontal')\n",
      "ax1.set_title('Optimal value function', weight='bold')\n",
      "\n",
      "ax2 = fig.add_subplot(122)\n",
      "ax2.axhline(c_star(), 0, kBar, color='g', linestyle='dashed', \n",
      "            alpha=0.25)\n",
      "ax2.set_xlim(0, kBar)\n",
      "ax2.set_xlabel('$k_t$', fontsize=15)\n",
      "ax2.set_ylabel('$c(k_t)$', fontsize=15, rotation='horizontal')\n",
      "ax2.set_title('Optimal consumption policy', weight='bold')\n",
      "\n",
      "while True:\n",
      "    next_valueFunction, next_policyFunction = deterministicBellman(current_valueFunction, method='cubic')\n",
      "    error = np.max(np.abs(current_valueFunction(grid) - next_valueFunction(grid)))\n",
      "    num_iter += 1\n",
      "    if error < tol:\n",
      "        final_valueFunction, final_policyFunction = next_valueFunction, next_policyFunction\n",
      "        print \"After\", num_iter, \"iterations, the final error is\", error\n",
      "        ax1.plot(plot_grid, final_valueFunction(plot_grid), 'b-', label='$V^*(k)$')\n",
      "        ax2.plot(plot_grid, final_policyFunction(plot_grid), 'g-', label='$c_{VFI}(k)$')\n",
      "        break\n",
      "    else:\n",
      "        current_valueFunction, current_policyFunction = next_valueFunction, next_policyFunction\n",
      "        if num_iter % 50 == 0:\n",
      "            print \"After\", num_iter, \"iterations, the current error is\", error\n",
      "            ax1.plot(plot_grid, current_valueFunction(plot_grid), 'b--', alpha=0.25)\n",
      "            ax2.plot(plot_grid, current_policyFunction(plot_grid), 'g--', alpha=0.25)\n",
      "\n",
      "# add legends\n",
      "ax1.legend(loc='best', frameon=False)\n",
      "ax2.legend(loc='best', frameon=False)\n",
      "\n",
      "fig.tight_layout()\n",
      "plt.savefig('Graphics/Ramsey-value-policy-iterates.png')\n",
      "plt.show()"
     ],
     "language": "python",
     "metadata": {},
     "outputs": [
      {
       "output_type": "stream",
       "stream": "stdout",
       "text": [
        "After 50 iterations, the current error is 0.0426839813696\n",
        "After"
       ]
      },
      {
       "output_type": "stream",
       "stream": "stdout",
       "text": [
        " 100 iterations, the current error is 0.00978230253149\n",
        "After"
       ]
      },
      {
       "output_type": "stream",
       "stream": "stdout",
       "text": [
        " 150 iterations, the current error is 0.00375644333839\n",
        "After"
       ]
      },
      {
       "output_type": "stream",
       "stream": "stdout",
       "text": [
        " 200 iterations, the current error is 0.00168695573163\n",
        "After"
       ]
      },
      {
       "output_type": "stream",
       "stream": "stdout",
       "text": [
        " 250 iterations, the current error is 0.000786873679491\n",
        "After"
       ]
      },
      {
       "output_type": "stream",
       "stream": "stdout",
       "text": [
        " 300 iterations, the current error is 0.000370163469459\n",
        "After"
       ]
      },
      {
       "output_type": "stream",
       "stream": "stdout",
       "text": [
        " 350 iterations, the current error is 0.00017445822024\n",
        "After"
       ]
      },
      {
       "output_type": "stream",
       "stream": "stdout",
       "text": [
        " 361 iterations, the final error is 0.000147859342629\n"
       ]
      },
      {
       "output_type": "display_data",
       "png": "[encoded data removed]"
      }
     ],
     "prompt_number": 595
    },
    {
     "cell_type": "code",
     "collapsed": false,
     "input": [
      "# Define Policy function...\n",
      "optimal_consumptionPolicyFunction = final_policyFunction\n",
      "\n",
      "print \"Final error (should be less than chosen tolerance!):\", error\n",
      "print \"Number of Bellman iterations:                       \", num_iter \n",
      "print \"Policy function evaluated as SS value for k:        \", optimal_consumptionPolicyFunction(k_star())\n",
      "print \"SS value for consumption:                           \", c_star()"
     ],
     "language": "python",
     "metadata": {},
     "outputs": [
      {
       "output_type": "stream",
       "stream": "stdout",
       "text": [
        "Final error (should be less than chosen tolerance!): 0.000147859342629\n",
        "Number of Bellman iterations:                        361\n",
        "Policy function evaluated as SS value for k:         2.00878395421\n",
        "SS value for consumption:                            2.00878232145\n"
       ]
      }
     ],
     "prompt_number": 596
    },
    {
     "cell_type": "code",
     "collapsed": false,
     "input": [
      "# Compare Time paths of consumption between the linear and non-linear solution\n",
      "\n",
      "# Create a new plot\n",
      "plt.figure()\n",
      "#plt.plot(ramsey_solution[1][:, 1], color='b', label=r'$c_{Full}$')\n",
      "#plt.plot(c_linear, color='g', label=r'$c_{Linear}$')\n",
      "plt.plot(timevec, consumvec, color='r', label=r'$c_{VFI}$')\n",
      "\n",
      "# Add the steady state value for capital per effective worker\n",
      "plt.axhline(c_star(), ls='--', color='k', label=r'$c^{*}$')\n",
      "\n",
      "# Don't forget to label your axes!\n",
      "plt.xlim(0, 200)\n",
      "plt.xlabel('Time')\n",
      "plt.ylabel('Consumption per effective worker, c')\n",
      "\n",
      "# Add the legend\n",
      "plt.legend(loc='best', frameon=False)\n",
      "\n",
      "# Add a title to the plot\n",
      "plt.title('Solution paths of consumption per effective worker, c')\n",
      "\n",
      "plt.show()\n",
      "#plt.savefig('FullVSLinearComparison.png')"
     ],
     "language": "python",
     "metadata": {},
     "outputs": [
      {
       "output_type": "display_data",
       "png": "[encoded data removed]"
      }
     ],
     "prompt_number": 570
    },
    {
     "cell_type": "markdown",
     "metadata": {},
     "source": [
      "### Example: Deterministic growth with labor supply choice\n",
      "\n",
      "When labor is supplied elastically, utility is a function of both the consumption and labor supply decision, $u(c,l)$:\n",
      "\n",
      "$$ u(c, l) = ln\\ c + b ln (1 - l)$$\n",
      "\n",
      "The production function now depends on capital and labor, $f(k, l)=k^{\\alpha}l^{1-\\alpha}\\ $. The equation of motion for the capital per effective worker is;\n",
      "\n",
      "$$k_{t+1} = \\frac{1}{(1+g)(1+n)}\\left[(1 - \\delta)k_t + k_t^{\\alpha}l^{1_t-\\alpha} - c_t\\right]$$\n",
      "\n",
      "Our discrete time dynamic programming problem becomes:\n",
      "\n",
      "$$V(k_t) = \\max_{c_t,l_t}\\ u(c,l) + \\beta(1+n) V(k_{t+1}) \\tag{12.1.17}$$\n",
      "\n",
      "Combining the first-order conditions and the envelope theorem, we find that the control laws $C(k)$ and $L(k)$ must satisfy:\n",
      "\n",
      "$$0 = \\frac{1}{C(k)}[(1 + \\alpha k^{\\alpha-1}L(k)^{1-\\alpha} - \\delta] - V'(k) \\tag{12.1.18}$$\n",
      "\n",
      "$$0 = -\\frac{b}{1 - L(k)} + (1-\\alpha)k^{\\alpha}L(k)^{-\\alpha}\\frac{1}{C(k)}$$\n",
      "\n",
      "The solution to 12.1.17 are policy functions $C(k)\\ $, $L(k)$ and a value function $V(K)$ that satisfy the first-order conditions in 12.1.18 and \n",
      "\n",
      "$$V(k) = u(C(k), L(k))) + \\beta(1+n) V((1 - \\delta)k + f(k, L(k)) - C(k)) \\tag{12.1.19}$$"
     ]
    },
    {
     "cell_type": "code",
     "collapsed": false,
     "input": [
      "def u(k, l):\n",
      "    \"\"\"Utility function\"\"\"\n",
      "    return np.log(consumption(k, l)) + b * np.log(1 - l)\n",
      "    \n",
      "def output(k, l):\n",
      "    \"\"\"Output per effective person\"\"\"\n",
      "    return k**alpha * l**(1 - alpha)\n",
      "\n",
      "def real_wage(k, l):\n",
      "    \"\"\"labor is paid its marginal product\"\"\"\n",
      "    return (1 - alpha) * k**alpha * l**(-alpha)\n",
      "\n",
      "def consumption(k, l):\n",
      "    \"\"\"Intra-temporal FOC relating the two controls. This \n",
      "    equation allows us to avoid having to use two-dimensional\n",
      "    interpolation.\n",
      "\n",
      "    \"\"\"\n",
      "    return (real_wage(k, l) / b) * (1 - l)\n",
      "\n",
      "def capital(k, l):\n",
      "    \"\"\"Evolution of capital per effective person\"\"\"\n",
      "    y = output(k, l)\n",
      "    c = consumption(k, l)\n",
      "    kplus = (1 / ((1 + g) * (1 + n))) * ((1 - delta) * k + y - c)\n",
      "    return kplus"
     ],
     "language": "python",
     "metadata": {},
     "outputs": [],
     "prompt_number": 597
    },
    {
     "cell_type": "code",
     "collapsed": false,
     "input": [
      "def F1(k, l, c):\n",
      "    \"\"\"Implicit function describing equation of motion\n",
      "    of capital per effective worker near steady state.\n",
      "\n",
      "    \"\"\"\n",
      "    y = output(k, l)\n",
      "    kplus = (1 / ((1 + g) * (1 + n))) * ((1 - delta) * k + y - c)\n",
      "    return k - kplus\n",
      "\n",
      "def F2(k, l, c):\n",
      "    \"\"\"Implicit function describing the consumption Euler\n",
      "    equation near steady state.\n",
      "\n",
      "    \"\"\"\n",
      "    r = alpha * (output(k, l) / k)\n",
      "    return (1 / c) - (beta / (1 + g)) * (1 + r - delta) * (1 / c)\n",
      "\n",
      "def F3(k, l, c):\n",
      "    \"\"\"Implicit FOC for consumption and labor supply decision\n",
      "    near steady state.\n",
      "\n",
      "    \"\"\"\n",
      "    return (c / (1 - l)) - (real_wage(k, l) / b)\n",
      "\n",
      "def steadyStates(X):\n",
      "    \"\"\"Roots of this function are the steady state values.\"\"\"\n",
      "    out = [F1(X[0], X[1], X[2])]\n",
      "    out.append(F2(X[0], X[1], X[2]))\n",
      "    out.append(F3(X[0], X[1], X[2]))\n",
      "    \n",
      "    return out"
     ],
     "language": "python",
     "metadata": {},
     "outputs": [],
     "prompt_number": 598
    },
    {
     "cell_type": "code",
     "collapsed": false,
     "input": [
      "# set values for model parameters\n",
      "b     = 2.5\n",
      "beta  = 0.99\n",
      "g     = 0.005 \n",
      "n     = 0.0025 \n",
      "delta = 0.025 \n",
      "alpha = 0.33\n",
      "\n",
      "# determine the discount factor\n",
      "discount = beta * (1 + n)"
     ],
     "language": "python",
     "metadata": {},
     "outputs": [],
     "prompt_number": 599
    },
    {
     "cell_type": "code",
     "collapsed": false,
     "input": [
      "k_star, l_star, c_star = fsolve(steadyStates, x0=(0.5, 0.5, 0.5))\n",
      "\n",
      "print \"Steady state value of k:\", k_star\n",
      "print \"Steady state value of l:\", l_star\n",
      "print \"Steady state value of c:\", c_star"
     ],
     "language": "python",
     "metadata": {},
     "outputs": [
      {
       "output_type": "stream",
       "stream": "stdout",
       "text": [
        "Steady state value of k: 6.21134229432\n",
        "Steady state value of l: 0.267790037453\n",
        "Steady state value of c: 0.553795564691\n"
       ]
      }
     ],
     "prompt_number": 600
    },
    {
     "cell_type": "code",
     "collapsed": false,
     "input": [
      "# grid of capital per effective worker (i.e., state variable!)\n",
      "N = 250\n",
      "kBar = 2.5 * k_star\n",
      "#grid = np.logspace(np.log(kBar / N), np.log(kBar), N, base=np.exp(1))\n",
      "grid = np.linspace(kBar / N, kBar, N)\n",
      "\n",
      "def gamma(k):\n",
      "    \"\"\"Bounds on the feasible choice of labor supply.\"\"\"\n",
      "    lower = (1 - alpha) / (b + (1 - alpha))\n",
      "    upper = 0.5\n",
      "    return (lower, upper)"
     ],
     "language": "python",
     "metadata": {},
     "outputs": [],
     "prompt_number": 613
    },
    {
     "cell_type": "code",
     "collapsed": false,
     "input": [
      "# Value function iteration algorithm\n",
      "def initial_valueFunction(state):\n",
      "    \"\"\"Being smart about our initial guess can save\n",
      "    substantial amount of computational time!\n",
      "\n",
      "    \"\"\"\n",
      "    #return u(0, state)\n",
      "    return u(k_star, l_star) / (1 - discount)\n",
      "\n",
      "current_valueFunction  = initial_valueFunction\n",
      "current_policyFunction = lambda l: l_star\n",
      "error = 1\n",
      "num_iter = 0\n",
      "\n",
      "# actual tolerance is a function of discount factor!\n",
      "tol = 0.01 * (1 - discount)\n",
      "\n",
      "# create a new figure instance (we are going to plot value and policy iterates as we go!)\n",
      "fig = plt.figure(figsize=(18,6))\n",
      "\n",
      "# grid for plotting (different from state variable grid)\n",
      "plot_grid = np.linspace(0, kBar, 1000)\n",
      "\n",
      "# create two subplots, one for value function and one for policy function\n",
      "ax1 = fig.add_subplot(131)\n",
      "ax1.axhline(u(k_star, l_star) / (1 - discount), 0, kBar, color='b', \n",
      "            linestyle='dashed', alpha=0.25)\n",
      "ax1.set_xlim(0, kBar)\n",
      "ax1.set_xlabel('$k_t$', fontsize=15)\n",
      "ax1.set_ylabel('$V(k_t)$', fontsize=15, rotation='horizontal')\n",
      "ax1.set_title('Optimal value function', weight='bold')\n",
      "\n",
      "ax2 = fig.add_subplot(132)\n",
      "ax2.axhline(l_star, 0, kBar, color='g', linestyle='dashed', \n",
      "            alpha=0.25)\n",
      "ax2.set_xlim(0, kBar)\n",
      "ax2.set_xlabel('$k_t$', fontsize=15)\n",
      "ax2.set_ylabel('$l(k_t)$', fontsize=15, rotation='horizontal')\n",
      "ax2.set_title('Optimal labor supply policy', weight='bold')\n",
      "\n",
      "# optimal consumption policy\n",
      "ax3 = fig.add_subplot(133)\n",
      "ax3.axhline(consumption(k_star, l_star), 0, kBar, color='purple', \n",
      "            linestyle='dashed', alpha=0.25)\n",
      "ax3.set_xlim(0, kBar)\n",
      "ax3.set_xlabel('$k_t$', fontsize=15)\n",
      "ax3.autoscale(axis='x', tight=True)\n",
      "ax3.set_ylabel('$c(k_t)$', fontsize=15, rotation='horizontal')\n",
      "ax3.set_title('Optimal consumption policy', weight='bold')\n",
      "\n",
      "while True:\n",
      "    next_valueFunction, next_policyFunction = deterministicBellman(current_valueFunction, method='cubic')\n",
      "    error = np.max(np.abs(current_valueFunction(grid) - next_valueFunction(grid)))\n",
      "    num_iter += 1\n",
      "    if error < tol:\n",
      "        final_valueFunction, final_policyFunction = next_valueFunction, next_policyFunction\n",
      "        print \"After\", num_iter, \"iterations, the final error is\", error\n",
      "        ax1.plot(plot_grid, final_valueFunction(plot_grid), 'b-', label='$V^*(k)$')\n",
      "        ax2.plot(plot_grid, final_policyFunction(plot_grid), 'g-', label='$l_{VFI}(k)$')\n",
      "        ax3.plot(plot_grid, consumption(plot_grid, final_policyFunction(plot_grid)), 'purple', label='$c_{VFI}(k)$')\n",
      "        break\n",
      "    else:\n",
      "        current_valueFunction, current_policyFunction = next_valueFunction, next_policyFunction\n",
      "        if num_iter % 50 == 0:\n",
      "            print \"After\", num_iter, \"iterations, the current error is\", error\n",
      "            ax1.plot(plot_grid, current_valueFunction(plot_grid), 'b--', alpha=0.25)\n",
      "            ax2.plot(plot_grid, current_policyFunction(plot_grid), 'g--', alpha=0.25)\n",
      "            ax3.plot(plot_grid, consumption(plot_grid, current_policyFunction(plot_grid)), \n",
      "                     color='purple', linestyle='dashed', alpha=0.25)\n",
      "\n",
      "# add legends\n",
      "ax1.legend(loc='best', frameon=False)\n",
      "ax2.legend(loc='best', frameon=False)\n",
      "ax3.legend(loc='best', frameon=False)\n",
      "\n",
      "fig.tight_layout()\n",
      "plt.savefig('Graphics/RBC-value-policy-iterates.png')\n",
      "plt.show()"
     ],
     "language": "python",
     "metadata": {},
     "outputs": [
      {
       "output_type": "stream",
       "stream": "stdout",
       "text": [
        "After 50 iterations, the current error is 0.0759311078863\n",
        "After"
       ]
      },
      {
       "output_type": "stream",
       "stream": "stdout",
       "text": [
        " 100 iterations, the current error is 0.0247807737905\n",
        "After"
       ]
      },
      {
       "output_type": "stream",
       "stream": "stdout",
       "text": [
        " 150 iterations, the current error is 0.0163039556484\n",
        "After"
       ]
      },
      {
       "output_type": "stream",
       "stream": "stdout",
       "text": [
        " 200 iterations, the current error is 0.0111552837196\n",
        "After"
       ]
      },
      {
       "output_type": "stream",
       "stream": "stdout",
       "text": [
        " 250 iterations, the current error is 0.00764583826307\n",
        "After"
       ]
      },
      {
       "output_type": "stream",
       "stream": "stdout",
       "text": [
        " 300 iterations, the current error is 0.00524085827178\n",
        "After"
       ]
      },
      {
       "output_type": "stream",
       "stream": "stdout",
       "text": [
        " 350 iterations, the current error is 0.00359237069881\n",
        "After"
       ]
      },
      {
       "output_type": "stream",
       "stream": "stdout",
       "text": [
        " 400 iterations, the current error is 0.00246240756729\n",
        "After"
       ]
      },
      {
       "output_type": "stream",
       "stream": "stdout",
       "text": [
        " 450 iterations, the current error is 0.00168786897973\n",
        "After"
       ]
      },
      {
       "output_type": "stream",
       "stream": "stdout",
       "text": [
        " 500 iterations, the current error is 0.0011569578208\n",
        "After"
       ]
      },
      {
       "output_type": "stream",
       "stream": "stdout",
       "text": [
        " 550 iterations, the current error is 0.000793042241753\n",
        "After"
       ]
      },
      {
       "output_type": "stream",
       "stream": "stdout",
       "text": [
        " 600 iterations, the current error is 0.000543594576897\n",
        "After"
       ]
      },
      {
       "output_type": "stream",
       "stream": "stdout",
       "text": [
        " 650 iterations, the current error is 0.000372609488977\n",
        "After"
       ]
      },
      {
       "output_type": "stream",
       "stream": "stdout",
       "text": [
        " 700 iterations, the current error is 0.000255406946735\n",
        "After"
       ]
      },
      {
       "output_type": "stream",
       "stream": "stdout",
       "text": [
        " 750 iterations, the current error is 0.000175069906675\n",
        "After"
       ]
      },
      {
       "output_type": "stream",
       "stream": "stdout",
       "text": [
        " 800 iterations, the current error is 0.00012000250041\n",
        "After"
       ]
      },
      {
       "output_type": "stream",
       "stream": "stdout",
       "text": [
        " 850 iterations, the current error is 8.22562848555e-05\n",
        "After"
       ]
      },
      {
       "output_type": "stream",
       "stream": "stdout",
       "text": [
        " 862 iterations, the final error is 7.5128376352e-05\n"
       ]
      },
      {
       "output_type": "display_data",
       "png": "[encoded data removed]"
      }
     ],
     "prompt_number": 614
    },
    {
     "cell_type": "code",
     "collapsed": false,
     "input": [
      "# Define Policy function.\n",
      "optimal_laborPolicyFunction = final_policyFunction\n",
      "\n",
      "print \"Final error (should be less than chosen tolerance!):\", error\n",
      "print \"Number of Bellman iterations:                       \", num_iter \n",
      "print \"Policy function evaluated as SS value for k:        \", optimal_laborPolicyFunction(k_star)\n",
      "print \"SS value for l:                                     \", l_star"
     ],
     "language": "python",
     "metadata": {},
     "outputs": [
      {
       "output_type": "stream",
       "stream": "stdout",
       "text": [
        "Final error (should be less than chosen tolerance!): 7.5128376352e-05\n",
        "Number of Bellman iterations:                        862\n",
        "Policy function evaluated as SS value for k:         0.267789732813\n",
        "SS value for l:                                      0.267790037453\n"
       ]
      }
     ],
     "prompt_number": 615
    },
    {
     "cell_type": "markdown",
     "metadata": {},
     "source": [
      "While the above examples are motivated by an optimal growth model, that is only one interpretation. For example, 12.1.17 can also be interpreted as the dynamic programming problem of a monopolistic firm. In the monopolistic firm application, $c$ is dividends, $u(c,l)=c\\ $ (i.e, firm owner has risk neutral preferences that are a function of dividends only!), $l$ is the amount of labor hired, $k$ is both the capital stock and total assets, and $F(k,l)$ is the profit flow if the monopolist has $k$ units of capital and hires $l$ units of labor.  Alternatively, 12.1.17 can be interpreted as an individual's dynamic programming problem, where $u$ is the individual's utility function, $k$, is individual wealth, and $F(k,l)$ is an individual's flow of asset and labor income.  It would be most natural to use the finite horizon version in this case (because people have finite horizons!), make $F$ and $u$ depend on age and require $k\\ge0$ at time of death. The point being emphasized is that the forumlation of 12.1.17 is quite general.  There is a single endogenous state variable, $k$, and controls, $c$ and $l$, that enter into the payoff function and the law of motion.  We could make the interpretation even more general if we allowed the payoff function to be state dependent."
     ]
    },
    {
     "cell_type": "code",
     "collapsed": false,
     "input": [
      "next_valueFunction, next_policyFunction = deterministicBellman(initial_valueFunction, method='linear')"
     ],
     "language": "python",
     "metadata": {},
     "outputs": [],
     "prompt_number": 469
    },
    {
     "cell_type": "code",
     "collapsed": false,
     "input": [
      "nextnext_valueFunction, nextnext_policyFunction = deterministicBellman(next_valueFunction, method='linear')"
     ],
     "language": "python",
     "metadata": {},
     "outputs": [],
     "prompt_number": 472
    },
    {
     "cell_type": "code",
     "collapsed": false,
     "input": [
      "nextnext_valueFunction(grid[-44])"
     ],
     "language": "python",
     "metadata": {},
     "outputs": [
      {
       "output_type": "pyout",
       "prompt_number": 492,
       "text": [
        "array(nan)"
       ]
      }
     ],
     "prompt_number": 492
    },
    {
     "cell_type": "code",
     "collapsed": false,
     "input": [
      "np.nan_to_num(np.repeat(np.nan, 10))"
     ],
     "language": "python",
     "metadata": {},
     "outputs": [
      {
       "output_type": "pyout",
       "prompt_number": 554,
       "text": [
        "array([ 0.,  0.,  0.,  0.,  0.,  0.,  0.,  0.,  0.,  0.])"
       ]
      }
     ],
     "prompt_number": 554
    },
    {
     "cell_type": "code",
     "collapsed": false,
     "input": [
      "nextnext_policyFunction(14.88)"
     ],
     "language": "python",
     "metadata": {},
     "outputs": [
      {
       "output_type": "pyout",
       "prompt_number": 509,
       "text": [
        "array(0.5125914915221649)"
       ]
      }
     ],
     "prompt_number": 509
    },
    {
     "cell_type": "code",
     "collapsed": false,
     "input": [
      "capital(grid[-44], nextnext_policyFunction(grid[-44]))"
     ],
     "language": "python",
     "metadata": {},
     "outputs": [
      {
       "output_type": "pyout",
       "prompt_number": 497,
       "text": [
        "15.532736754849235"
       ]
      }
     ],
     "prompt_number": 497
    },
    {
     "cell_type": "code",
     "collapsed": false,
     "input": [
      "np.inf"
     ],
     "language": "python",
     "metadata": {},
     "outputs": [
      {
       "output_type": "pyout",
       "prompt_number": 542,
       "text": [
        "inf"
       ]
      }
     ],
     "prompt_number": 542
    },
    {
     "cell_type": "code",
     "collapsed": false,
     "input": [
      "np.max(np.abs(next_valueFunction(grid) - initial_valueFunction(grid)))"
     ],
     "language": "python",
     "metadata": {},
     "outputs": [
      {
       "output_type": "pyout",
       "prompt_number": 474,
       "text": [
        "2.3512952703086656"
       ]
      }
     ],
     "prompt_number": 474
    },
    {
     "cell_type": "code",
     "collapsed": false,
     "input": [
      "np.max(np.abs(nextnext_valueFunction(grid) - next_valueFunction(grid)))"
     ],
     "language": "python",
     "metadata": {},
     "outputs": [
      {
       "output_type": "stream",
       "stream": "stderr",
       "text": [
        "-c:1: RuntimeWarning: invalid value encountered in absolute\n"
       ]
      },
      {
       "output_type": "pyout",
       "prompt_number": 475,
       "text": [
        "nan"
       ]
      }
     ],
     "prompt_number": 475
    },
    {
     "cell_type": "code",
     "collapsed": false,
     "input": [
      "test, test2 = detbellman(initial_valueFunction)"
     ],
     "language": "python",
     "metadata": {},
     "outputs": [],
     "prompt_number": 166
    },
    {
     "cell_type": "code",
     "collapsed": false,
     "input": [
      "test(k_star)"
     ],
     "language": "python",
     "metadata": {},
     "outputs": [
      {
       "output_type": "pyout",
       "prompt_number": 169,
       "text": [
        "array(nan)"
       ]
      }
     ],
     "prompt_number": 169
    },
    {
     "cell_type": "markdown",
     "metadata": {},
     "source": [
      "## Stochastic accumulation problems:\n",
      "\n",
      "Next consider a stochastic model of accumulation. Let $Z$ denote the current productivity level and $f(k, l, Z)$ denote net income; define $F(k, l, Z)=k + f(k, l, Z)$ and assume that $Z$ follows $z_{t+1} = g(Z_t, \\epsilon_{t+1})$ where the $\\epsilon_t$ are iid disturbances. The infinite horizon discrete-time optimization problem becomes "
     ]
    },
    {
     "cell_type": "markdown",
     "metadata": {},
     "source": [
      "### Example: A fisherman's problem\n",
      "\n",
      "We wish to model the behavior of Colonel Kurtz, who can be found on a small island in the Nung River living on catfish.  Local catfish bite only at dawn, and the Colonel bags a randome number of fish $W \\in [0, \\dots, B]\\ $ where $W \\sim \\phi$. Catfish spoil quickly in the tropics, lasting only if refrigerated. The Colonel has limited refrigeration facilities: a maximum of $M$ fish can fit into his freezer.  Let $X_t$ be the stock of fish at noon on day $t$, from which $C_t$ is to be consumed. The remainder $R_t = X_t - C_t$ is frozen.  Following the next morning's fishing trip, the state is $X_{t+1} = R_{t} + W_{t+1}$. Colonel Kurtz has discount factor $0 \\lt \\beta \\lt 1\\ $ and CRRA preferences over consumption. Upon observing state $X_t$, assume that Colonel Kurtz saves a quantity $R_t = \\sigma(X_{t})\\ $ (i.e., he follows a time-invariant storage policy). "
     ]
    },
    {
     "cell_type": "code",
     "collapsed": false,
     "input": [
      "# define utility parameters...\n",
      "theta = 0.5\n",
      "beta = 0.95 \n",
      "\n",
      "# upper bound on size of fish catch\n",
      "B = 10 \n",
      "\n",
      "# storage capacity\n",
      "M = 5\n",
      "\n",
      "# define the state and shock space\n",
      "S = range(B + M + 1)\n",
      "Z = range(B + 1)        \n",
      "\n",
      "# define some useful functions...\n",
      "def d_infty(v, w):\n",
      "    \"\"\"d_infty metric\"\"\"\n",
      "    return max(abs(v[x] - w[x]) for x in S)\n",
      "\n",
      "def U(c):\n",
      "    \"\"\"CRRA Utility function\"\"\"\n",
      "    return (c**(1 - theta) - 1) / (1 - theta)\n",
      "\n",
      "def q(z):\n",
      "    \"\"\"Probability mass function, uniform distribution\"\"\"\n",
      "    return 1.0 / len(Z) if 0 <= z <= B else 0\n",
      "\n",
      "def Gamma(x):\n",
      "    \"\"\"The correspondence of feasible actions\"\"\"\n",
      "    return range(min(x, M) + 1)\n",
      "\n",
      "def T(v):\n",
      "    \"\"\"An implementation of the Bellman Operator!\n",
      "    \n",
      "    Parameters:\n",
      "        \n",
      "        v, a sequence representing a function defined on S\n",
      "    \n",
      "    Returns:\n",
      "        \n",
      "        Tv, a list\n",
      "\n",
      "    \"\"\"\n",
      "    Tv = []\n",
      "    for x in S:\n",
      "        # Compute the value of the objective function for each\n",
      "        # a in Gamma(x), and store result in vals\n",
      "        vals = []\n",
      "        for a in Gamma(x):\n",
      "            y = U(x - a) + beta * sum(v[a + z] * q(z) for z in Z)\n",
      "            vals.append(y)\n",
      "            # Store the maximum reward for this x in the list Tv\n",
      "        Tv.append(max(vals))\n",
      "    return Tv\n",
      "\n",
      "def greedy(v):\n",
      "    \"\"\"Computes the optimal (i.e., greedy policy) for the \n",
      "    value function v.\n",
      "\n",
      "    \"\"\"\n",
      "    g = []\n",
      "    for x in S:\n",
      "        runningmax = -1\n",
      "        for a in Gamma(x):\n",
      "            y = U(x - a) + beta * sum(v[a + z] * q(z) for z in Z)\n",
      "            if y > runningmax:\n",
      "                runningmax = y\n",
      "                maximizer = a\n",
      "        g.append(maximizer)\n",
      "    return g"
     ],
     "language": "python",
     "metadata": {},
     "outputs": [],
     "prompt_number": 199
    },
    {
     "cell_type": "markdown",
     "metadata": {},
     "source": [
      "Simple implementation of a value iteration algorithm..."
     ]
    },
    {
     "cell_type": "code",
     "collapsed": false,
     "input": [
      "# initial guess for value function\n",
      "old_V = [U(x) for x in S]\n",
      "\n",
      "# specify some tolerance...\n",
      "tol = 0.01 * (1 - beta)\n",
      "\n",
      "#... and initialize dist\n",
      "dist   = 1.0\n",
      "n_iter = 0\n",
      "\n",
      "# Value iteration algorithm\n",
      "while dist > tol:\n",
      "    new_V = T(old_V)\n",
      "    dist  = d_infty(new_V, old_V)\n",
      "    if n_iter % 10 == 0:\n",
      "        print \"After\", n_iter, \"iterations, the distance is\",  dist\n",
      "    old_V = new_V\n",
      "    n_iter += 1\n",
      "    \n",
      "print \"Convergence after\", n_iter, \"iterations!\""
     ],
     "language": "python",
     "metadata": {},
     "outputs": [
      {
       "output_type": "stream",
       "stream": "stdout",
       "text": [
        "After 0 iterations, the distance is 2.60709510405\n",
        "After 10 iterations, the distance is 1.31118611934\n",
        "After"
       ]
      },
      {
       "output_type": "stream",
       "stream": "stdout",
       "text": [
        " 20 iterations, the distance is 0.785037304026\n",
        "After 30 iterations, the distance is 0.470030829913\n",
        "After 40 iterations, the distance is 0.281424820449\n",
        "After"
       ]
      },
      {
       "output_type": "stream",
       "stream": "stdout",
       "text": [
        " 50 iterations, the distance is 0.168499435622\n",
        "After 60 iterations, the distance is 0.100886836347\n",
        "After 70 iterations, the distance is 0.0604046756042\n",
        "After"
       ]
      },
      {
       "output_type": "stream",
       "stream": "stdout",
       "text": [
        " 80 iterations, the distance is 0.0361665105869\n",
        "After 90 iterations, the distance is 0.0216542258517\n",
        "After 100 iterations, the distance is 0.0129651849081\n",
        "After"
       ]
      },
      {
       "output_type": "stream",
       "stream": "stdout",
       "text": [
        " 110 iterations, the distance is 0.00776273512852\n",
        "After 120 iterations, the distance is 0.00464783627096\n",
        "After 130 iterations, the distance is 0.00278283126297\n",
        "After"
       ]
      },
      {
       "output_type": "stream",
       "stream": "stdout",
       "text": [
        " 140 iterations, the distance is 0.00166618387281\n",
        "After 150 iterations, the distance is 0.000997605832204\n",
        "After 160 iterations, the distance is 0.000597303462555\n",
        "After 170 iterations, the distance is 0.000357627646956\n",
        "After"
       ]
      },
      {
       "output_type": "stream",
       "stream": "stdout",
       "text": [
        " 180 iterations, the distance is 0.000214124882731\n",
        "After 190 iterations, the distance is 0.000128204476908\n",
        "Convergence after 196 iterations!\n"
       ]
      }
     ],
     "prompt_number": 203
    },
    {
     "cell_type": "code",
     "collapsed": false,
     "input": [
      "# compute the optimal policy\n",
      "pol = greedy(new_V)"
     ],
     "language": "python",
     "metadata": {},
     "outputs": [],
     "prompt_number": 204
    },
    {
     "cell_type": "code",
     "collapsed": false,
     "input": [
      "fig = plt.figure(figsize=(12,6))\n",
      "\n",
      "# plot the value function\n",
      "ax1 = fig.add_subplot(121)\n",
      "ax1.plot(S, new_V, marker='o', linestyle='--')\n",
      "\n",
      "# axes, labels, title, etc\n",
      "ax1.set_xlabel(\"Stock of fish, $X_t$\", fontsize=15)\n",
      "ax1.set_ylabel(\"$V^*(X_{t})$\", rotation=\"horizontal\", fontsize=15)\n",
      "ax1.set_ylim(0, 55)\n",
      "ax1.set_title(\"Value function for Colonel Kurtz\", fontsize=15)\n",
      "\n",
      "# plot the optimal policy\n",
      "ax2 = fig.add_subplot(122)\n",
      "ax2.plot(S, pol, marker='o', linestyle='--', color='g')\n",
      "\n",
      "# axes, labels, title, etc\n",
      "ax2.set_xlabel(\"Stock of fish, $X_t$\", fontsize=15)\n",
      "ax2.set_ylabel(\"$\\sigma^*(X_{t})$\", rotation=\"horizontal\", fontsize=15)\n",
      "ax2.set_ylim(0, M + 1)\n",
      "ax2.set_title(\"Policy function for Colonel Kurtz\", fontsize=15)\n",
      "\n",
      "# tighten up the layout and display\n",
      "fig.tight_layout()\n",
      "plt.savefig('Graphics/Kurtz-solution.png')\n",
      "plt.show()"
     ],
     "language": "python",
     "metadata": {},
     "outputs": [
      {
       "output_type": "display_data",
       "png": "[encoded data removed]"
      }
     ],
     "prompt_number": 205
    },
    {
     "cell_type": "code",
     "collapsed": false,
     "input": [
      "# a cool plot of policy function iterates\n",
      "current = [U(x) for x in S]\n",
      "tolerance = 0.001\n",
      "\n",
      "plt.figure(figsize=(8,6))\n",
      "\n",
      "# value iteration\n",
      "while 1:\n",
      "    plt.plot(greedy(current), 'go--', alpha = 0.15)\n",
      "    new = T(current)\n",
      "    if d_infty(new, current) < tolerance:\n",
      "        break\n",
      "    current = new\n",
      "\n",
      "# compute the optimal policy\n",
      "g = greedy(new)\n",
      "\n",
      "# axes, labels, etc\n",
      "plt.xlabel(\"Stock of fish, $X_t$\", fontsize=15)\n",
      "plt.ylabel(\"$\\sigma^*(X_{t})$\", rotation=\"horizontal\", fontsize=15)\n",
      "plt.ylim(0, M + 1)\n",
      "plt.title(\"Policy iterates for Colonel Kurtz\", fontsize=15)\n",
      "\n",
      "print 'The optimal policy is:'\n",
      "print g\n",
      "\n",
      "# display\n",
      "plt.show()"
     ],
     "language": "python",
     "metadata": {},
     "outputs": [
      {
       "output_type": "stream",
       "stream": "stdout",
       "text": [
        "The optimal policy is:\n",
        "[0, 0, 0, 0, 1, 1, 2, 2, 3, 3, 4, 5, 5, 5, 5, 5]\n"
       ]
      },
      {
       "output_type": "display_data",
       "png": "[encoded data removed]"
      }
     ],
     "prompt_number": 212
    },
    {
     "cell_type": "code",
     "collapsed": false,
     "input": [
      "new_V\n"
     ],
     "language": "python",
     "metadata": {},
     "outputs": [
      {
       "output_type": "pyout",
       "prompt_number": 114,
       "text": [
        "array([ 41.25825798,  43.25825798,  44.0866851 ,  44.72235959,\n",
        "        45.35266667,  45.88856506,  46.38004459,  46.85218055,\n",
        "        47.3036672 ,  47.73051073,  48.15673354,  48.55655051,\n",
        "        48.94907364,  49.31442527,  49.65757102,  49.98212634])"
       ]
      }
     ],
     "prompt_number": 114
    },
    {
     "cell_type": "code",
     "collapsed": false,
     "input": [
      "u(S)"
     ],
     "language": "python",
     "metadata": {},
     "outputs": [
      {
       "output_type": "pyout",
       "prompt_number": 73,
       "text": [
        "array([       -inf, -0.        ,  0.5       ,  0.66666667,  0.75      ,\n",
        "        0.8       ,  0.83333333,  0.85714286,  0.875     ,  0.88888889,\n",
        "        0.9       ,  0.90909091,  0.91666667,  0.92307692,  0.92857143,\n",
        "        0.93333333])"
       ]
      }
     ],
     "prompt_number": 73
    },
    {
     "cell_type": "code",
     "collapsed": false,
     "input": [
      "new_V[np.isfinite(new_V)] - u(S)[np.isfinite(u(S))]"
     ],
     "language": "python",
     "metadata": {},
     "outputs": [
      {
       "ename": "ValueError",
       "evalue": "operands could not be broadcast together with shapes (14) (15) ",
       "output_type": "pyerr",
       "traceback": [
        "\u001b[0;31m---------------------------------------------------------------------------\u001b[0m\n\u001b[0;31mValueError\u001b[0m                                Traceback (most recent call last)",
        "\u001b[0;32m<ipython-input-76-e776fb0360db>\u001b[0m in \u001b[0;36m<module>\u001b[0;34m()\u001b[0m\n\u001b[0;32m----> 1\u001b[0;31m \u001b[0mnew_V\u001b[0m\u001b[0;34m[\u001b[0m\u001b[0mnp\u001b[0m\u001b[0;34m.\u001b[0m\u001b[0misfinite\u001b[0m\u001b[0;34m(\u001b[0m\u001b[0mnew_V\u001b[0m\u001b[0;34m)\u001b[0m\u001b[0;34m]\u001b[0m \u001b[0;34m-\u001b[0m \u001b[0mu\u001b[0m\u001b[0;34m(\u001b[0m\u001b[0mS\u001b[0m\u001b[0;34m)\u001b[0m\u001b[0;34m[\u001b[0m\u001b[0mnp\u001b[0m\u001b[0;34m.\u001b[0m\u001b[0misfinite\u001b[0m\u001b[0;34m(\u001b[0m\u001b[0mu\u001b[0m\u001b[0;34m(\u001b[0m\u001b[0mS\u001b[0m\u001b[0;34m)\u001b[0m\u001b[0;34m)\u001b[0m\u001b[0;34m]\u001b[0m\u001b[0;34m\u001b[0m\u001b[0m\n\u001b[0m",
        "\u001b[0;31mValueError\u001b[0m: operands could not be broadcast together with shapes (14) (15) "
       ]
      }
     ],
     "prompt_number": 76
    },
    {
     "cell_type": "code",
     "collapsed": false,
     "input": [],
     "language": "python",
     "metadata": {},
     "outputs": [
      {
       "ename": "SyntaxError",
       "evalue": "invalid syntax (<ipython-input-184-eecf82c6ef5e>, line 12)",
       "output_type": "pyerr",
       "traceback": [
        "\u001b[0;36m  File \u001b[0;32m\"<ipython-input-184-eecf82c6ef5e>\"\u001b[0;36m, line \u001b[0;32m12\u001b[0m\n\u001b[0;31m    if theta != 1.0\u001b[0m\n\u001b[0m                   ^\u001b[0m\n\u001b[0;31mSyntaxError\u001b[0m\u001b[0;31m:\u001b[0m invalid syntax\n"
       ]
      }
     ],
     "prompt_number": 184
    },
    {
     "cell_type": "code",
     "collapsed": false,
     "input": [
      "1413.11 + 795.11 + 127.33 + 890 + 4700 + 2385 + 791.31"
     ],
     "language": "python",
     "metadata": {},
     "outputs": [
      {
       "output_type": "pyout",
       "prompt_number": 213,
       "text": [
        "11101.859999999999"
       ]
      }
     ],
     "prompt_number": 213
    },
    {
     "cell_type": "code",
     "collapsed": false,
     "input": [],
     "language": "python",
     "metadata": {},
     "outputs": []
    }
   ],
   "metadata": {}
  }
 ]
}