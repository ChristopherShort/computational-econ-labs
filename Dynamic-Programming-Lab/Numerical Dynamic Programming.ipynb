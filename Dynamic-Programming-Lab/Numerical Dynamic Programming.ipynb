{
 "metadata": {
  "name": "Numerical Dynamic Programming"
 },
 "nbformat": 3,
 "nbformat_minor": 0,
 "worksheets": [
  {
   "cells": [
    {
     "cell_type": "markdown",
     "metadata": {},
     "source": [
      "Dynamic programming is fundamental tool of economic analysis. Key references are [Stokey and Lucas (1989)](http://www.u.arizona.edu/~mwalker/econ519/Stokey&Lucas_1-65.pdf), Judd (1997), [Stachurski (2009)](Stachurski (2009)), and Lvunquist and Sargent...\n",
      "\n",
      "While many numerical methods have been developed for solving dynamic programming problems, this notebook focuses on only two: value iteration and policy iteration. Following chapter 12 of Judd (1998), I first discuss finite-state problems (which are pretty straightforward) and then move on to continuous (i.e., infinite-state) problems.\n",
      "\n",
      "## Discrete-Time Dynamic Programming Problems\n",
      "\n",
      "Objective is to control some dynamic process that can take on several possible states, can be influenced by the application of controls, and yields a stream of state- and control-dependent payoffs.  Let $X$ be the set of states, and $\\mathcal{D}$ be the set of controls. The flow of payoffs to the controller in period $t$ is $\\pi(x, u, t)\\ $ if $x \\in X$. is the state at the *beginning* of period $t$, and the control $u \\in \\mathcal{D}$ is applied in period $t$. Since there might be state- and time-dependent controls, let $D(x, t)\\subseteq\\mathcal{D}\\ $ be the non-empty set of feasible controls in state $x$ at time $t$.  Remember, $x_t$ and $u_t$ denote the values of the state and control in period $t$.\n",
      "\n",
      "If $x$ is the state at the *beginning* of period $t$ and $u$ is the control, the let $F(A; x, u, t)\\ $ be the probability that $x_{t+1} \\in A \\subset X$. Here $F(\\cdot; x, u, t)$ defines a probability measure over the states $X$ for each state $x$, control $u$, and time $t$.\n",
      "\n",
      "### Finite-Horizon Problems\n",
      "In the finite-horizon case, the objective of the controller is to maximize expected total returns over a $T+1$ period time horizon:\n",
      "\n",
      "$$E\\Bigg\\\\{\\sum_{t=1}^{T} \\pi(x_t, u_t, t) + W(x_{T+1})\\Bigg\\\\} \\tag{12.1.1}$$\n",
      "\n",
      "where $W(x)$ is the terminal valuation and $x_1$, the initial state, is given. The analysis of any dynamic programming problem revolves around the *value function*, $V(x, t)$, which is defining to be the greatest feasible total expected payoff from time $t$ forward if the time $t$ state is $x$. More formally, let $\\mathcal{U}(x, t)$ be the set of feasible rules for choosing the control, $u$ at time $s \\ge t$, beginning from the state $x$ in period $t$. Then $V$ is defined as \n",
      "\n",
      "$$ V(x, t) = \\sup_{u \\in D(x,t)} E\\Bigg\\\\{\\sum_{s=t}^{T} \\pi(x_s, u_s, s) + W(x_{T+1})| x_t = x\\Bigg\\\\} \\tag{12.1.2}$$\n",
      "\n",
      "Fundamental result if that the optimal policy and value function are **memoryless**: the value and optimal policy at time $s$ depend only on $x_s$, and the value function satisfies the Bellman equation:\n",
      "\n",
      "$$ V(x, t) = \\sup_{u \\in D(x,t)} \\pi(x, u, t) + E\\bigg\\\\{V(x_{T+1})| x_t = x, u_t=u\\bigg\\\\} \\tag{12.1.3}$$\n",
      "\n",
      "with the terminal condition \n",
      "\n",
      "$$V(x, T+1) = W(x) \\tag{12.1.4}$$\n",
      "\n",
      "Given the finite time horizon, it should be obvious that the value function always exists: we know the terminal valuation from 12.1.4, and for any $V(x,t)$, $V(x, t-1)$ exists because the supremum in 12.1.3 always exists so long as $D(x, t)$ is non-empty.\n",
      "\n",
      "The value function is the least upper bound on the possible payoff. How do we achieve this value? We attempt to compute the *optimal policy function*, $U(x,t)$, which is the optimal choice of the control in state $x$ at time $t$. If this optimum exists it must solve:\n",
      "\n",
      "$$ U(x,t) \\in  \\arg \\max_{u \\in D(x,t)} \\pi(x, u, t) + E\\bigg\\\\{V(x_{T+1})| x_t = x, u_t=u\\bigg\\\\} $$\n",
      "\n",
      "Existence of the optimal policy function in state $x$ at time $t$ depends on the existence of a control that achieves the supremum in 12.1.3. If there is no such control, we can construct *nearly* optimal policies (for any $\\epsilon$ there is a policy function that comes within $\\epsilon$ of achieving the value function).\n",
      "\n",
      "Note that the value function as defined in 12.1.2 is the total utility from following the optimal policy.  Sometimes we might want to examine non-optimal policies and their values. If we are in state $x$ at time $t$ an and we are using policy $U$, then the resulting expected total utility equals $V^{U}(x, t)$, which is defined recursively by\n",
      "\n",
      "$$ V^{U}(x, t) = \\pi(x, U(x,t), t) + E\\bigg\\\\{V^{U}(x_{T+1})| x_t = x, u_t=U(x,t)\\bigg\\\\} \\tag{12.1.5}$$\n",
      "\n",
      "Equation 12.1.5 is the general equation defining the value of the policy $U$.\n",
      "\n",
      "The notion of state variable is flexible since there are often many variables in a problem which can serve as the state variable(s). Only requirement is that the state variable(s) must be a sufficient description of the problem at some moment during a period. In particular, it may be useful to focus on an end-of-period state variable instead of a beginning of period state variable.  From a theoretical perspective there is no difference between a beginning-of-period and end-of-period formulation. However, there may be a substantial computational differences that argue for one formulation over the other.\n",
      "\n",
      "### Infinite-Horizon Problems\n",
      "\n",
      "Many economic problems can be written as infinite-horizon, discounted, time-separable, autonomous(i.e., time invariant) dynamic programmin problems. Since calendar time does not enter into the formulation of the problem directly, the payoff function is $\\pi(x, u)$, and $D(x)$ is the non-empty set of feasible controls for the current state, $x$. Let $x^{+}$ denote \"next period's\" state which depends on the current state and action in a possibly stochastic way. Formally, let $F(A: x, u)$ be the *time-independent* probability that $x^{+} \\in A$ if the current state is $x$ and the current control is $u$.\n",
      "\n",
      "For time-separable, autonomous problems that objective of the controller is to maximize the discounted value of expected returns \n",
      "\n",
      "$$E\\bigg\\\\{\\sum_{t=0}^{\\infty} \\beta^{t}\\pi(x_t, u_t)\\Bigg\\\\}$$\n",
      "\n",
      "for some fixed initial value, $x_0$, and discount factor $0 \\lt \\beta \\lt 1$. The value function for this problem is\n",
      "\n",
      "$$V(x) \\equiv \\sup_{\\mathcal{U}(x)} E\\bigg\\\\{\\sum_{t=0}^{\\infty} \\beta^{t}\\pi(x_t, u_t)|x_{0}=x\\Bigg\\\\} \\tag{12.1.8}$$\n",
      "\n",
      "where $\\mathcal{U}(x)$ is the set of feasible policies starting at $x$.  This value function satisfies the Bellman equation\n",
      "\n",
      "$$V(x) = \\sup_{u \\in D(x)} \\pi(x, u) + \\beta E\\big\\\\{V(x^{+})|x, u\\big\\\\} \\equiv (TV)(x)\\tag{12.1.9}$$\n",
      "\n",
      "and the policy function solves:\n",
      "\n",
      "$$U(x) \\in \\arg \\max_{u \\in D(x)} \\pi(x, u) + \\beta E\\big\\\\{V(x^{+})|x, u\\big\\\\} $$\n",
      "\n",
      "The key theorem in infinite horizon dynamic programming is the contraction mapping theorem applied to the Bellman equation.  A couple of definitions:\n",
      "\n",
      "* A **map** $T:Y \\rightarrow Z\\ $ on ordered spaces $Y$ and $Z$ is *monotone* if and only if $y_1 \\ge y_2 \\implies Ty_1 \\ge Ty_2$.\n",
      "* A **map** $T:Y \\rightarrow Y\\ $ on a metric space $Y$ is a *contraction mapping with modulus* $\\beta \\lt 1$ if and only if $||Ty_1 - Ty_2|| \\le \\beta||y_1 - y_2||\\ \\ \\ $.\n",
      "\n",
      "**Theorem 12.1.1:** If $X$ is compact, $\\beta \\lt 1$, and $\\pi$ is bounded, then the map\n",
      "\n",
      "$$ TV = \\sup_{u \\in D(x)} \\pi(x, u) + \\beta E\\big\\\\{V(x^{+})|x, u\\big\\\\} \\tag{12.1.10}$$\n",
      "\n",
      "is monotone in $V$, and is a contraction mapping with modulus $\\beta$ in the space of bounded functions, and has a *unique* fixed point.\n",
      "\n",
      "Although the assumption of boundedness and compactness of the state space required for theorem 12.1.1 to hold seem restrictive, they are not! We care only about numerically feasible dynamic programming problems which in general can examine only compact (i.e., closed and bounded) state spaces."
     ]
    },
    {
     "cell_type": "markdown",
     "metadata": {},
     "source": [
      "## Infinite horizon deterministic growth\n",
      "\n",
      "The simplest wealth accumulation model is a deterministic growth model.  There are two exogenous sources of growth in the model. The size of the labor force grows at rate $n$ per period; and the level of technology grows at rate $g$ per period:  \n",
      "\n",
      "$$ L_{t+1} = (1 + n)L_t$$\n",
      "$$ A_{t+1} = (1 + g)A_t$$\n",
      "\n",
      "In order to work with a stationary model we will work with per effective worker variables: the rate of consumption per effective worker is denoted by $c$, and $y=f(k)=k^{\\alpha}\\ $ is output per effective worker when the capital stock per effecive worker is $k$. Starting from this setup, the most natural state variable is $k\\ $, which evolves according to \n",
      "\n",
      "$$k_{t+1} = \\frac{1}{(1+g)(1+n)}\\left[(1 - \\delta)k_t + k^{\\alpha}_t - c_t\\right]$$\n",
      "\n",
      "Assuming time separable CRRA preferences with discount factor $0 \\lt \\beta \\lt 1\\ $, the discrete-time optimal growth model becomes\n",
      "\n",
      "$$ \\max_{c_t}\\ \\sum_{t=0}^{\\infty} [\\beta(1+g)^{1-\\theta}(1+n)]^t \\frac{c_t^{1-\\theta}}{1-\\theta} \\tag{12.1.12}$$\n",
      "\n",
      "subject to the constraint:\n",
      "\n",
      "$$k_{t+1} = \\frac{1}{(1+g)(1+n)}\\left[(1 - \\delta)k_t + k^{\\alpha}_t - c_t\\right]$$\n",
      "\n",
      "where $k_0$ is given.  The first-order conditions for the optimal path are $c_t^{-\\theta} = \\beta(1+g)^{-\\theta}c_{t+1}^{-\\theta}(1 + \\alpha k^{\\alpha-1}_{t+1} - \\delta)\\ \\ \\ $ for all $t$. The dynamic programming version of 12.1.12 is\n",
      "\n",
      "$$ V(k_t) = \\max_{0 \\le c_t \\le (1 - \\delta)k_t + k^{\\alpha}_t}\\ \\frac{c_t^{1-\\theta}}{1-\\theta} + \\beta(1+g)^{1-\\theta}(1+n) V\\left(\\frac{1}{(1+g)(1+n)}\\left[(1 - \\delta)k_t + k^{\\alpha}_t - c_t\\right]\\right) \\tag{12.1.13}$$\n",
      "\n",
      "Note that the feasibility set for choices of consumption per effective worker does not require $c_t \\le f(k_t)$, but instead requires that $c_t \\le (1-\\delta)k_t + f(k_t)\\ \\ $. \n",
      "\n",
      "The opimtal policy function, also called the optimal policy law, $c(k_t)$ obeys the first-order conditions\n",
      "\n",
      "$$0 = c(k_t)^{-\\theta} - \\beta(1+g)^{-\\theta} V'\\left(\\frac{1}{(1+g)(1+n)}\\left[(1 - \\delta)k + k^{\\alpha} - c(k_t)\\right]\\right) \\tag{12.1.14}$$\n",
      "\n",
      "The envelope theorem applied to 12.1.13 yields \n",
      "\n",
      "$$V'(k_t)=\\beta(1+g)^{-\\theta}V'\\left(\\frac{1}{(1+g)(1+n)}\\left[(1-\\delta)k_t + k^{\\alpha}_t - c_t\\right]\\right)[(1 -\\delta) + \\alpha k^{\\alpha-1}_t]$$\n",
      "\n",
      "which together with 12.1.14 implies that \n",
      "\n",
      "$$0 = c(k_t)^{-\\theta}[(1 -\\delta) + \\alpha k^{\\alpha-1}_t] - V'(k_t) \\tag{12.1.15}$$\n",
      "\n",
      "Thus the solution to 12.1.13 is a policy function $c(k_t)$ and a value function $V(k_t)$ that satisfy 12.1.15 and \n",
      "\n",
      "$$V(k_t) = \\frac{c(k_t)^{1-\\theta}}{1-\\theta} + \\beta(1+g)^{1-\\theta}(1+n) V\\left(\\frac{1}{(1+g)(1+n)}\\left[(1 - \\delta)k_t + k^{\\alpha}_t - c(k_t)\\right]\\right) \\tag{12.1.16} $$\n",
      "\n",
      "Note that 12.1.16 defines the value of an arbitrary policy function $c(k_t)\\ $, not just for the optimal policy. The pair 12.1.15 and 12.1.16 combine the definition of the value function with the first-order optimality condition. "
     ]
    },
    {
     "cell_type": "markdown",
     "metadata": {},
     "source": [
      "### Method 1: Value iteration over a discrete grid\n",
      "\n",
      "The idea here is tranform the above problem which has an infinite number of states (because capital per effective worker, $k$, is naturally continuous) into a problem with only a finite number of states. The solution to the finite state problem can then be used as an approximate solution to the infinite state problem.\n",
      "\n",
      "First, we replace the infinite state variable, $k$, with a finite set $K={k_1, \\dots, k_n}$ of permissible values.  Next, we  need to choose a collections of values for the control, $c$, consistent with our discretization of the state variable. Why? The value function, $V$, will only be defined for $k\\in K$ and thuse we need to make certain that the feasible choice set for $c$ keep the capital stock per effective worker on our grid. \n",
      "\n",
      "A useful way to attack this problem is to redefine the problem so that the control variable in a given period is next period's value of the state variable.\n",
      "\n",
      "$$ \\max_{k_{t+1}}\\ \\sum_{t=0}^{\\infty} [\\beta(1+g)^{1-\\theta}(1+n)]^t \\frac{[(1 - \\delta)k_t + k_t^{\\alpha} - (1+g)(1+n)k_{t+1}]^{1-\\theta}}{1-\\theta}$$\n",
      "\n",
      "The Bellman equation is now\n",
      "\n",
      "$$ V(k_t) = \\max_{k_{t+1}}\\ \\frac{[(1 - \\delta)k_t + k_t^{\\alpha} - (1+g)(1+n)k_{t+1}]^{1-\\theta}}{1-\\theta} + \\beta(1+g)^{1-\\theta}(1+n)V(k_{t+1})$$\n",
      "\n",
      "where next period's value of capital per effective worker is the control. The consumption choice is then $(1 - \\delta)k_t + k_t^{\\alpha} - (1+g)(1+n)k_{t+1}]\\ \\ \\ \\ $. Re-writing the problem in this way makes is much easier to discretize. Since the future state is the control, the set of grid point $K$ is both the set of stats and the set of feasible value of the control."
     ]
    },
    {
     "cell_type": "code",
     "collapsed": false,
     "input": [
      "import numpy as np\n",
      "from scipy.spatial.distance import chebyshev"
     ],
     "language": "python",
     "metadata": {},
     "outputs": [],
     "prompt_number": 1
    },
    {
     "cell_type": "code",
     "collapsed": false,
     "input": [
      "def u(k, kplus):\n",
      "    \"\"\"Agent has CRRA preferences.\"\"\"\n",
      "    c = (1 - delta) * k + k**alpha - (1 + g) * (1 + n) * kplus\n",
      "    if theta != 1:\n",
      "        return (c**(1 - theta)) / (1 - theta)\n",
      "    else:\n",
      "        return np.log(c)\n",
      "    \n",
      "def k_star():\n",
      "    \"\"\"Steady state value of capital per effective worker.\"\"\"\n",
      "    kstar = (alpha * beta / ((1 + g)**theta - beta * (1 - delta)))**(1 / (1 - alpha))\n",
      "    return kstar\n",
      "\n",
      "def c_star():\n",
      "    \"\"\"Steady state value of consumption per effective worker.\"\"\"\n",
      "    cstar = k_star()**alpha - ((1 + g) * (1 + n) - (1 - delta)) * k_star()\n",
      "    return cstar"
     ],
     "language": "python",
     "metadata": {},
     "outputs": [],
     "prompt_number": 2
    },
    {
     "cell_type": "code",
     "collapsed": false,
     "input": [
      "def discreteBellman(w):\n",
      "    \"\"\"An efficient, but naive, implementation of the discretized \n",
      "    Bellman operator.\n",
      "    \n",
      "    Function expects that the two arrays kStates and kControls have \n",
      "    been created using np.ogrid (or equivalent). The use of NumPy \n",
      "    broadcasting is what really makes this implementation of the\n",
      "    discretized Bellman operator fast and memory efficient.\n",
      "    \n",
      "    Arguments:\n",
      "        \n",
      "        w: an array representing a function defined over the \n",
      "           discrete grid of possible states.\n",
      "    \n",
      "    Returns: \n",
      "        \n",
      "        Tw: an array of values representing the next value function \n",
      "            iterate.\n",
      "\n",
      "    \"\"\"\n",
      "    # Compute next value function iterate (note the clever use of NumPy broadcasting!)\n",
      "    Tw = np.nanmax(u(kStates, kControls) + discount * w.reshape(kControls.shape), axis=0)\n",
      "    \n",
      "    return Tw"
     ],
     "language": "python",
     "metadata": {},
     "outputs": [],
     "prompt_number": 3
    },
    {
     "cell_type": "code",
     "collapsed": false,
     "input": [
      "def get_discreteGreedy(w):\n",
      "    \"\"\"Computes the greedy policy for a given value function.\n",
      "    \n",
      "    Function expects that two arrays kStates and kControls have been \n",
      "    created using np.ogrid (or equivalent).\n",
      "\n",
      "    Arguments:\n",
      "        \n",
      "        w: an array representing a function defined over the \n",
      "           discrete grid of possible states.\n",
      "    \n",
      "    Returns: A list containing\n",
      "        \n",
      "        greedy_policy:  an array of values representing the \n",
      "                        next policy function iterate.\n",
      "        greedy_indices: an array of integers which can be used\n",
      "                        to select the optimal, greedy policy\n",
      "                        from the array of feasible controls.\n",
      "\n",
      "    BUG: argmax seems to bog down as the size of the array of \n",
      "    controls approaches 1e5.\n",
      "\n",
      "    \"\"\"\n",
      "    # Compute next policy function iterate (note the clever use of Broadcasting)\n",
      "    greedy_indices = np.nanargmax(u(kStates, kControls) + discount * w.reshape(kControls.shape), axis=0)\n",
      "    greedy_policy  = kControls[greedy_indices]\n",
      "    \n",
      "    return [greedy_policy, greedy_indices]"
     ],
     "language": "python",
     "metadata": {},
     "outputs": [],
     "prompt_number": 25
    },
    {
     "cell_type": "code",
     "collapsed": false,
     "input": [
      "def discreteBellman2(w):\n",
      "    \"\"\"A second implementation of the Bellman operator. Used to perform\n",
      "    value function iteration over a discretized grid of point.\n",
      "    \n",
      "    Function avoids having to store the large arrays kStates and kControls \n",
      "    (and thus improves upon memory usage) at the cost of adding a for loop.\n",
      "    \n",
      "    Arguments:\n",
      "        \n",
      "        w: an array representing a function defined over the \n",
      "           discrete grid of possible states.\n",
      "    \n",
      "    Returns: \n",
      "        \n",
      "        Tw: an array of values representing the next value function iterate.\n",
      "\n",
      "    \"\"\"\n",
      "    # empty array in which to store value function\n",
      "    Tw = np.empty(Nk)\n",
      "    \n",
      "    # computes value function\n",
      "    for i, k in enumerate(kGrid):\n",
      "        Tw[i] = np.nanmax(u(k, kGrid) + discount * w, axis=0)\n",
      "    \n",
      "    return Tw"
     ],
     "language": "python",
     "metadata": {},
     "outputs": [],
     "prompt_number": 4
    },
    {
     "cell_type": "code",
     "collapsed": false,
     "input": [
      "def get_discreteGreedy2(w):\n",
      "    \"\"\"Computes the greedy policy for a given value function.\n",
      "    \n",
      "    Function avoids having to store the large arrays kStates and kControls \n",
      "    (and thus improves upon memory usage) at the cost of adding a for loop. \n",
      "\n",
      "    Arguments:\n",
      "        \n",
      "        w: an array representing a function defined over the \n",
      "           discrete grid of possible states.\n",
      "    \n",
      "    Returns: A list containing\n",
      "        \n",
      "        greedy_policy:  an array of values representing the \n",
      "                        next policy function iterate.\n",
      "        greedy_indices: an array of integers which can be used\n",
      "                        to select the optimal, greedy policy\n",
      "                        from the array of feasible controls.\n",
      "\n",
      "    \"\"\"\n",
      "    # empty array in which to store indicies\n",
      "    greedy_indices = np.empty(kGrid.shape[0], dtype='int')\n",
      "    \n",
      "    # finds the indices of the optimal policy \n",
      "    for i, k in enumerate(kGrid):\n",
      "        greedy_indices[i] = np.nanargmax(u(k, kGrid) + discount * w, axis=0)\n",
      "    \n",
      "    # computes the optimal policy function\n",
      "    greedy_policy  = kGrid[greedy_indices]\n",
      "    \n",
      "    return [greedy_policy, greedy_indices]"
     ],
     "language": "python",
     "metadata": {},
     "outputs": [],
     "prompt_number": 27
    },
    {
     "cell_type": "code",
     "collapsed": false,
     "input": [
      "# define model parameters\n",
      "theta = 1.0\n",
      "beta  = 0.99\n",
      "g     = 0.005 \n",
      "n     = 0.005 \n",
      "delta = 1.0\n",
      "alpha = 0.33\n",
      "\n",
      "# define the discount factor\n",
      "discount = beta * (1 + g)**(1 - theta) * (1 + n)"
     ],
     "language": "python",
     "metadata": {},
     "outputs": [],
     "prompt_number": 7
    },
    {
     "cell_type": "code",
     "collapsed": false,
     "input": [
      "#%%timeit -n 1 -r 1\n",
      "# grid of capital per effective worker and technology shocks (i.e., state variables!)\n",
      "Nk = 1e4\n",
      "kMax = 1.9 * k_star()\n",
      "kMin = 0.1 * k_star()\n",
      "step = (kMax - kMin) / Nk\n",
      "\n",
      "# create 2D arrays of all possible values the control could take in all states\n",
      "kControls, kStates = np.ogrid[kMin:kMax:step, kMin:kMax:step]\n",
      "\n",
      "# 1D grid of values of state/control\n",
      "kGrid = kStates.flatten()"
     ],
     "language": "python",
     "metadata": {},
     "outputs": [],
     "prompt_number": 36
    },
    {
     "cell_type": "code",
     "collapsed": false,
     "input": [
      "kControls.flatten().shape"
     ],
     "language": "python",
     "metadata": {},
     "outputs": [
      {
       "output_type": "pyout",
       "prompt_number": 21,
       "text": [
        "(1001,)"
       ]
      }
     ],
     "prompt_number": 21
    },
    {
     "cell_type": "code",
     "collapsed": false,
     "input": [
      "kGrid.shape"
     ],
     "language": "python",
     "metadata": {},
     "outputs": [
      {
       "output_type": "pyout",
       "prompt_number": 19,
       "text": [
        "(1001,)"
       ]
      }
     ],
     "prompt_number": 19
    },
    {
     "cell_type": "code",
     "collapsed": false,
     "input": [
      "# initial guess for value function (good choice can substantially reduce computation time)\n",
      "initial_v = u(kStates, kStates) / (1 - discount) "
     ],
     "language": "python",
     "metadata": {},
     "outputs": [],
     "prompt_number": 31
    },
    {
     "cell_type": "code",
     "collapsed": false,
     "input": [
      "#%%timeit -n 1 -r 1\n",
      "# specify some tolerance...\n",
      "tol = 0.01 * (1 - discount)\n",
      "\n",
      "# keep track of number of iterations\n",
      "n_iter = 0\n",
      "\n",
      "##### Value iteration algorithm #####\n",
      "current_v = initial_v\n",
      "\n",
      "while True:\n",
      "    next_v = discreteBellman(current_v)\n",
      "    # chebyshev distance is the supremum norm\n",
      "    error  = chebyshev(next_v, current_v)\n",
      "    n_iter += 1\n",
      "    \n",
      "    # check for convergence\n",
      "    if error < tol:\n",
      "        print \"After\", n_iter, \"iterations, the final error is\",  error\n",
      "        final_v = next_v\n",
      "        break\n",
      "    \n",
      "    # print progress every 50 iterations\n",
      "    if n_iter % 1 == 0:\n",
      "        print \"After\", n_iter, \"iterations, the error is\",  error\n",
      "    current_v = next_v"
     ],
     "language": "python",
     "metadata": {},
     "outputs": [
      {
       "output_type": "stream",
       "stream": "stdout",
       "text": [
        "After 1 iterations, the error is 84.5197401799\n",
        "After"
       ]
      },
      {
       "output_type": "stream",
       "stream": "stdout",
       "text": [
        " 2 iterations, the error is 0.39309975391\n",
        "After"
       ]
      },
      {
       "output_type": "stream",
       "stream": "stdout",
       "text": [
        " 3 iterations, the error is 0.0212474017619\n",
        "After"
       ]
      },
      {
       "output_type": "stream",
       "stream": "stdout",
       "text": [
        " 4 iterations, the error is 0.00204101723543\n",
        "After"
       ]
      },
      {
       "output_type": "stream",
       "stream": "stdout",
       "text": [
        " 5 iterations, the error is 0.000213705812143\n",
        "After"
       ]
      },
      {
       "output_type": "stream",
       "stream": "stdout",
       "text": [
        " 6 iterations, the final error is 2.31389392411e-05\n"
       ]
      }
     ],
     "prompt_number": 32
    },
    {
     "cell_type": "code",
     "collapsed": false,
     "input": [
      "%%timeit -n 1 -r 1\n",
      "# compute the greedy policy\n",
      "final_pol, final_pol_indices = get_discreteGreedy2(final_v)"
     ],
     "language": "python",
     "metadata": {},
     "outputs": [
      {
       "output_type": "stream",
       "stream": "stdout",
       "text": [
        "1 loops, best of 1: 4.59 s per loop\n"
       ]
      }
     ],
     "prompt_number": 33
    },
    {
     "cell_type": "code",
     "collapsed": false,
     "input": [
      "%%timeit -n 1 -r 1\n",
      "# compute the greedy policy\n",
      "final_pol, final_pol_indices = get_discreteGreedy(final_v)"
     ],
     "language": "python",
     "metadata": {},
     "outputs": [
      {
       "output_type": "stream",
       "stream": "stdout",
       "text": [
        "1 loops, best of 1: 134 ms per loop\n"
       ]
      }
     ],
     "prompt_number": 29
    },
    {
     "cell_type": "code",
     "collapsed": false,
     "input": [
      "test = u(kStates, kControls) + discount * final_v.reshape(kControls.shape)"
     ],
     "language": "python",
     "metadata": {},
     "outputs": [],
     "prompt_number": 37
    },
    {
     "cell_type": "code",
     "collapsed": false,
     "input": [
      "final_v.reshape(kStates.shape)"
     ],
     "language": "python",
     "metadata": {},
     "outputs": [
      {
       "output_type": "pyout",
       "prompt_number": 27,
       "text": [
        "array([[-189.53877787, -189.53001257, -189.52140164, ..., -188.09305842,\n",
        "        -188.09259221, -188.09212652]])"
       ]
      }
     ],
     "prompt_number": 27
    },
    {
     "cell_type": "code",
     "collapsed": false,
     "input": [
      "np.choose("
     ],
     "language": "python",
     "metadata": {},
     "outputs": []
    },
    {
     "cell_type": "code",
     "collapsed": false,
     "input": [
      "final_v.searchsorted(final_v)"
     ],
     "language": "python",
     "metadata": {},
     "outputs": [
      {
       "output_type": "pyout",
       "prompt_number": 23,
       "text": [
        "array([   0,    1,    2, ...,  998,  999, 1000])"
       ]
      }
     ],
     "prompt_number": 23
    },
    {
     "cell_type": "code",
     "collapsed": false,
     "input": [],
     "language": "python",
     "metadata": {},
     "outputs": [],
     "prompt_number": 39
    },
    {
     "cell_type": "code",
     "collapsed": false,
     "input": [
      "final_pol_indices"
     ],
     "language": "python",
     "metadata": {},
     "outputs": [
      {
       "output_type": "pyout",
       "prompt_number": 40,
       "text": [
        "array([2, 3, 4, 4, 5, 5, 5, 6, 6, 6])"
       ]
      }
     ],
     "prompt_number": 40
    },
    {
     "cell_type": "code",
     "collapsed": false,
     "input": [
      "check"
     ],
     "language": "python",
     "metadata": {},
     "outputs": [
      {
       "output_type": "pyout",
       "prompt_number": 41,
       "text": [
        "array([2, 4, 6, 8, 9, 9, 9, 9, 9, 8])"
       ]
      }
     ],
     "prompt_number": 41
    },
    {
     "cell_type": "code",
     "collapsed": false,
     "input": [
      "# coefficients used to define the analytic value function\n",
      "A = (alpha * beta * (1 + n) * np.log((alpha * beta) / (1+g))) / ((1 - beta * (1 + n)) * (1 - alpha * beta * (1 + n))) + \\\n",
      "    np.log(1 - alpha * beta * (1 + n)) / (1 - beta * (1 + n))\n",
      "B = alpha / (1 - alpha * beta * (1 + n))"
     ],
     "language": "python",
     "metadata": {},
     "outputs": [],
     "prompt_number": 34
    },
    {
     "cell_type": "code",
     "collapsed": false,
     "input": [
      "fig = plt.figure(figsize=(12,6))\n",
      "\n",
      "# plot the numeric value function\n",
      "ax1 = fig.add_subplot(121)\n",
      "ax1.plot(kGrid, final_v, marker='o', markersize=2.0, linestyle='--',\n",
      "         color='purple', alpha=0.25, label='Numeric')\n",
      "# plot the analytic value function\n",
      "ax1.plot(kGrid, A + B * np.log(kGrid), 'r-', label='Analytic')\n",
      "\n",
      "# axes, labels, title, etc\n",
      "ax1.set_xlabel(\"$k_t$\", fontsize=15)\n",
      "ax1.set_ylabel(\"$V(k_{t})$\", rotation=\"horizontal\", fontsize=15)\n",
      "ax1.set_title(\"Value function\", fontsize=15, weight='bold')\n",
      "ax1.legend(loc='best', frameon=False)\n",
      "\n",
      "# plot the optimal policy\n",
      "ax2 = fig.add_subplot(122)\n",
      "ax2.plot(kGrid, final_pol, marker='o', markersize=2.0, linestyle='--', \n",
      "         color='g', alpha=0.25, label='Numeric')\n",
      "# plot the analytic optimal policy\n",
      "ax2.plot(kGrid, ((alpha * beta) / (1 + g)) * kGrid**alpha, 'r-', label='Analytic')\n",
      "ax2.plot(kGrid, kGrid, 'k--')\n",
      "\n",
      "# axes, labels, title, etc\n",
      "ax2.set_xlabel(\"$k_t$\", fontsize=15)\n",
      "ax2.set_ylabel(\"$k(k_{t})$\", rotation=\"horizontal\", fontsize=15)\n",
      "ax2.set_title(\"Policy function\", fontsize=15, weight='bold')\n",
      "ax2.legend(loc='best', frameon=False)\n",
      "\n",
      "# tighten up the layout and display\n",
      "fig.tight_layout()\n",
      "#plt.savefig('Graphics/Deterministic-Ramsey/Discretized-value-and-policy-functions.png')\n",
      "\n",
      "plt.show()"
     ],
     "language": "python",
     "metadata": {},
     "outputs": [
      {
       "ename": "NameError",
       "evalue": "name 'final_pol' is not defined",
       "output_type": "pyerr",
       "traceback": [
        "\u001b[0;31m---------------------------------------------------------------------------\u001b[0m\n\u001b[0;31mNameError\u001b[0m                                 Traceback (most recent call last)",
        "\u001b[0;32m<ipython-input-35-d00ad5d25199>\u001b[0m in \u001b[0;36m<module>\u001b[0;34m()\u001b[0m\n\u001b[1;32m     16\u001b[0m \u001b[0;31m# plot the optimal policy\u001b[0m\u001b[0;34m\u001b[0m\u001b[0;34m\u001b[0m\u001b[0m\n\u001b[1;32m     17\u001b[0m \u001b[0max2\u001b[0m \u001b[0;34m=\u001b[0m \u001b[0mfig\u001b[0m\u001b[0;34m.\u001b[0m\u001b[0madd_subplot\u001b[0m\u001b[0;34m(\u001b[0m\u001b[0;36m122\u001b[0m\u001b[0;34m)\u001b[0m\u001b[0;34m\u001b[0m\u001b[0m\n\u001b[0;32m---> 18\u001b[0;31m ax2.plot(kGrid, final_pol, marker='o', markersize=2.0, linestyle='--', \n\u001b[0m\u001b[1;32m     19\u001b[0m          color='g', alpha=0.25, label='Numeric')\n\u001b[1;32m     20\u001b[0m \u001b[0;31m# plot the analytic optimal policy\u001b[0m\u001b[0;34m\u001b[0m\u001b[0;34m\u001b[0m\u001b[0m\n",
        "\u001b[0;31mNameError\u001b[0m: name 'final_pol' is not defined"
       ]
      },
      {
       "output_type": "display_data",
       "png": "[encoded data removed]"
      }
     ],
     "prompt_number": 35
    },
    {
     "cell_type": "code",
     "collapsed": false,
     "input": [
      "# confirm that Supremum norm distance is strictly less than 0.01 for value function\n",
      "chebyshev(final_v, A + B * np.log(kGrid))"
     ],
     "language": "python",
     "metadata": {},
     "outputs": [
      {
       "output_type": "pyout",
       "prompt_number": 117,
       "text": [
        "0.0029747767887329246"
       ]
      }
     ],
     "prompt_number": 117
    },
    {
     "cell_type": "code",
     "collapsed": false,
     "input": [
      "# policy function approximation error\n",
      "chebyshev(final_pol, ((alpha * beta) / (1 + g)) * kGrid**alpha)"
     ],
     "language": "python",
     "metadata": {},
     "outputs": [
      {
       "output_type": "pyout",
       "prompt_number": 118,
       "text": [
        "0.003251304893295115"
       ]
      }
     ],
     "prompt_number": 118
    },
    {
     "cell_type": "markdown",
     "metadata": {},
     "source": [
      "Typically, we care more about the optimal consumption policy, $c(k_t)$.  It is straightforward to transform the optimal policy computed above into a policy for choosing consumption.  Note that, although perhaps not as apparent in the plot of the policy function above, the impact of using a finer grid is very apparent in the plot of the optimal consumption policy!"
     ]
    },
    {
     "cell_type": "code",
     "collapsed": false,
     "input": [
      "# back out the consumption policy\n",
      "numeric_optimalConsumptionPolicy = (1 - delta) * kGrid + kGrid**alpha - (1 + g) * (1 + n) * final_pol\n",
      "\n",
      "# known analytic solution\n",
      "analytic_optimalConsumptionPolicy = (1 - alpha * beta * (1 + n)) * kGrid**alpha"
     ],
     "language": "python",
     "metadata": {},
     "outputs": [],
     "prompt_number": 21
    },
    {
     "cell_type": "code",
     "collapsed": false,
     "input": [
      "fig = plt.figure(figsize=(8,6))\n",
      "\n",
      "# plot the value function\n",
      "ax1 = fig.add_subplot(111)\n",
      "\n",
      "# plot the optimal consumption policy\n",
      "ax1.plot(kGrid, numeric_optimalConsumptionPolicy, marker='o', markersize=2.0, linestyle='--', \n",
      "         color='b', alpha=0.25, label='Numeric')\n",
      "\n",
      "ax1.plot(kGrid, analytic_optimalConsumptionPolicy, color='r', label='Analytic')\n",
      "\n",
      "# axes, labels, title, etc\n",
      "ax1.set_xlabel(\"$k_t$\", fontsize=15)\n",
      "ax1.set_ylabel(\"$c(k_{t})$\", rotation=\"horizontal\", fontsize=15)\n",
      "ax1.set_title(\"Consumption policy function\", fontsize=15, weight='bold')\n",
      "ax1.legend(loc='best', frameon=False)\n",
      "\n",
      "# tighten up the layout and display\n",
      "fig.tight_layout()\n",
      "#plt.savefig('Graphics/Deterministic-Ramsey/Discretized-consumption-policy-function.png')\n",
      "plt.show()"
     ],
     "language": "python",
     "metadata": {},
     "outputs": [
      {
       "output_type": "display_data",
       "png": "[encoded data removed]"
      }
     ],
     "prompt_number": 22
    },
    {
     "cell_type": "code",
     "collapsed": false,
     "input": [
      "# consumption policy function approximation error\n",
      "chebyshev(numeric_optimalConsumptionPolicy, analytic_optimalConsumptionPolicy)"
     ],
     "language": "python",
     "metadata": {},
     "outputs": [
      {
       "output_type": "pyout",
       "prompt_number": 23,
       "text": [
        "2.1677906115236123e-05"
       ]
      }
     ],
     "prompt_number": 23
    },
    {
     "cell_type": "markdown",
     "metadata": {},
     "source": [
      "### Method 2: Policy function iteration over a discrete grid\n",
      "\n",
      "Value function iteration converges linearly at a rate determined by the discount factor, $\\beta(1+g)^{1-\\theta}(1+n)\\ \\ $. We can apply policy function iteration in order to attempt to speed up convergence. Policy iteration economizes by making more use of each computed policy function.  More specifically, each time a new policy function is computed, policy itertion computes the value function which would occur if the new policy function were used forever; in contrast, value function iteration assumes that the new policy function is used only for one period. Then, with the newly computed value function, we compute a new optimal policy function and continue the iteration."
     ]
    },
    {
     "cell_type": "code",
     "collapsed": false,
     "input": [
      "def discreteLoT(indices, w):\n",
      "    \"\"\"Computes the value function for a specified policy.\n",
      "\n",
      "    Arguments:\n",
      "\n",
      "        indices: An array of of ints of length Nk. The integers are \n",
      "                 actually indices indicating which value of control is\n",
      "                 chosen.\n",
      "        w:       an array of length Nk representing the value function.\n",
      "    \n",
      "    Returns: an array of length Nk representing the value function \n",
      "             implied by the specified policy.\n",
      "\n",
      "    \"\"\"\n",
      "    # Compute value of following the specified policy \n",
      "    return u(kGrid, kGrid[indices]) + discount * w[indices]\n",
      "\n",
      "def get_discreteGreedyPolicy(w):\n",
      "    \"\"\"Computes the optimal, greedy policy for the value function w\n",
      "    defined over a discrete grid of points.\n",
      "    \n",
      "    Returns:\n",
      "\n",
      "        greedy_indices: An array of of ints of length Nk. The integers are \n",
      "                         actually indices indicating the optimal control.\n",
      "\n",
      "    \"\"\"\n",
      "    # compute the greedy indices \n",
      "    greedy_indices = np.nanargmax(u(kStates, kControls) + discount * w.reshape(Nk,1), axis=0) \n",
      "    \n",
      "    return greedy_indices\n",
      "\n",
      "def get_discretePolicyValue(indices, init_v, tol=1.5e-4, mesg=False):\n",
      "    \"\"\"Computes the value function for a specified policy.\n",
      "\n",
      "    Arguments:\n",
      "\n",
      "        indices: An array of of ints of length Nk. The integers are \n",
      "                 actually indices indicating which value of control is\n",
      "                 chosen.\n",
      "        init_v:  Your best guess of the value function you seek.\n",
      "        tol:     Error tolerance. How close is close enough? \n",
      "        mesg:    Boolean flag. Do you want to print convergence progress?\n",
      "                 Default is False.\n",
      "\n",
      "    \"\"\"\n",
      "    # start from the initial guess\n",
      "    current_v = init_v\n",
      "    n_iter = 0\n",
      "    \n",
      "    while True:\n",
      "        new_v = discreteLoT(indices, current_v)\n",
      "        error = chebyshev(new_v, current_v)\n",
      "        n_iter += 1\n",
      "        # Check convergence\n",
      "        if error < tol:\n",
      "            final_v = new_v\n",
      "            break\n",
      "        # print progress \n",
      "        if mesg == True and n_iter % 50 == 0:\n",
      "            print \"After\", n_iter, \"iterations, the error is\", error\n",
      "        current_v = new_v\n",
      "    \n",
      "    return final_v"
     ],
     "language": "python",
     "metadata": {},
     "outputs": [],
     "prompt_number": 115
    },
    {
     "cell_type": "code",
     "collapsed": false,
     "input": [
      "##### Discretized policy iteration algorithm #####\n",
      "\n",
      "# good, feasible initial guess (equivalent to \n",
      "initial_ind = np.arange(0, Nk, 1) \n",
      "initial_pol = kGrid[initial_ind]\n",
      "\n",
      "# initialize a counter and the current value and policy functions\n",
      "num_iter = 0\n",
      "current_ind = initial_ind\n",
      "current_v   = np.log(kGrid)\n",
      "\n",
      "# choose a convergence tolerance\n",
      "tol = 0.01 * (1 - discount)\n",
      "\n",
      "while True:\n",
      "    # compute the value function implied by the current policy\n",
      "    next_v = get_discretePolicyValue(current_ind, current_v, mesg=False)\n",
      "    # compute the greedy policy for this value function\n",
      "    next_ind = get_discreteGreedyPolicy(next_v)\n",
      "    # check for convergence\n",
      "    error = chebyshev(kGrid[current_ind], kGrid[next_ind])\n",
      "    num_iter += 1\n",
      "    if error < tol:\n",
      "        final_v, final_ind, final_pol = next_v, next_ind, kGrid[next_ind]\n",
      "        print \"After\", num_iter, \"iterations, the final error is\", error\n",
      "        break\n",
      "    else:\n",
      "        current_v, current_ind = next_v, next_ind\n",
      "        # update on convergence \n",
      "        if num_iter % 50 == 0:\n",
      "            print \"After\", num_iter, \"iterations, the current error is\", error\n"
     ],
     "language": "python",
     "metadata": {},
     "outputs": [
      {
       "output_type": "stream",
       "stream": "stdout",
       "text": [
        "After 50 iterations, the current error is 0.032241701713\n",
        "After"
       ]
      },
      {
       "output_type": "stream",
       "stream": "stdout",
       "text": [
        " 64 iterations, the final error is 0.0\n"
       ]
      }
     ],
     "prompt_number": 116
    },
    {
     "cell_type": "code",
     "collapsed": false,
     "input": [
      "fig = plt.figure(figsize=(12,6))\n",
      "\n",
      "# plot the value function\n",
      "ax1 = fig.add_subplot(121)\n",
      "ax1.plot(kGrid, final_v, marker='o', markersize=2.0, linestyle='--',\n",
      "         color='purple', alpha=0.25)\n",
      "\n",
      "# axes, labels, title, etc\n",
      "ax1.set_xlabel(\"$k_t$\", fontsize=15)\n",
      "ax1.set_ylabel(\"$V(k_{t})$\", rotation=\"horizontal\", fontsize=15)\n",
      "ax1.set_title(\"Value function\", fontsize=15, weight='bold')\n",
      "\n",
      "# plot the optimal policy\n",
      "ax2 = fig.add_subplot(122)\n",
      "ax2.plot(kGrid, final_pol, marker='o', markersize=2.0, linestyle='--', \n",
      "         color='g', alpha=0.25)\n",
      "ax2.plot(kGrid, kGrid, 'k--')\n",
      "\n",
      "# axes, labels, title, etc\n",
      "ax2.set_xlabel(\"$k_t$\", fontsize=15)\n",
      "ax2.set_ylabel(\"$k(k_{t})$\", rotation=\"horizontal\", fontsize=15)\n",
      "ax2.set_title(\"Policy function\", fontsize=15, weight='bold')\n",
      "\n",
      "# tighten up the layout and display\n",
      "fig.tight_layout()\n",
      "#plt.savefig('Graphics/Deterministic-Ramsey/Discretized-value-and-policy-functions.png')\n",
      "plt.show()"
     ],
     "language": "python",
     "metadata": {},
     "outputs": [
      {
       "output_type": "display_data",
       "png": "[encoded data removed]"
      }
     ],
     "prompt_number": 117
    },
    {
     "cell_type": "code",
     "collapsed": false,
     "input": [
      "fig = plt.figure(figsize=(8,6))\n",
      "\n",
      "# plot the value function\n",
      "ax1 = fig.add_subplot(111)\n",
      "\n",
      "# back out the consumption policy\n",
      "optimal_consumptionPolicy = (1 - delta) * kGrid + kGrid**alpha - (1 + g) * (1 + n) * final_pol\n",
      "\n",
      "# plot the optimal consumption policy\n",
      "ax1.plot(kGrid, optimal_consumptionPolicy, marker='o', markersize=2.0, linestyle='--', \n",
      "         color='b', alpha=0.25, label='Numeric')\n",
      "\n",
      "#ax1.plot(grid, consumption_policy_analytic, color='r', label='Analytic')\n",
      "\n",
      "# axes, labels, title, etc\n",
      "ax1.set_xlabel(\"$k_t$\", fontsize=15)\n",
      "ax1.set_ylabel(\"$c(k_{t})$\", rotation=\"horizontal\", fontsize=15)\n",
      "ax1.set_title(\"Consumption policy function\", fontsize=15, weight='bold')\n",
      "ax1.legend(loc='best', frameon=False)\n",
      "\n",
      "# tighten up the layout and display\n",
      "fig.tight_layout()\n",
      "plt.show()"
     ],
     "language": "python",
     "metadata": {},
     "outputs": [
      {
       "output_type": "display_data",
       "png": "[encoded data removed]"
      }
     ],
     "prompt_number": 118
    },
    {
     "cell_type": "code",
     "collapsed": false,
     "input": [
      "from scipy.interpolate import interp1d"
     ],
     "language": "python",
     "metadata": {},
     "outputs": [],
     "prompt_number": 17
    },
    {
     "cell_type": "code",
     "collapsed": false,
     "input": [
      "def maximum(h, bounds, method='Bounded'):\n",
      "    \"\"\"Finds the maximum value of the function h on the interval [a, b]. \n",
      "    Note that we find the maximum value of the function h by minimizing \n",
      "    -h.\n",
      "    \n",
      "    Function returns a tuple containing the maximum value of h and its \n",
      "    maximizer (i.e., the optimal value of the control.\n",
      "    \n",
      "    \"\"\"\n",
      "    result = minimize_scalar(lambda x: -h(x), bounds=bounds, method=method)\n",
      "    value, control = -result.fun, result.x\n",
      "    \n",
      "    return (value, control)\n",
      "\n",
      "def continuousBellman(w, method='linear'):\n",
      "    \"\"\"An implementation of the Bellman operator that uses various \n",
      "    interpolation schemes to perform value function iteration. This\n",
      "    particular implementation also exploits the fact that the optimal\n",
      "    policy is concave and strictly increasing in the value of the \n",
      "    state variable.\n",
      "    \n",
      "    Arguments: \n",
      "\n",
      "        w:      A callable function\n",
      "    \n",
      "        method: Specifies the kind of interpolation as a string. \n",
      "                Can be one of:\n",
      "\n",
      "                'linear'    - (Default) linear interpolation.\n",
      "                'zero'      - 0th order spline interpolation.\n",
      "                'slinear'   - 1st order spline interpolation.\n",
      "                'quadratic' - 2nd order spline interpolation.\n",
      "                'cubic'     - 3rd order spline interpolation.\n",
      "\n",
      "                Alternatively, can specify an integer indicating the \n",
      "                order of the spline interpolator to use.\n",
      "\n",
      "    \"\"\"\n",
      "    Tw            = np.empty(Nk)\n",
      "    greedy_policy = np.empty(Nk)\n",
      "    \n",
      "    for i, k in enumerate(kGrid):\n",
      "        # current value function\n",
      "        h = lambda kplus: u(k, kplus) + discount * w(kplus)\n",
      "        # find the value of the control that maximizes the current value function\n",
      "        if i == 0:\n",
      "            lower = kMin\n",
      "        else:\n",
      "            lower = greedy_policy[i - 1]\n",
      "        val, pol = maximum(h, bounds=(lower, gamma(k)))\n",
      "        # update the value function with maximum value of h\n",
      "        Tw[i] = val\n",
      "        # update the policy function with the maximizer of h\n",
      "        greedy_policy[i] = pol\n",
      "        \n",
      "    return (interp1d(kGrid, Tw, kind=method, bounds_error=True), \\\n",
      "            interp1d(kGrid, greedy_policy, kind=method, bounds_error=True))"
     ],
     "language": "python",
     "metadata": {},
     "outputs": [],
     "prompt_number": 47
    },
    {
     "cell_type": "code",
     "collapsed": false,
     "input": [
      "# grid of capital per effective worker (i.e., state variable!)\n",
      "Nk = 250\n",
      "kMax = (1 / ((1 + g) * (1 + n) - (1 - delta)))**(1 / (1 - alpha))\n",
      "kMin = kMax / Nk\n",
      "kGrid = np.linspace(kMin, kMax, Nk)"
     ],
     "language": "python",
     "metadata": {},
     "outputs": [],
     "prompt_number": 48
    },
    {
     "cell_type": "code",
     "collapsed": false,
     "input": [
      "def capital(k, c):\n",
      "    \"\"\"Equation of motion for capital per effective worker.\"\"\"\n",
      "    kplus = (1 / ((1 + g) * (1 + n))) * ((1 - delta) * k + k**alpha - c)\n",
      "    return kplus\n",
      "\n",
      "def gamma(k):\n",
      "    \"\"\"Bounds on the feasible set of choices of next period's value\n",
      "    of capital per effective worker.\n",
      "    \n",
      "    \"\"\"\n",
      "    return capital(k, 0)"
     ],
     "language": "python",
     "metadata": {},
     "outputs": [],
     "prompt_number": 49
    },
    {
     "cell_type": "code",
     "collapsed": false,
     "input": [
      "def initial_v(k):\n",
      "    \"\"\"Being smart about our initial guess can save\n",
      "    substantial amount of computational time!\n",
      "\n",
      "    \"\"\"\n",
      "    return u((1 + g) * (1 + n) * k, k) / (1 - discount)"
     ],
     "language": "python",
     "metadata": {},
     "outputs": [],
     "prompt_number": 50
    },
    {
     "cell_type": "code",
     "collapsed": false,
     "input": [
      "%%timeit -r 1\n",
      "##### Value function iteration algorithm #####\n",
      "current_v = initial_v\n",
      "num_iter  = 0\n",
      "\n",
      "# actual tolerance is a function of discount factor!\n",
      "tol = 0.01 * (1 - discount)\n",
      "\n",
      "while True:\n",
      "    next_v, next_pol = continuousBellman(current_v, method='linear')\n",
      "    error = chebyshev(current_v(kGrid), next_v(kGrid))\n",
      "    num_iter += 1\n",
      "    if error < tol:\n",
      "        final_v, final_pol = next_v, next_pol\n",
      "        print \"After\", num_iter, \"iterations, the final error is\", error\n",
      "        break\n",
      "    else:\n",
      "        if num_iter % 50 == 0:\n",
      "            print \"After\", num_iter, \"iterations, the current error is\", error\n",
      "        current_v, current_pol = next_v, next_pol"
     ],
     "language": "python",
     "metadata": {},
     "outputs": [
      {
       "output_type": "stream",
       "stream": "stdout",
       "text": [
        "After 50 iterations, the current error is 0.0190334458961\n",
        "After"
       ]
      },
      {
       "output_type": "stream",
       "stream": "stdout",
       "text": [
        " 100 iterations, the current error is 0.0101639577386\n",
        "After"
       ]
      },
      {
       "output_type": "stream",
       "stream": "stdout",
       "text": [
        " 150 iterations, the current error is 0.00514262836266\n",
        "After"
       ]
      },
      {
       "output_type": "stream",
       "stream": "stdout",
       "text": [
        " 200 iterations, the current error is 0.00264169133439\n",
        "After"
       ]
      },
      {
       "output_type": "stream",
       "stream": "stdout",
       "text": [
        " 250 iterations, the current error is 0.00139340441975\n",
        "After"
       ]
      },
      {
       "output_type": "stream",
       "stream": "stdout",
       "text": [
        " 300 iterations, the current error is 0.00074151542017\n",
        "After"
       ]
      },
      {
       "output_type": "stream",
       "stream": "stdout",
       "text": [
        " 350 iterations, the current error is 0.000395164016433\n",
        "After"
       ]
      },
      {
       "output_type": "stream",
       "stream": "stdout",
       "text": [
        " 400 iterations, the current error is 0.000210823062753\n",
        "After"
       ]
      },
      {
       "output_type": "stream",
       "stream": "stdout",
       "text": [
        " 442 iterations, the final error is 0.000124437437446\n",
        "After"
       ]
      },
      {
       "output_type": "stream",
       "stream": "stdout",
       "text": [
        " 50 iterations, the current error is 0.0190334458961\n",
        "After"
       ]
      },
      {
       "output_type": "stream",
       "stream": "stdout",
       "text": [
        " 100 iterations, the current error is 0.0101639577386\n",
        "After"
       ]
      },
      {
       "output_type": "stream",
       "stream": "stdout",
       "text": [
        " 150 iterations, the current error is 0.00514262836266\n",
        "After"
       ]
      },
      {
       "output_type": "stream",
       "stream": "stdout",
       "text": [
        " 200 iterations, the current error is 0.00264169133439\n",
        "After"
       ]
      },
      {
       "output_type": "stream",
       "stream": "stdout",
       "text": [
        " 250 iterations, the current error is 0.00139340441975\n",
        "After"
       ]
      },
      {
       "output_type": "stream",
       "stream": "stdout",
       "text": [
        " 300 iterations, the current error is 0.00074151542017\n",
        "After"
       ]
      },
      {
       "output_type": "stream",
       "stream": "stdout",
       "text": [
        " 350 iterations, the current error is 0.000395164016433\n",
        "After"
       ]
      },
      {
       "output_type": "stream",
       "stream": "stdout",
       "text": [
        " 400 iterations, the current error is 0.000210823062753\n",
        "After"
       ]
      },
      {
       "output_type": "stream",
       "stream": "stdout",
       "text": [
        " 442 iterations, the final error is 0.000124437437446\n",
        "1 loops, best of 1: 347 s per loop\n"
       ]
      }
     ],
     "prompt_number": 51
    },
    {
     "cell_type": "code",
     "collapsed": false,
     "input": [
      "fig = plt.figure(figsize=(8,6))\n",
      "\n",
      "# plot the value function\n",
      "ax1 = fig.add_subplot(111)\n",
      "\n",
      "consumption = lambda k: (1 - delta) * k + k**alpha - (1 + g) * (1 + n) * final_policyFunction(k)\n",
      "\n",
      "# plot the optimal consumption policy\n",
      "ax1.plot(plot_grid, consumption(plot_grid), 'b-')\n",
      "\n",
      "# axes, labels, title, etc\n",
      "ax1.set_xlabel(\"$k_t$\", fontsize=15)\n",
      "ax1.set_ylabel(\"$c(k_{t})$\", rotation=\"horizontal\", fontsize=15)\n",
      "ax1.set_title(\"Consumption policy function\", fontsize=15, weight='bold')\n",
      "\n",
      "# tighten up the layout and display\n",
      "fig.tight_layout()\n",
      "plt.savefig('Graphics/Deterministic-Ramsey/Consumption-policy-function-cubic-interpolation.png')\n",
      "plt.show()"
     ],
     "language": "python",
     "metadata": {},
     "outputs": [
      {
       "output_type": "display_data",
       "png": "[encoded data removed]"
      }
     ],
     "prompt_number": 91
    },
    {
     "cell_type": "code",
     "collapsed": false,
     "input": [],
     "language": "python",
     "metadata": {},
     "outputs": []
    },
    {
     "cell_type": "markdown",
     "metadata": {},
     "source": [
      "# 12.3 Finite-state methods\n",
      "\n",
      "The simplest dynamic programming problems have a finite number of states. These simple problems are worth discussing for several reasons:\n",
      "\n",
      "1. Some problems are naturally discrete.\n",
      "2. Discrete approximations are often used in the economics literature.\n",
      "3. For teaching purposes, discrete problems are useful because they clearly illustrate important aspects of the common numerical dynamic programming methods.\n",
      "\n",
      "## Finite-horizon problems\n",
      "\n",
      "Let $X$ be the set $x_i, i=1,\\dots,n\\ \\ $ of $n$ states, and $\\mathcal{D} = \\\\{u_i| i = 1, \\dots, m\\\\}\\ \\ $ be the set of $m$ controls for the finite-state problem. Each control induces a Markov transition rule for the states, which can be summarized by the probabilistic law $q^t_{ij}(u)$; that is, for each control $u$, $q^t_{ij}(u)$ is the probability of transition to state $x_j$ if the state is $x_i$ and the control is $u$ in period $t$.  \n",
      "\n",
      "The collection of probabilities specifies a Markov transitition matrix at time $t$ for each $u$, which is denoted $Q^t(u)$. For control $u$ and state $x_i$, row $i$ in $Q^t(u)$ is the probability distribution of the state at time $t+1$ if the time $t$ state is $x_i$ and the controller applies control $u$. \n",
      "\n",
      "This formulation is quite general and includes a wide variety of problems.  Deterministic transition laws can be modele by permitting only zero and unit entries in the transition matrix, $Q^t(u)$ for each control $u$. State-dependent constraints on controls can be modeled by creating an extra absorbing state with constant payoff of $-\\infty$ and making the process move to that state whenever an inappropriate control is chosen. Hence, when we deal with finite-state, finite-control problems, we drop the control constraints and assume that any such constraints are already embedded in the payoff function.\n",
      "\n",
      "The analysis of a dynamic programming problem generally concentrates on the value function. In the finite-horizon case we can inductively use 12.1.3 to compute the value function at each time $t$, beginning with the terminal value function $V(x, T+1)=W(x)\\ \\ \\ $.  **Since we have only a finite number of states, the value function $V(x, t)\\ $ at time $t\\ $ is really just a finite list of values!**  If we define $V^t_i\\equiv V(x_i, t)\\ $, the Bellman equation of 12.1.3 becomes\n",
      "\n",
      "$$V^t_i = \\max_{u}\\ \\left[\\pi(x_i, u, t) + \\beta \\sum^n_{j=1} q^t_{ij}(u)V^{t+1}_j\\right] \\tag{12.3.1}$$\n",
      "\n",
      "with terminal condition\n",
      "\n",
      "$$V^{T+1} = W(x_i),\\ i=1,\\dots,n \\tag{12.3.2}$$\n",
      "\n",
      "Thus finite-horizon dynamic programming reduces to 12.3.2 combined with the induction step 12.3.1, where each induction step 12.3.1 involves solving several optimization problems.  It should be clear that the most demanding computational task will be solving the maximization problems in 12.3.1.  If there is no useful structure to exploit, and there are only a finitie number of controls possible in each state, then the only way to solve each of the maximization problems in 12.3.1 is to check out each possible control at each state.\n",
      "\n",
      "If the control $u$ is a continuous variable, then the maximization problems in 12.3.1 must be solved using an appropriate optimization method. Define\n",
      "\n",
      "$$h(u; x_i, t) \\equiv \\pi(x_i, u, t) + \\beta \\sum^n_{j=1} q^t_{ij}(u)V^{t+1}_j \\tag{12.3.3}$$\n",
      "\n",
      "to be the specific optimization problem at state $x_i$ in period $t$ with period $t+1$ value function $V^{t+1}$.  The proper choice of optimization algorithm depends on how $h$ depends on $u$.  If $h(u; x_i, t)$ is some smooth function of $u$ for each $x_i$ and $t$, then we may use [Newton's method](http://en.wikipedia.org/wiki/Newton's_method) (or some variant); however is $h$ is not smooth in $u$, then we may need to use a comparison method such as the [polytope method](http://en.wikipedia.org/wiki/Polytope_model).  If $h(u; x_i, t)\\ $ is multi-modal, then global optimization methods must be used.\n",
      "\n",
      "## Infinite-horizon problems:\n",
      "\n",
      "In infinite horizon problems with only a finite number of states, the infinite horizon Bellman equation 12.1.9 still imposes definitive conditions on the value function. **Since we have just a finite number of states, the value function is really just a finite list of values, a value vector.** If we define $V_i \\equiv V(x_i)$ to be the vector of values then the Bellman equation 12.1.9 becomes a system of non-linear equations:\n",
      "\n",
      "$$V_i = \\max_u \\left[ \\pi(x_i, u) + \\beta \\sum^n_{j=1} q_{ij}(u)V_j\\right] \\tag{12.3.4}$$\n",
      "\n",
      "Let $V^*$ denote the solution to 12.3.4. By the contraction theorem, 12.3.4 has a unique solution.  Unfortunately, the maximization step means that the unique solution is a non-linear function.  It is possible, however, to decompose the problem into a linear problem and a sequence of optimization problems.  First, note that we can easily compute the value of any specific policy.  Suppose that in state $x_i\\ $, the contol is $U_i \\in \\mathcal{D}\\ $, $i=1,\\dots,n\\ $; then the vector $U \\equiv (U_1, \\dots, U_n)\\ $ is the policy function and the return in state $i$ is $P^{U}_i \\equiv \\pi(x_i, U_i)$.  The induced transition rules for the states, $Q^{U}$, is defined by $Q^U_{ij} = q_{ij}(U_i)$; that is, the row $i$ column $j$ element of $Q^U$ is $q_{ij}(u)$ if $U_i=u$. In terms of $P^U$ and $Q^U$, the equation defining the value of following the policy $U$ forever reduces to the vector equation $V^U = P^U + \\beta Q^UV^U$ which has solution"
     ]
    },
    {
     "cell_type": "code",
     "collapsed": false,
     "input": [],
     "language": "python",
     "metadata": {},
     "outputs": []
    },
    {
     "cell_type": "code",
     "collapsed": false,
     "input": [],
     "language": "python",
     "metadata": {},
     "outputs": [],
     "prompt_number": 1
    },
    {
     "cell_type": "code",
     "collapsed": false,
     "input": [
      "def u(k, c):\n",
      "    \"\"\"Agent has CRRA preferences where c is consumption per\n",
      "    effective worker.\n",
      "\n",
      "    In general, the flow of utility can depend on the state, but\n",
      "    in this simple problem, the state variable does not enter \n",
      "    into the utility!\n",
      "    \n",
      "    \"\"\"\n",
      "    if theta != 1:\n",
      "        return (c**(1 - theta)) / (1 - theta)\n",
      "    else:\n",
      "        return np.log(c)\n",
      "    \n",
      "def capital(k, c):\n",
      "    \"\"\"Equation of motion for capital per effective worker.\"\"\"\n",
      "    kplus = (1 / ((1 + g) * (1 + n))) * ((1 - delta) * k + k**alpha - c)\n",
      "    return kplus\n",
      "\n",
      "def gamma(k):\n",
      "    \"\"\"Bounds on the feasible set of choices of consumption per \n",
      "    effective worker.\n",
      "\n",
      "    Note that the upper bound depends on whether or not investment \n",
      "    is irreversible (i.e., can the household consume its capital \n",
      "    stock? Or not?).\n",
      "    \n",
      "    \"\"\"\n",
      "    lower = 0.0\n",
      "    upper = ((1 - delta) * k + k**alpha)\n",
      "    #upper = k**alpha\n",
      "    return (lower, upper)"
     ],
     "language": "python",
     "metadata": {},
     "outputs": [],
     "prompt_number": 2
    },
    {
     "cell_type": "code",
     "collapsed": false,
     "input": [
      "\n",
      "\n",
      "def deterministicBellman(F, w, method='linear'):\n",
      "    \"\"\"The Bellman operator\n",
      "    \n",
      "    Arguments: \n",
      "\n",
      "        F:      Equation of motion for the state variable(s).\n",
      "        w:      A callable function\n",
      "    \n",
      "        method: Specifies the kind of interpolation as a string. Can be \n",
      "                one of:\n",
      "\n",
      "                'linear'    - (Default) Standard linear interpolation.\n",
      "                'zero'      - 0th order spline interpolation.\n",
      "                'slinear'   - 1st order spline interpolation.\n",
      "                'quadratic' - 2nd order spline interpolation.\n",
      "                'cubic'     - 3rd order spline interpolation.\n",
      "\n",
      "                Alternatively, can specify an integer indicating the \n",
      "                order of the spline interpolator to use.\n",
      "\n",
      "    \"\"\"\n",
      "    vals = []\n",
      "    pols = []\n",
      "    for state in grid:\n",
      "        # current value function\n",
      "        h = lambda control: u(state, control) + discount * w(F(state, control))\n",
      "        # find the value of the control that maximizes the current value function\n",
      "        a, b = gamma(state)\n",
      "        updatevector = maximum(h, a, b)\n",
      "        # update the value function with maximum value of h\n",
      "        vals.append(updatevector[0])\n",
      "        # update the policy function with the maximizer of h\n",
      "        pols.append(updatevector[1])\n",
      "        \n",
      "    return (interp1d(grid, vals, kind=method, bounds_error=False), \\\n",
      "            interp1d(grid, pols, kind=method, bounds_error=False))"
     ],
     "language": "python",
     "metadata": {},
     "outputs": [],
     "prompt_number": 3
    },
    {
     "cell_type": "code",
     "collapsed": false,
     "input": [
      "# define model parameters\n",
      "theta = 2.5\n",
      "beta  = 0.99\n",
      "g     = 0.005 \n",
      "n     = 0.0025 \n",
      "delta = 0.025 \n",
      "alpha = 0.33\n",
      "\n",
      "# define the discount factor\n",
      "discount = beta * (1 + g)**(1 - theta) * (1 + n)"
     ],
     "language": "python",
     "metadata": {},
     "outputs": [],
     "prompt_number": 4
    },
    {
     "cell_type": "code",
     "collapsed": false,
     "input": [
      "# grid of capital per effective worker (i.e., state variable!)\n",
      "N = 250\n",
      "kBar = (1 / ((1 + g) * (1 + n) - (1 - delta)))**(1 / (1 - alpha)) \n",
      "grid = np.linspace(kBar / N, kBar, N)"
     ],
     "language": "python",
     "metadata": {},
     "outputs": [],
     "prompt_number": 5
    },
    {
     "cell_type": "code",
     "collapsed": false,
     "input": [
      "# Value function iteration algorithm\n",
      "def initial_valueFunction(state):\n",
      "    \"\"\"Being smart about our initial guess can save\n",
      "    substantial amount of computational time!\n",
      "\n",
      "    \"\"\"\n",
      "    return u(0, c_star()) / (1 - discount)\n",
      "\n",
      "current_valueFunction  = initial_valueFunction\n",
      "error = 1\n",
      "num_iter = 0\n",
      "\n",
      "# actual tolerance is a function of discount factor!\n",
      "tol = 0.01 * (1 - discount)\n",
      "\n",
      "# create a new figure instance (we are going to plot value and policy iterates as we go!)\n",
      "fig = plt.figure(figsize=(12,6))\n",
      "\n",
      "# grid for plotting (different from state variable grid)\n",
      "plot_grid = np.linspace(0, kBar, 1000)\n",
      "\n",
      "# create two subplots, one for value function and one for policy function\n",
      "ax1 = fig.add_subplot(121)\n",
      "ax1.axhline(u(0, c_star()) / (1 - discount), 0, kBar, color='b', \n",
      "            linestyle='dashed', alpha=0.25)\n",
      "ax1.set_xlim(0, kBar)\n",
      "ax1.set_xlabel('$k_t$', fontsize=15)\n",
      "ax1.set_ylabel('$V^*(k_t)$', fontsize=15, rotation='horizontal')\n",
      "ax1.set_title('Optimal value function', weight='bold')\n",
      "\n",
      "ax2 = fig.add_subplot(122)\n",
      "ax2.axhline(c_star(), 0, kBar, color='g', linestyle='dashed', \n",
      "            alpha=0.25)\n",
      "ax2.set_xlim(0, kBar)\n",
      "ax2.set_xlabel('$k_t$', fontsize=15)\n",
      "ax2.set_ylabel('$c(k_t)$', fontsize=15, rotation='horizontal')\n",
      "ax2.set_title('Optimal consumption policy', weight='bold')\n",
      "\n",
      "while True:\n",
      "    next_valueFunction, next_policyFunction = deterministicBellman(capital, current_valueFunction, method='cubic')\n",
      "    error = np.max(np.abs(current_valueFunction(grid) - next_valueFunction(grid)))\n",
      "    num_iter += 1\n",
      "    if error < tol:\n",
      "        final_valueFunction, final_policyFunction = next_valueFunction, next_policyFunction\n",
      "        print \"After\", num_iter, \"iterations, the final error is\", error\n",
      "        ax1.plot(plot_grid, final_valueFunction(plot_grid), 'b-', label='$V^*(k)$')\n",
      "        ax2.plot(plot_grid, final_policyFunction(plot_grid), 'g-', label='$c_{VFI}(k)$')\n",
      "        break\n",
      "    else:\n",
      "        current_valueFunction, current_policyFunction = next_valueFunction, next_policyFunction\n",
      "        if num_iter % 5 == 0:\n",
      "            print \"After\", num_iter, \"iterations, the current error is\", error\n",
      "            ax1.plot(plot_grid, current_valueFunction(plot_grid), 'b--', alpha=0.25)\n",
      "            ax2.plot(plot_grid, current_policyFunction(plot_grid), 'g--', alpha=0.25)\n",
      "            break\n",
      "# add legends\n",
      "ax1.legend(loc='best', frameon=False)\n",
      "ax2.legend(loc='best', frameon=False)\n",
      "\n",
      "fig.tight_layout()\n",
      "#plt.savefig('Graphics/Deterministic-Ramsey/Optimal-value-and-policy-iterates-for-k-c.png')\n",
      "plt.show()"
     ],
     "language": "python",
     "metadata": {},
     "outputs": [
      {
       "output_type": "stream",
       "stream": "stderr",
       "text": [
        "/Library/Frameworks/Python.framework/Versions/7.3/lib/python2.7/site-packages/scipy/optimize/optimize.py:1449: RuntimeWarning: invalid value encountered in absolute\n",
        "  q = abs(q)\n",
        "/Library/Frameworks/Python.framework/Versions/7.3/lib/python2.7/site-packages/scipy/optimize/optimize.py:1454: RuntimeWarning: invalid value encountered in absolute\n",
        "  if ((abs(p) < abs(0.5*q*r)) and (p > q*(a - xf)) and \\\n",
        "/Library/Frameworks/Python.framework/Versions/7.3/lib/python2.7/site-packages/matplotlib/axes.py:4442: UserWarning: No labeled objects found. Use label='...' kwarg on individual plots.\n",
        "  warnings.warn(\"No labeled objects found. \"\n"
       ]
      },
      {
       "output_type": "stream",
       "stream": "stdout",
       "text": [
        "After 5 iterations, the current error is 0.813093554949\n"
       ]
      },
      {
       "output_type": "display_data",
       "png": "[encoded data removed]"
      }
     ],
     "prompt_number": 6
    },
    {
     "cell_type": "code",
     "collapsed": false,
     "input": [
      "# runtime error: invalid value in absolute occurs when I allow for reversible investment. Why!!!"
     ],
     "language": "python",
     "metadata": {},
     "outputs": [
      {
       "output_type": "pyout",
       "prompt_number": 12,
       "text": [
        "166.27247080602856"
       ]
      }
     ],
     "prompt_number": 12
    },
    {
     "cell_type": "code",
     "collapsed": false,
     "input": [
      "current_policyFunction(100)"
     ],
     "language": "python",
     "metadata": {},
     "outputs": [
      {
       "output_type": "pyout",
       "prompt_number": 15,
       "text": [
        "array(102.07087241711817)"
       ]
      }
     ],
     "prompt_number": 15
    },
    {
     "cell_type": "code",
     "collapsed": false,
     "input": [
      "# Define Policy function...\n",
      "optimal_consumptionPolicyFunction = final_policyFunction\n",
      "\n",
      "print \"Final error (should be less than chosen tolerance!):\", error\n",
      "print \"Number of Bellman iterations:                       \", num_iter \n",
      "print \"Policy function evaluated as SS value for k:        \", optimal_consumptionPolicyFunction(k_star())\n",
      "print \"SS value for consumption:                           \", c_star()"
     ],
     "language": "python",
     "metadata": {},
     "outputs": [
      {
       "output_type": "stream",
       "stream": "stdout",
       "text": [
        "Final error (should be less than chosen tolerance!): 0.000147984138817\n",
        "Number of Bellman iterations:                        361\n",
        "Policy function evaluated as SS value for k:         2.00878438618\n",
        "SS value for consumption:                            2.00878232145\n"
       ]
      }
     ],
     "prompt_number": 7
    },
    {
     "cell_type": "markdown",
     "metadata": {},
     "source": [
      "Note that there is nothing that requires us to use capital per effective worker, $k_t\\ $, as the state variable. For example, we could just as well use output per effective worker, $y_t\\ $. One could also use savings/investment per effective worker instead of consumption per effective worker as the control variable."
     ]
    },
    {
     "cell_type": "code",
     "collapsed": false,
     "input": [
      "def u(y, i):\n",
      "    \"\"\"Agent has CRRA preferences where c is consumption per\n",
      "    effective worker.\n",
      "\n",
      "    In general, the flow of utility can depend on the state, but\n",
      "    in this simple problem, the state variable does not enter \n",
      "    into the utility!\n",
      "    \n",
      "    \"\"\"\n",
      "    if theta != 1:\n",
      "        return ((y - i)**(1 - theta)) / (1 - theta)\n",
      "    else:\n",
      "        return np.log(y - i)\n",
      "    \n",
      "def output(y, i):\n",
      "    \"\"\"Alternative specification using output per effective \n",
      "    worker as the state variable.\n",
      "\n",
      "    \"\"\"\n",
      "    yplus = ((1 / ((1 + g) * (1 + n))) * ((1 - delta) *y**(1 / alpha) + i))**alpha\n",
      "    return yplus\n",
      "\n",
      "def gamma(y):\n",
      "    \"\"\"Bounds on the feasible set of choices of\n",
      "    savings per effective worker.\n",
      "\n",
      "    \"\"\"\n",
      "    lower = -(1 - delta) * y**(1 / alpha)\n",
      "    upper =  y\n",
      "    return (lower, upper)\n",
      "\n",
      "def y_star():\n",
      "    \"\"\"Steady state value of capital per effective worker.\"\"\"\n",
      "    return k_star()**alpha\n",
      "\n",
      "def i_star():\n",
      "    \"\"\"Steady state value of investment per effective worker.\"\"\"\n",
      "    return y_star() - c_star()"
     ],
     "language": "python",
     "metadata": {},
     "outputs": [],
     "prompt_number": 8
    },
    {
     "cell_type": "code",
     "collapsed": false,
     "input": [
      "# grid of capital per effective worker (i.e., state variable!)\n",
      "N = 250\n",
      "yBar = kBar**alpha \n",
      "grid = np.linspace(yBar / N, yBar, N)"
     ],
     "language": "python",
     "metadata": {},
     "outputs": [],
     "prompt_number": 9
    },
    {
     "cell_type": "code",
     "collapsed": false,
     "input": [
      "# Value function iteration algorithm using output, y, as state variable.\n",
      "def initial_valueFunction(state):\n",
      "    \"\"\"Being smart about our initial guess can save\n",
      "    substantial amount of computational time!\n",
      "\n",
      "    \"\"\"\n",
      "    return u(y_star(), i_star()) / (1 - discount)\n",
      "\n",
      "current_valueFunction  = initial_valueFunction\n",
      "error = 1\n",
      "num_iter = 0\n",
      "\n",
      "# actual tolerance is a function of discount factor!\n",
      "tol = 0.01 * (1 - discount)\n",
      "\n",
      "# create a new figure instance (we are going to plot value and policy iterates as we go!)\n",
      "fig = plt.figure(figsize=(12,6))\n",
      "\n",
      "# grid for plotting (different from state variable grid)\n",
      "plot_grid = np.linspace(0, yBar, 1000)\n",
      "\n",
      "# create two subplots, one for value function and one for policy function\n",
      "ax1 = fig.add_subplot(121)\n",
      "ax1.axhline(u(y_star(), i_star()) / (1 - discount), 0, yBar, color='b', \n",
      "            linestyle='dashed', alpha=0.25)\n",
      "ax1.set_xlim(0, yBar)\n",
      "ax1.set_xlabel('$y_t$', fontsize=15)\n",
      "ax1.set_ylabel('$V^*(y_t)$', fontsize=15, rotation='horizontal')\n",
      "ax1.set_title('Optimal value function', weight='bold')\n",
      "\n",
      "ax2 = fig.add_subplot(122)\n",
      "ax2.axhline(i_star(), 0, yBar, color='g', linestyle='dashed', \n",
      "            alpha=0.25)\n",
      "ax2.set_xlim(0, yBar)\n",
      "ax2.set_xlabel('$y_t$', fontsize=15)\n",
      "ax2.set_ylabel('$i(y_t)$', fontsize=15, rotation='horizontal')\n",
      "ax2.set_title('Optimal investment policy', weight='bold')\n",
      "\n",
      "while True:\n",
      "    next_valueFunction, next_policyFunction = deterministicBellman(output, current_valueFunction, method='cubic')\n",
      "    error = np.max(np.abs(current_valueFunction(grid) - next_valueFunction(grid)))\n",
      "    num_iter += 1\n",
      "    if error < tol:\n",
      "        final_valueFunction, final_policyFunction = next_valueFunction, next_policyFunction\n",
      "        print \"After\", num_iter, \"iterations, the final error is\", error\n",
      "        ax1.plot(plot_grid, final_valueFunction(plot_grid), 'b-', label='$V^*(y)$')\n",
      "        ax2.plot(plot_grid, final_policyFunction(plot_grid), 'g-', label='$i_{VFI}(y)$')\n",
      "        break\n",
      "    else:\n",
      "        current_valueFunction, current_policyFunction = next_valueFunction, next_policyFunction\n",
      "        if num_iter % 50 == 0:\n",
      "            print \"After\", num_iter, \"iterations, the current error is\", error\n",
      "            ax1.plot(plot_grid, current_valueFunction(plot_grid), 'b--', alpha=0.25)\n",
      "            ax2.plot(plot_grid, current_policyFunction(plot_grid), 'g--', alpha=0.25)\n",
      "\n",
      "# add legends\n",
      "ax1.legend(loc='best', frameon=False)\n",
      "ax2.legend(loc='best', frameon=False)\n",
      "\n",
      "fig.tight_layout()\n",
      "plt.savefig('Graphics/Deterministic-Ramsey/Optimal-value-and-policy-iterates-for-y-i.png')\n",
      "plt.show()"
     ],
     "language": "python",
     "metadata": {},
     "outputs": [
      {
       "output_type": "stream",
       "stream": "stdout",
       "text": [
        "After 50 iterations, the current error is 0.0470232724323\n",
        "After"
       ]
      },
      {
       "output_type": "stream",
       "stream": "stdout",
       "text": [
        " 100 iterations, the current error is 0.0100839479507\n",
        "After"
       ]
      },
      {
       "output_type": "stream",
       "stream": "stdout",
       "text": [
        " 150 iterations, the current error is 0.00378520618591\n",
        "After"
       ]
      },
      {
       "output_type": "stream",
       "stream": "stdout",
       "text": [
        " 200 iterations, the current error is 0.00168986787548\n",
        "After"
       ]
      },
      {
       "output_type": "stream",
       "stream": "stdout",
       "text": [
        " 250 iterations, the current error is 0.000787172285868\n",
        "After"
       ]
      },
      {
       "output_type": "stream",
       "stream": "stdout",
       "text": [
        " 300 iterations, the current error is 0.000370194150094\n",
        "After"
       ]
      },
      {
       "output_type": "stream",
       "stream": "stdout",
       "text": [
        " 350 iterations, the current error is 0.000174461363258\n",
        "After"
       ]
      },
      {
       "output_type": "stream",
       "stream": "stdout",
       "text": [
        " 361 iterations, the final error is 0.000147861244102\n"
       ]
      },
      {
       "output_type": "display_data",
       "png": "[encoded data removed]"
      }
     ],
     "prompt_number": 10
    },
    {
     "cell_type": "code",
     "collapsed": false,
     "input": [
      "# Define Policy function...\n",
      "optimal_savingsPolicyFunction = final_policyFunction\n",
      "\n",
      "print \"Final error (should be less than chosen tolerance!):\", error\n",
      "print \"Number of Bellman iterations:                       \", num_iter \n",
      "print \"Policy function evaluated as SS value for y:        \", optimal_savingsPolicyFunction(y_star())\n",
      "print \"SS value for investment:                            \", i_star()"
     ],
     "language": "python",
     "metadata": {},
     "outputs": [
      {
       "output_type": "stream",
       "stream": "stdout",
       "text": [
        "Final error (should be less than chosen tolerance!): 0.000147861244102\n",
        "Number of Bellman iterations:                        361\n",
        "Policy function evaluated as SS value for y:         0.581782025753\n",
        "SS value for investment:                             0.581783371455\n"
       ]
      }
     ],
     "prompt_number": 11
    },
    {
     "cell_type": "markdown",
     "metadata": {},
     "source": [
      "Using investment as the control allows us to easily compare the optimal non-linear \"Ramsey\" savings policy with a simple \"rule of thumb\" or \"Solow\" policy. "
     ]
    },
    {
     "cell_type": "code",
     "collapsed": false,
     "input": [
      "plt.figure(figsize=(8,6))\n",
      "\n",
      "# plot savings rate as a function of income/output\n",
      "plt.plot(plot_grid, optimal_savingsPolicyFunction(plot_grid) / plot_grid, 'r-', label='$s_{Full}$')\n",
      "\n",
      "# plot the Solow policy\n",
      "plt.axhline(i_star() / y_star(), 0, np.max(plot_grid), color='green', label='$s_{Solow}$')\n",
      "\n",
      "# axes, labels, title, etc\n",
      "plt.xlabel('$y_t$', fontsize=15)\n",
      "plt.ylabel(r'$s(y_t)=\\frac{i(y_t)}{y_t}$', rotation='horizontal', fontsize=15)\n",
      "plt.title('Optimal, \"Ramsey\" savings policy vs. \"Solow\" policy', weight='bold', fontsize=15)\n",
      "plt.legend(loc='best', frameon=False)\n",
      "\n",
      "plt.savefig('Graphics/Deterministic-Ramsey/Solow-policy-as-zeroth-order-approx-to-Ramsey.png')\n",
      "plt.show()"
     ],
     "language": "python",
     "metadata": {},
     "outputs": [
      {
       "output_type": "display_data",
       "png": "[encoded data removed]"
      }
     ],
     "prompt_number": 12
    },
    {
     "cell_type": "code",
     "collapsed": false,
     "input": [],
     "language": "python",
     "metadata": {},
     "outputs": []
    },
    {
     "cell_type": "markdown",
     "metadata": {},
     "source": [
      "### Example: Deterministic growth with labor supply choice\n",
      "\n",
      "When labor is supplied elastically, utility is a function of both the consumption and labor supply decision, $u(c,l)$:\n",
      "\n",
      "$$ u(c, l) = ln\\ c + b ln (1 - l)$$\n",
      "\n",
      "The production function now depends on capital and labor, $f(k, l)=k^{\\alpha}l^{1-\\alpha}\\ $. The equation of motion for the capital per effective worker is;\n",
      "\n",
      "$$k_{t+1} = \\frac{1}{(1+g)(1+n)}\\left[(1 - \\delta)k_t + k_t^{\\alpha}l^{1_t-\\alpha} - c_t\\right]$$\n",
      "\n",
      "Our discrete time dynamic programming problem becomes:\n",
      "\n",
      "$$V(k_t) = \\max_{c_t,l_t}\\ u(c,l) + \\beta(1+n) V(k_{t+1}) \\tag{12.1.17}$$\n",
      "\n",
      "Combining the first-order conditions and the envelope theorem, we find that the control laws $C(k)$ and $L(k)$ must satisfy:\n",
      "\n",
      "$$0 = \\frac{1}{C(k)}[(1 + \\alpha k^{\\alpha-1}L(k)^{1-\\alpha} - \\delta] - V'(k) \\tag{12.1.18}$$\n",
      "\n",
      "$$0 = -\\frac{b}{1 - L(k)} + (1-\\alpha)k^{\\alpha}L(k)^{-\\alpha}\\frac{1}{C(k)}$$\n",
      "\n",
      "The solution to 12.1.17 are policy functions $C(k)\\ $, $L(k)$ and a value function $V(K)$ that satisfy the first-order conditions in 12.1.18 and \n",
      "\n",
      "$$V(k) = u(C(k), L(k))) + \\beta(1+n) V((1 - \\delta)k + f(k, L(k)) - C(k)) \\tag{12.1.19}$$"
     ]
    },
    {
     "cell_type": "code",
     "collapsed": false,
     "input": [
      "def u(k, l):\n",
      "    \"\"\"Utility function\"\"\"\n",
      "    return np.log(consumption(k, l)) + b * np.log(1 - l)\n",
      "    \n",
      "def output(k, l):\n",
      "    \"\"\"Output per effective person\"\"\"\n",
      "    return k**alpha * l**(1 - alpha)\n",
      "\n",
      "def real_wage(k, l):\n",
      "    \"\"\"labor is paid its marginal product\"\"\"\n",
      "    return (1 - alpha) * k**alpha * l**(-alpha)\n",
      "\n",
      "def consumption(k, l):\n",
      "    \"\"\"Intra-temporal FOC relating the two controls. This \n",
      "    equation allows us to avoid having to use two-dimensional\n",
      "    interpolation.\n",
      "\n",
      "    \"\"\"\n",
      "    return (real_wage(k, l) / b) * (1 - l)\n",
      "\n",
      "def capital(k, l):\n",
      "    \"\"\"Evolution of capital per effective person\"\"\"\n",
      "    y = output(k, l)\n",
      "    c = consumption(k, l)\n",
      "    kplus = (1 / ((1 + g) * (1 + n))) * ((1 - delta) * k + y - c)\n",
      "    return kplus"
     ],
     "language": "python",
     "metadata": {},
     "outputs": [],
     "prompt_number": 13
    },
    {
     "cell_type": "code",
     "collapsed": false,
     "input": [
      "def F1(k, l, c):\n",
      "    \"\"\"Implicit function describing equation of motion\n",
      "    of capital per effective worker near steady state.\n",
      "\n",
      "    \"\"\"\n",
      "    y = output(k, l)\n",
      "    kplus = (1 / ((1 + g) * (1 + n))) * ((1 - delta) * k + y - c)\n",
      "    return k - kplus\n",
      "\n",
      "def F2(k, l, c):\n",
      "    \"\"\"Implicit function describing the consumption Euler\n",
      "    equation near steady state.\n",
      "\n",
      "    \"\"\"\n",
      "    r = alpha * (output(k, l) / k)\n",
      "    return (1 / c) - (beta / (1 + g)) * (1 + r - delta) * (1 / c)\n",
      "\n",
      "def F3(k, l, c):\n",
      "    \"\"\"Implicit FOC for consumption and labor supply decision\n",
      "    near steady state.\n",
      "\n",
      "    \"\"\"\n",
      "    return (c / (1 - l)) - (real_wage(k, l) / b)\n",
      "\n",
      "def steadyStates(X):\n",
      "    \"\"\"Roots of this function are the steady state values.\"\"\"\n",
      "    out = [F1(X[0], X[1], X[2])]\n",
      "    out.append(F2(X[0], X[1], X[2]))\n",
      "    out.append(F3(X[0], X[1], X[2]))\n",
      "    \n",
      "    return out"
     ],
     "language": "python",
     "metadata": {},
     "outputs": [],
     "prompt_number": 14
    },
    {
     "cell_type": "code",
     "collapsed": false,
     "input": [
      "# set values for model parameters\n",
      "b     = 2.5\n",
      "beta  = 0.99\n",
      "g     = 0.005 \n",
      "n     = 0.0025 \n",
      "delta = 0.025 \n",
      "alpha = 0.33\n",
      "\n",
      "# determine the discount factor\n",
      "discount = beta * (1 + n)"
     ],
     "language": "python",
     "metadata": {},
     "outputs": [],
     "prompt_number": 15
    },
    {
     "cell_type": "code",
     "collapsed": false,
     "input": [
      "k_star, l_star, c_star = fsolve(steadyStates, x0=(0.5, 0.5, 0.5))\n",
      "\n",
      "print \"Steady state value of k:\", k_star\n",
      "print \"Steady state value of l:\", l_star\n",
      "print \"Steady state value of c:\", c_star"
     ],
     "language": "python",
     "metadata": {},
     "outputs": [
      {
       "output_type": "stream",
       "stream": "stdout",
       "text": [
        "Steady state value of k: 6.21134229432\n",
        "Steady state value of l: 0.267790037453\n",
        "Steady state value of c: 0.553795564691\n"
       ]
      }
     ],
     "prompt_number": 16
    },
    {
     "cell_type": "code",
     "collapsed": false,
     "input": [
      "# grid of capital per effective worker (i.e., state variable!)\n",
      "N = 250\n",
      "kBar = (1 / ((1 + g) * (1 + n) - (1 - delta)))**(1 / (1 - alpha))\n",
      "grid = np.linspace(kBar / N, kBar, N)\n",
      "\n",
      "def gamma(k):\n",
      "    \"\"\"Bounds on the feasible choice of labor supply.\"\"\"\n",
      "    #lower = (1 - alpha) / (b + (1 - alpha))\n",
      "    lower = 0.0\n",
      "    upper = 1.0\n",
      "    return (lower, upper)"
     ],
     "language": "python",
     "metadata": {},
     "outputs": [],
     "prompt_number": 17
    },
    {
     "cell_type": "code",
     "collapsed": false,
     "input": [
      "# Value function iteration algorithm\n",
      "def initial_valueFunction(state):\n",
      "    \"\"\"Being smart about our initial guess can save\n",
      "    substantial amount of computational time!\n",
      "\n",
      "    \"\"\"\n",
      "    return u(k_star, l_star) / (1 - discount)\n",
      "\n",
      "current_valueFunction  = initial_valueFunction\n",
      "error = 1\n",
      "num_iter = 0\n",
      "\n",
      "# actual tolerance is a function of discount factor!\n",
      "tol = 0.01 * (1 - discount)\n",
      "\n",
      "# create a new figure instance (we are going to plot value and policy iterates as we go!)\n",
      "fig = plt.figure(figsize=(12, 12))\n",
      "\n",
      "# grid for plotting (different from state variable grid)\n",
      "plot_grid = np.linspace(0, 3 * k_star, 1000)\n",
      "\n",
      "# create two subplots, one for value function and one for policy function\n",
      "ax1 = fig.add_subplot(221)\n",
      "ax1.axhline(u(k_star, l_star) / (1 - discount), 0, kBar, color='b', \n",
      "            linestyle='dashed', alpha=0.25)\n",
      "ax1.set_xlabel('$k_t$', fontsize=15)\n",
      "ax1.set_ylabel('$V(k_t)$', fontsize=15, rotation='horizontal')\n",
      "ax1.set_title('Optimal value function', weight='bold')\n",
      "\n",
      "ax2 = fig.add_subplot(222)\n",
      "ax2.axhline(l_star, 0, kBar, color='g', linestyle='dashed', \n",
      "            alpha=0.25)\n",
      "ax2.set_xlabel('$k_t$', fontsize=15)\n",
      "ax2.set_ylabel('$l(k_t)$', fontsize=15, rotation='horizontal')\n",
      "ax2.set_title('Optimal labor supply policy', weight='bold')\n",
      "\n",
      "# optimal consumption policy\n",
      "ax3 = fig.add_subplot(224)\n",
      "ax3.axhline(consumption(k_star, l_star), 0, kBar, color='purple', \n",
      "            linestyle='dashed', alpha=0.25)\n",
      "ax3.set_xlabel('$k_t$', fontsize=15)\n",
      "ax3.set_ylabel('$c(k_t)$', fontsize=15, rotation='horizontal')\n",
      "ax3.set_title('Optimal consumption policy', weight='bold')\n",
      "\n",
      "while True:\n",
      "    next_valueFunction, next_policyFunction = deterministicBellman(capital, current_valueFunction, method='cubic')\n",
      "    error = np.max(np.abs(current_valueFunction(grid) - next_valueFunction(grid)))\n",
      "    num_iter += 1\n",
      "    if error < tol:\n",
      "        final_valueFunction, final_policyFunction = next_valueFunction, next_policyFunction\n",
      "        print \"After\", num_iter, \"iterations, the final error is\", error\n",
      "        ax1.plot(plot_grid, final_valueFunction(plot_grid), 'b-', label='$V^*(k)$')\n",
      "        ax2.plot(plot_grid, final_policyFunction(plot_grid), 'g-', label='$l_{VFI}(k)$')\n",
      "        ax3.plot(plot_grid, consumption(plot_grid, final_policyFunction(plot_grid)), 'purple', label='$c_{VFI}(k)$')\n",
      "        break\n",
      "    else:\n",
      "        current_valueFunction, current_policyFunction = next_valueFunction, next_policyFunction\n",
      "        if num_iter % 50 == 0:\n",
      "            print \"After\", num_iter, \"iterations, the current error is\", error\n",
      "            ax1.plot(plot_grid, current_valueFunction(plot_grid), 'b--', alpha=0.25)\n",
      "            ax2.plot(plot_grid, current_policyFunction(plot_grid), 'g--', alpha=0.25)\n",
      "            ax3.plot(plot_grid, consumption(plot_grid, current_policyFunction(plot_grid)), \n",
      "                     color='purple', linestyle='dashed', alpha=0.25)\n",
      "\n",
      "# add legends\n",
      "ax1.legend(loc='best', frameon=False)\n",
      "ax2.legend(loc='best', frameon=False)\n",
      "ax3.legend(loc='best', frameon=False)\n",
      "\n",
      "fig.tight_layout()\n",
      "plt.savefig('Graphics/Deterministic-RBC/Optimal-value-policy-iterates-for-k-l.png')\n",
      "plt.show()"
     ],
     "language": "python",
     "metadata": {},
     "outputs": [
      {
       "output_type": "stream",
       "stream": "stdout",
       "text": [
        "After 50 iterations, the current error is 0.217329731331\n",
        "After"
       ]
      },
      {
       "output_type": "stream",
       "stream": "stdout",
       "text": [
        " 100 iterations, the current error is 0.0487809725867\n",
        "After"
       ]
      },
      {
       "output_type": "stream",
       "stream": "stdout",
       "text": [
        " 150 iterations, the current error is 0.0332112741547\n",
        "After"
       ]
      },
      {
       "output_type": "stream",
       "stream": "stdout",
       "text": [
        " 200 iterations, the current error is 0.0227559749185\n",
        "After"
       ]
      },
      {
       "output_type": "stream",
       "stream": "stdout",
       "text": [
        " 250 iterations, the current error is 0.0155978523987\n",
        "After"
       ]
      },
      {
       "output_type": "stream",
       "stream": "stdout",
       "text": [
        " 300 iterations, the current error is 0.0106916092084\n",
        "After"
       ]
      },
      {
       "output_type": "stream",
       "stream": "stdout",
       "text": [
        " 350 iterations, the current error is 0.00732861389596\n",
        "After"
       ]
      },
      {
       "output_type": "stream",
       "stream": "stdout",
       "text": [
        " 400 iterations, the current error is 0.00502343323564\n",
        "After"
       ]
      },
      {
       "output_type": "stream",
       "stream": "stdout",
       "text": [
        " 450 iterations, the current error is 0.00344333620529\n",
        "After"
       ]
      },
      {
       "output_type": "stream",
       "stream": "stdout",
       "text": [
        " 500 iterations, the current error is 0.00236025118099\n",
        "After"
       ]
      },
      {
       "output_type": "stream",
       "stream": "stdout",
       "text": [
        " 550 iterations, the current error is 0.00161784539908\n",
        "After"
       ]
      },
      {
       "output_type": "stream",
       "stream": "stdout",
       "text": [
        " 600 iterations, the current error is 0.00110895982453\n",
        "After"
       ]
      },
      {
       "output_type": "stream",
       "stream": "stdout",
       "text": [
        " 650 iterations, the current error is 0.000760141786628\n",
        "After"
       ]
      },
      {
       "output_type": "stream",
       "stream": "stdout",
       "text": [
        " 700 iterations, the current error is 0.000521042803769\n",
        "After"
       ]
      },
      {
       "output_type": "stream",
       "stream": "stdout",
       "text": [
        " 750 iterations, the current error is 0.000357151268219\n",
        "After"
       ]
      },
      {
       "output_type": "stream",
       "stream": "stdout",
       "text": [
        " 800 iterations, the current error is 0.000244811036055\n",
        "After"
       ]
      },
      {
       "output_type": "stream",
       "stream": "stdout",
       "text": [
        " 850 iterations, the current error is 0.000167806889465\n",
        "After"
       ]
      },
      {
       "output_type": "stream",
       "stream": "stdout",
       "text": [
        " 900 iterations, the current error is 0.000115024030691\n",
        "After"
       ]
      },
      {
       "output_type": "stream",
       "stream": "stdout",
       "text": [
        " 950 iterations, the current error is 7.88437690744e-05\n",
        "After"
       ]
      },
      {
       "output_type": "stream",
       "stream": "stdout",
       "text": [
        " 957 iterations, the final error is 7.47832627468e-05\n"
       ]
      },
      {
       "output_type": "display_data",
       "png": "[encoded data removed]"
      }
     ],
     "prompt_number": 21
    },
    {
     "cell_type": "code",
     "collapsed": false,
     "input": [
      "# Define Policy function.\n",
      "optimal_laborPolicyFunction = final_policyFunction\n",
      "optimal_consumptionPolicyFunction = lambda k: consumption(k, optimal_laborPolicyFunction(k))\n",
      "    \n",
      "print \"Final error (should be less than chosen tolerance!):    \", error\n",
      "print \"Number of Bellman iterations:                           \", num_iter \n",
      "print \"Labor policy function evaluated as SS value for k:      \", optimal_laborPolicyFunction(k_star)\n",
      "print \"SS value for l:                                         \", l_star\n",
      "print \"Consumption policy function evaluated as SS value for k:\", optimal_consumptionPolicyFunction(k_star) \n",
      "print \"SS value for c:                                         \", c_star"
     ],
     "language": "python",
     "metadata": {},
     "outputs": [
      {
       "output_type": "stream",
       "stream": "stdout",
       "text": [
        "Final error (should be less than chosen tolerance!):     7.47832627468e-05\n",
        "Number of Bellman iterations:                            957\n",
        "Labor policy function evaluated as SS value for k:       0.267526964078\n",
        "SS value for l:                                          0.267790037453\n",
        "Consumption policy function evaluated as SS value for k: 0.554174251714\n",
        "SS value for c:                                          0.553795564691\n"
       ]
      }
     ],
     "prompt_number": 22
    },
    {
     "cell_type": "markdown",
     "metadata": {},
     "source": [
      "While the above examples are motivated by an optimal growth model, that is only one interpretation. For example, 12.1.17 can also be interpreted as the dynamic programming problem of a monopolistic firm. In the monopolistic firm application, $c$ is dividends, $u(c,l)=c\\ $ (i.e, firm owner has risk neutral preferences that are a function of dividends only!), $l$ is the amount of labor hired, $k$ is both the capital stock and total assets, and $F(k,l)$ is the profit flow if the monopolist has $k$ units of capital and hires $l$ units of labor.  Alternatively, 12.1.17 can be interpreted as an individual's dynamic programming problem, where $u$ is the individual's utility function, $k$, is individual wealth, and $F(k,l)$ is an individual's flow of asset and labor income.  It would be most natural to use the finite horizon version in this case (because people have finite horizons!), make $F$ and $u$ depend on age and require $k\\ge0$ at time of death. The point being emphasized is that the forumlation of 12.1.17 is quite general.  There is a single endogenous state variable, $k$, and controls, $c$ and $l$, that enter into the payoff function and the law of motion.  We could make the interpretation even more general if we allowed the payoff function to be state dependent."
     ]
    },
    {
     "cell_type": "markdown",
     "metadata": {},
     "source": [
      "## Stochastic accumulation problems:\n",
      "\n",
      "Next consider a stochastic model of accumulation. Let $Z$ denote the current productivity level and $f(k, l, Z)$ denote net income; define $F(k, l, Z)=k + f(k, l, Z)$ and assume that $Z$ follows $z_{t+1} = g(Z_t, \\epsilon_{t+1})$ where the $\\epsilon_t$ are iid disturbances. The infinite horizon discrete-time optimization problem becomes "
     ]
    },
    {
     "cell_type": "markdown",
     "metadata": {},
     "source": [
      "Solution to Colonel Kurtz' decision problem using policy iteration..."
     ]
    },
    {
     "cell_type": "markdown",
     "metadata": {},
     "source": [
      "### Example: Stochastic optimal growth"
     ]
    },
    {
     "cell_type": "code",
     "collapsed": false,
     "input": [
      "# Some type of numerical issue with expectations for values of k close to edge of grid!\n",
      "# shocks will clearly result in interpolation errors...either need to extrapolate of find some other way round the problem. \n",
      "# Current kludge is to use the numpy interp function which sets values outside the range to constants."
     ],
     "language": "python",
     "metadata": {},
     "outputs": []
    },
    {
     "cell_type": "code",
     "collapsed": false,
     "input": [
      "fig = plt.figure(figsize=(8,6))\n",
      "\n",
      "ax = fig.add_subplot(111)\n",
      "ax.scatter(k_samplePath, c_samplePath, s=1.0, edgecolors='none', alpha=0.15)\n",
      "\n",
      "ax.hlines(c_star(), xmin=0, xmax=k_star(), colors='k', linestyles='dashed')\n",
      "ax.vlines(k_star(), ymin=0, ymax=c_star(), colors='k', linestyles='dashed')\n",
      "\n",
      "ax.hlines(np.mean(c_samplePath), xmin=0, xmax=np.mean(k_samplePath), colors='k', linestyles='dashed')\n",
      "ax.vlines(np.mean(k_samplePath), ymin=0, ymax=np.mean(c_samplePath), colors='k', linestyles='dashed')\n",
      "\n",
      "ax.set_xlabel('$k_t$', fontsize=15)\n",
      "ax.set_xlim(0, 120)\n",
      "ax.set_ylabel('$c_t$', fontsize=15, rotation='horizontal')\n",
      "ax.set_ylim(0, 2.5 * c_star())\n",
      "\n",
      "plt.show()"
     ],
     "language": "python",
     "metadata": {},
     "outputs": [
      {
       "output_type": "display_data",
       "png": "[encoded data removed]"
      }
     ],
     "prompt_number": 190
    },
    {
     "cell_type": "code",
     "collapsed": false,
     "input": [
      "np.min(k_samplePath)"
     ],
     "language": "python",
     "metadata": {},
     "outputs": [
      {
       "output_type": "pyout",
       "prompt_number": 180,
       "text": [
        "4.9836224856661469"
       ]
      }
     ],
     "prompt_number": 180
    },
    {
     "cell_type": "code",
     "collapsed": false,
     "input": [
      "np.max(k_samplePath)"
     ],
     "language": "python",
     "metadata": {},
     "outputs": [
      {
       "output_type": "pyout",
       "prompt_number": 181,
       "text": [
        "111.74615603869611"
       ]
      }
     ],
     "prompt_number": 181
    },
    {
     "cell_type": "code",
     "collapsed": false,
     "input": [
      "from lookAhead import LookAhead\n",
      "\n",
      "\n",
      "\n",
      "# Calculate the marginal densities of the income process\n",
      "\n",
      "# Define the function g(x)\n",
      "g = lambda x: alpha * np.log(np.interp(np.exp(x), grid, policy))\n",
      "\n",
      "\n",
      "\n",
      "\n",
      "\n",
      "# Define the look ahead estimator\n",
      "lae = LookAhead(kernel=lambda x, y: stats.norm.pdf(y - g(x)))\n",
      "\n",
      "# Plot the sequence of marginal distributions\n",
      "xmin, xmax = -10, 5\n",
      "xgrid = np.linspace(xmin, xmax, num=200)\n",
      "dates = np.arange(1,16)\n",
      "\n",
      "fig3 = plt.figure()\n",
      "ax3 = fig3.add_subplot(111)\n",
      "ax3.set_title(\"Sequence of Marginal Densities\")\n",
      "ax3.set_xlabel(\"Log Output\")\n",
      "for date in dates:\n",
      "    lae.obs = output_srs.marginal(init=-7.5, T=date, n=1000)\n",
      "    plt.plot(xgrid, [lae(y) for y in xgrid])\n",
      "\n",
      "plt.show()\n",
      "\n"
     ],
     "language": "python",
     "metadata": {},
     "outputs": [
      {
       "output_type": "pyout",
       "prompt_number": 653,
       "text": [
        "0.01"
       ]
      }
     ],
     "prompt_number": 653
    },
    {
     "cell_type": "code",
     "collapsed": false,
     "input": [
      "import numpy as np\n",
      "from scipy import stats\n",
      "from scipy.optimize import minimize_scalar, root\n",
      "from scipy.interpolate import interp1d\n",
      "from srs import SRS"
     ],
     "language": "python",
     "metadata": {},
     "outputs": []
    },
    {
     "cell_type": "markdown",
     "metadata": {},
     "source": [
      "### Stochastic speculative price\n",
      "\n",
      "Taken from chapter 6 of Stachurski's *Economic Dynamics*"
     ]
    },
    {
     "cell_type": "code",
     "collapsed": false,
     "input": [
      "rv = stats.norm(0, sigma)"
     ],
     "language": "python",
     "metadata": {},
     "outputs": [],
     "prompt_number": 640
    },
    {
     "cell_type": "code",
     "collapsed": false,
     "input": [
      "rv.cdf(3 * sigma)"
     ],
     "language": "python",
     "metadata": {},
     "outputs": [
      {
       "output_type": "pyout",
       "prompt_number": 643,
       "text": [
        "0.9986501019683699"
       ]
      }
     ],
     "prompt_number": 643
    },
    {
     "cell_type": "code",
     "collapsed": false,
     "input": [
      "rv.ppf(0.99)"
     ],
     "language": "python",
     "metadata": {},
     "outputs": [
      {
       "output_type": "pyout",
       "prompt_number": 646,
       "text": [
        "0.023263478740408409"
       ]
      }
     ],
     "prompt_number": 646
    },
    {
     "cell_type": "code",
     "collapsed": false,
     "input": [
      "np.log(rv.cdf(3 * sigma))"
     ],
     "language": "python",
     "metadata": {},
     "outputs": [
      {
       "output_type": "pyout",
       "prompt_number": 647,
       "text": [
        "-0.0013508099647482027"
       ]
      }
     ],
     "prompt_number": 647
    },
    {
     "cell_type": "code",
     "collapsed": false,
     "input": [
      "X = np.arange(0, 10, 0.5)"
     ],
     "language": "python",
     "metadata": {},
     "outputs": [],
     "prompt_number": 4
    },
    {
     "cell_type": "code",
     "collapsed": false,
     "input": [
      "X"
     ],
     "language": "python",
     "metadata": {},
     "outputs": [
      {
       "output_type": "pyout",
       "prompt_number": 5,
       "text": [
        "array([ 0. ,  0.5,  1. ,  1.5,  2. ,  2.5,  3. ,  3.5,  4. ,  4.5,  5. ,\n",
        "        5.5,  6. ,  6.5,  7. ,  7.5,  8. ,  8.5,  9. ,  9.5])"
       ]
      }
     ],
     "prompt_number": 5
    },
    {
     "cell_type": "code",
     "collapsed": false,
     "input": [
      "X.searchsorted(3, side='right') - 1"
     ],
     "language": "python",
     "metadata": {},
     "outputs": [
      {
       "output_type": "pyout",
       "prompt_number": 7,
       "text": [
        "6"
       ]
      }
     ],
     "prompt_number": 7
    },
    {
     "cell_type": "code",
     "collapsed": false,
     "input": [
      "np.random.seed(42)\n",
      "test = np.random.randint(0, 10, (2, 5, 5))"
     ],
     "language": "python",
     "metadata": {},
     "outputs": [],
     "prompt_number": 83
    },
    {
     "cell_type": "code",
     "collapsed": false,
     "input": [
      "test"
     ],
     "language": "python",
     "metadata": {},
     "outputs": [
      {
       "output_type": "pyout",
       "prompt_number": 84,
       "text": [
        "array([[[6, 3, 7, 4, 6],\n",
        "        [9, 2, 6, 7, 4],\n",
        "        [3, 7, 7, 2, 5],\n",
        "        [4, 1, 7, 5, 1],\n",
        "        [4, 0, 9, 5, 8]],\n",
        "\n",
        "       [[0, 9, 2, 6, 3],\n",
        "        [8, 2, 4, 2, 6],\n",
        "        [4, 8, 6, 1, 3],\n",
        "        [8, 1, 9, 8, 9],\n",
        "        [4, 1, 3, 6, 7]]])"
       ]
      }
     ],
     "prompt_number": 84
    },
    {
     "cell_type": "code",
     "collapsed": false,
     "input": [
      "np.max(test, axis=0)"
     ],
     "language": "python",
     "metadata": {},
     "outputs": [
      {
       "output_type": "pyout",
       "prompt_number": 85,
       "text": [
        "array([[6, 9, 7, 6, 6],\n",
        "       [9, 2, 6, 7, 6],\n",
        "       [4, 8, 7, 2, 5],\n",
        "       [8, 1, 9, 8, 9],\n",
        "       [4, 1, 9, 6, 8]])"
       ]
      }
     ],
     "prompt_number": 85
    },
    {
     "cell_type": "code",
     "collapsed": false,
     "input": [
      "# maximize across labor/leisure\n",
      "tmp_Tw = np.max(u(kStates, kControls, lcontrols) + discount * v.reshape(Nk, 1), axis=0)\n",
      "# next, maximize across consumption\n",
      "Tw = np.max(tmp_Tw + discount * v.reshape(Nk, 1), axis=0) "
     ],
     "language": "python",
     "metadata": {},
     "outputs": [
      {
       "output_type": "pyout",
       "prompt_number": 86,
       "text": [
        "array([9, 9, 9, 8, 9])"
       ]
      }
     ],
     "prompt_number": 86
    },
    {
     "cell_type": "code",
     "collapsed": false,
     "input": [
      "def discreteBellman(w):\n",
      "    \"\"\"An implementation of the Bellman operator. Used to perform\n",
      "    value function iteration over a discretized grid of points with\n",
      "    2 controls and a single state variable.\n",
      "    \n",
      "    Arguments:\n",
      "        \n",
      "        w: an array representing a function defined over the \n",
      "           discrete grid of possible states.\n",
      "    \n",
      "    Returns: \n",
      "        \n",
      "        Tw: an array of values representing the next value function \n",
      "            iterate.\n",
      "\n",
      "    \"\"\"\n",
      "    # maximize across labor/leisure\n",
      "    tmp_Tw = np.max(u(kStates, kControls, lcontrols) + discount * w.reshape(Nk, 1), axis=0)\n",
      "    # next, maximize across consumption\n",
      "    Tw = np.max(tmp_Tw + discount * w.reshape(Nk, 1), axis=0) \n",
      "    \n",
      "    return Tw"
     ],
     "language": "python",
     "metadata": {},
     "outputs": []
    }
   ],
   "metadata": {}
  }
 ]
}